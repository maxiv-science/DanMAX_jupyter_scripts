{
 "cells": [
  {
   "cell_type": "markdown",
   "id": "56a37910-5f9b-4767-a5df-ef2525829f23",
   "metadata": {},
   "source": [
    "# Find corrupted files in proposal folder\n",
    "Running this notebook will scan a proposal folder for corrupt .h5 files and output found files as a list.<br>\n",
    "The proposal name is suplied as a string"
   ]
  },
  {
   "cell_type": "code",
   "execution_count": null,
   "id": "2eae063c-5f09-4f98-8e7f-1878dfaf01aa",
   "metadata": {},
   "outputs": [],
   "source": [
    "proposal = '' # If no proposal number is provided, the one from the current work directory is used\n",
    "\n",
    "#------------------------------------------------\n",
    "import glob\n",
    "import os\n",
    "import h5py\n",
    "import DanMAX as DM\n",
    "\n",
    "if not proposal:\n",
    "    proposal, visit =  DM.getCurrentProposal()\n",
    "fnames = []\n",
    "if not os.path.isdir('/data/visitors/danmax/{0}/'.format(proposal)):\n",
    "    print('Proposal number {} was never meassured at DanMAX!'.format(proposal))\n",
    "else:  \n",
    "    fnames = glob.glob('/data/visitors/danmax/{0}/**/raw/**/*.h5'.format(proposal), recursive=True)\n",
    "\n",
    "print(\"The following files in proposal {0} seems to be corrupted:\".format(proposal))\n",
    "for fname in fnames:\n",
    "    try:\n",
    "        with h5py.Files(fname,'r') as f:\n",
    "            pass\n",
    "    except OSError:\n",
    "        print(fname)      \n",
    "print('Done!')"
   ]
  },
  {
   "cell_type": "markdown",
   "id": "2f2c2da1-6251-497f-80c6-280fb4a9ac2a",
   "metadata": {},
   "source": [
    "## Check integrity of the integrated files <a id='check-integrity'></a>\n",
    "Pairwise compare the size of the raw data files to that of the integrated files. Skips scans where a corresponding __integrated.h5_ file does not exist."
   ]
  },
  {
   "cell_type": "code",
   "execution_count": null,
   "id": "7f1e9167-76ce-49f3-b72a-b338d4a6ec53",
   "metadata": {},
   "outputs": [],
   "source": [
    "print('The following file pairs have mismatching lengths:')\n",
    "pairs = 0\n",
    "mismatch = []\n",
    "\n",
    "for fname in [f for f in fnames if '_integrated.h5' not in f]:\n",
    "    fname_azint = fname.replace('.h5','_integrated.h5').replace('raw/','process/azint/')\n",
    "    try:\n",
    "        with h5py.File(fname,'r') as f:\n",
    "            shape_raw = f['/entry/instrument/pilatus/data'].shape[0]\n",
    "        with h5py.File(fname_azint,'r') as f:\n",
    "            shape_azint = f['I'].shape[0]\n",
    "        if shape_raw != shape_azint:\n",
    "            print(f'{fname.split(proposal)[-1]} != {fname_azint.split(proposal)[-1]}')\n",
    "            print('Number of points:',shape_raw,' vs ',shape_azint,'\\n')\n",
    "            mismatch.append(fname)\n",
    "        pairs += 1\n",
    "    except OSError:\n",
    "        pass\n",
    "    except KeyError:\n",
    "        #print(fname)\n",
    "        pass\n",
    "\n",
    "print('Integrity check complete')\n",
    "print(f'Pairs checked: {pairs}, mismatches: {len(mismatch)}')"
   ]
  },
  {
   "cell_type": "markdown",
   "id": "803c8c23-9872-4e10-bc6a-580c7ce75a2d",
   "metadata": {},
   "source": [
    "## Reintegrate mismatched files\n",
    "Reintegrate the mismatched pairs using .poni settings extracted from the meta data.  \n",
    "Based on the [`azint-integrate.ipynb`](azint-integrate.ipynb) script."
   ]
  },
  {
   "cell_type": "code",
   "execution_count": null,
   "id": "c613fd07-8d0a-4fee-b050-13a24187a5fa",
   "metadata": {},
   "outputs": [],
   "source": [
    "# toggle embedded meta data\n",
    "embed_meta_data = False\n",
    "\n",
    "# Iterate through mismatching files\n",
    "for i,fname in enumerate(mismatch):\n",
    "    print(f'Reintegrating {i+1} of {len(mismatch)}: {fname}')\n",
    "    fname_azint = fname.replace('.h5','_integrated.h5').replace('raw/','process/azint/')\n",
    "    \n",
    "    #fname = '/data/visitors/danmax/PROPOSAL/VISIT/raw/SAMPLE/scan-XXXX_pilatus.h5'\n",
    "    \n",
    "    # temporary poni file path\n",
    "    temp_poni = os.path.join(os.path.dirname(fname_azint),'temp_poni.poni')\n",
    "    \n",
    "    # Extract relevant integration settings\n",
    "    with h5py.File(fname_azint,'r') as f:\n",
    "        if 'q' in f.keys():\n",
    "            x_unit = 'q'\n",
    "        elif '2th' in f.keys():\n",
    "            x_unit = '2th'\n",
    "        poni = f['poni_file'][()]\n",
    "        \n",
    "        config = {'poni_file': temp_poni,\n",
    "                  'mask': f['mask_file'][()],\n",
    "                  'radial_bins': f['I'].shape[-1],\n",
    "                  'azimuth_bins': None,\n",
    "                  'unit': x_unit,\n",
    "                  'n_splitting': 15,\n",
    "                  'error_model': None, # DO NOT CHANGE!\n",
    "                  'polarization_factor': f['polarization_factor'][()],\n",
    "                  'pixel_size': 172.0e-6, # DO NOT CHANGE!\n",
    "                  'shape' : (1679, 1475)} # DO NOT CHANGE!\n",
    "    \n",
    "    # Create/overwrite temporary PONI file\n",
    "    with open(temp_poni,'bw') as pf:\n",
    "        pf.write(poni)\n",
    "    \n",
    "    DM.integrate_file(fname, config, embed_meta_data)\n",
    "    \n",
    "    # delete temporary PONI file\n",
    "    os.remove(temp_poni)\n",
    "print('Done')"
   ]
  },
  {
   "cell_type": "markdown",
   "id": "a27c3f5a-f554-42df-838c-80ef6bb9671f",
   "metadata": {},
   "source": [
    "Run the [`Check integrity`](#check-integrity) cell again."
   ]
  },
  {
   "cell_type": "code",
   "execution_count": null,
   "id": "9e68ae63-a028-4bf2-b13c-cfbe5c926971",
   "metadata": {},
   "outputs": [],
   "source": []
  }
 ],
 "metadata": {
  "kernelspec": {
   "display_name": "Python 3 (ipykernel)",
   "language": "python",
   "name": "python3"
  },
  "language_info": {
   "codemirror_mode": {
    "name": "ipython",
    "version": 3
   },
   "file_extension": ".py",
   "mimetype": "text/x-python",
   "name": "python",
   "nbconvert_exporter": "python",
   "pygments_lexer": "ipython3",
   "version": "3.9.12"
  }
 },
 "nbformat": 4,
 "nbformat_minor": 5
}
