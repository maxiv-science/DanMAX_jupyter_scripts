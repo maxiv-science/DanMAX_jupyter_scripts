{
 "cells": [
  {
   "cell_type": "markdown",
   "id": "ff38747f-24c4-4546-adb6-6ea63536e813",
   "metadata": {},
   "source": [
    "# Azimuthal integration of pilatus data using the python version of MATFRAIA\n",
    "\n",
    "This notebook will use the python implementation of MATFRAIA to azimuthally integrate either a */raw/SAMPLE/\\*_pilatus.h5* file in user-specified bins or an numpy array (image) and save the integrated data in a corresponding */process/azint/SAMPLE/\\*_pilatus_integrated.h5* file.\n",
    "\n",
    "**Required user-input:**  \n",
    "`scans`              : List of scan indices to be integrated  \n",
    "`poni_file`          : Absolute path for the .poni file  \n",
    "`mask`               : Absolute path for the .npy mask file  \n",
    "`radial_bins`        : Number of radial bins (default=3000)  \n",
    "`azimuthal_bins`     : Number of azimuthal bins - See help(DM.integrateFile) for more  \n",
    "`unit`               : \"q\" or \"2th\"  \n",
    "`n_splitting`        : Number of sub-pixel splitting used. The actual number of sub-pixels is N^2. (default=15)  \n",
    "`polarization_factor`: Polarization factor (default=0.999997)  \n",
    "\n",
    "\n",
    "More information about the integration can be found here: [Azimuthal binning](https://wiki.maxiv.lu.se/index.php?title=DanMAX:_Azint_pipeline#Azimuthal_binning)"
   ]
  },
  {
   "cell_type": "code",
   "execution_count": null,
   "id": "8ca987ca-4bab-4e2c-9285-36016f5b7a59",
   "metadata": {},
   "outputs": [],
   "source": [
    "%matplotlib widget\n",
    "import DanMAX as DM\n",
    "import numpy as np\n",
    "import matplotlib.pyplot as plt\n",
    "import azint"
   ]
  },
  {
   "cell_type": "markdown",
   "id": "37a920d2-f001-46ac-8bb3-a49454bfaa7d",
   "metadata": {},
   "source": [
    "#### Setup integration configurations"
   ]
  },
  {
   "cell_type": "code",
   "execution_count": null,
   "id": "12bc2c96-3d60-4363-ae18-ee861b908c58",
   "metadata": {},
   "outputs": [],
   "source": [
    "poni = '/data/visitors/danmax/PROPOSAL/VISIT/process/PONI_FILE.poni'\n",
    "mask = '/data/visitors/danmax/PROPOSAL/VISIT/process/MASK_FILE.npy'\n",
    "\n",
    "config = {'poni'   : poni,\n",
    "          'mask'        : mask,\n",
    "          'radial_bins' : 3000,\n",
    "          'azimuth_bins': None,\n",
    "          'n_splitting' : 15,\n",
    "          'polarization_factor': 0.999997,\n",
    "          'unit'        : '2th',\n",
    "         }"
   ]
  },
  {
   "cell_type": "markdown",
   "id": "c2cf3f75-f1d2-4eac-98c8-94b99c776abe",
   "metadata": {},
   "source": [
    "#### Integrate files\n",
    "This cell showcase how to iteratively integrate .h5 files from a list of scan numbers"
   ]
  },
  {
   "cell_type": "code",
   "execution_count": null,
   "id": "b4cc71bb-789e-4ad7-9f4a-50570f32a022",
   "metadata": {},
   "outputs": [],
   "source": [
    "# list of scan numbers\n",
    "scans = [1234,1235,1236]\n",
    "\n",
    "# set integrator objects to None for the first iteration\n",
    "ai_1d, ai_2d = None, None\n",
    "for scan in scans:\n",
    "    # find file name from scan number\n",
    "    fname = DM.findScan(scan)\n",
    "    print(DM.getScan_id(fname))\n",
    "    # generate file name for azint data\n",
    "    aname = fname.replace('/raw/', '/process/azint/').split('.')[0]+'_pilatus_integrated.h5'\n",
    "    # integrate\n",
    "    data, meta, ai_1d, ai_2d = DM.integration.integrateFile(fname,config, ai_1d=ai_1d, ai_2d=ai_2d,im_corr=None)\n",
    "    # save to .h5 file\n",
    "    DM.integration.writeAzintFile(aname,data,meta=meta)"
   ]
  },
  {
   "cell_type": "markdown",
   "id": "1e4c63eb-2edd-446d-be25-58622fe46c38",
   "metadata": {},
   "source": [
    "#### Integrate images\n",
    "This cell showcase how to integrate images from a single .h5 file. Useful for implementing 2D corrections prior to integration."
   ]
  },
  {
   "cell_type": "code",
   "execution_count": null,
   "id": "0521cbe8-02ec-4d26-89cd-41327e270c0c",
   "metadata": {},
   "outputs": [],
   "source": [
    "scan = 1234\n",
    "# find file name from scan number\n",
    "fname = DM.findScan(scan)\n",
    "# generate file name for azint data\n",
    "aname = fname.replace('/raw/', '/process/azint/').split('.')[0]+'_pilatus_integrated.h5'\n",
    "\n",
    "# HDF5 dataset entry path\n",
    "dset_name = '/entry/instrument/pilatus/data'\n",
    "# read images - Memory heavy!\n",
    "with h5.File(fname,'r') as f:\n",
    "    im = f[dset_name][:]\n",
    "    \n",
    "if False:\n",
    "    t0 = .2 # sample thickness in mm\n",
    "    mu =  20. * 10**-1  # Absorption coefficient in cm-1\n",
    "    A = DM.texture.absorptionCorrection2D(poni, t0, mu, omega=0, chi=0, phi=0, normalize=True)\n",
    "    im *= A\n",
    "# integrate\n",
    "data, meta, ai_1d, ai_2d = DM.integration.integrateImages(im,config, ai_1d=ai_1d, ai_2d=ai_2d)\n",
    "# save to .h5 file\n",
    "DM.integration.writeAzintFile(aname,data,meta=meta)"
   ]
  },
  {
   "cell_type": "code",
   "execution_count": null,
   "id": "bd03e712-c3d7-46c3-a9f3-6e43dafa3b89",
   "metadata": {},
   "outputs": [],
   "source": []
  }
 ],
 "metadata": {
  "kernelspec": {
   "display_name": "HDF5 / Simple Analysis / GPU",
   "language": "python",
   "name": "maxiv-jhub-docker-kernel-hdf5"
  },
  "language_info": {
   "codemirror_mode": {
    "name": "ipython",
    "version": 3
   },
   "file_extension": ".py",
   "mimetype": "text/x-python",
   "name": "python",
   "nbconvert_exporter": "python",
   "pygments_lexer": "ipython3",
   "version": "3.11.6"
  }
 },
 "nbformat": 4,
 "nbformat_minor": 5
}
