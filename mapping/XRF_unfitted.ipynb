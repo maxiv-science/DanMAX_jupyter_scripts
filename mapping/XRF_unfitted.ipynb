{
 "cells": [
  {
   "cell_type": "markdown",
   "id": "ab7cf086-62cc-4c0a-8f06-ae8458576e0a",
   "metadata": {},
   "source": [
    "# Plot XRF maps from flyscans without fitting\n",
    "\n",
    "This notebook will plot XRF  maps from flyscans. It requires data from the `.h5` masterfile, the `_falconx.h5` file.\n",
    "\n",
    "Plots are based on selections of regions of interest\n",
    "\n",
    "The user should provide a list of scan IDs, which will then be read and stitched together.\n",
    "\n",
    "Two ROIs should be defined in the various cells, one for the interval to use for the XRF maps (in keV).\n",
    "\n",
    "NB: This notebooks tries to stitch maps in the data type (*float32*). This works for small dataset with low count rate.\n",
    "For larger datasets, it might be impossible to hold them in memory. try changing the `map_type` paramter of the `stitch_scan` function to `np.uint16`\n",
    "\n",
    "\n",
    "### For XRF\n",
    "\n",
    "Note that this notebook makes RoIs based on the XRF spectrum, it does not fit the XRF data.\n",
    "For XRF fitting use the notebook \"mapping_XRF_fitting\""
   ]
  },
  {
   "cell_type": "markdown",
   "id": "f4f23565-b359-4192-adfb-86b43b2baf7f",
   "metadata": {},
   "source": [
    "### Content\n",
    "[**Import and reshape data**](#import)  \n",
    "[**Plot average fluorescence spectrum**](#avg_spec)  \n",
    "[**Plot XRF maps**](#xrf_map)  \n",
    "[**Plot average diffraction pattern**](#avg_xrd)  \n",
    "[**Plot XRD maps**](#xrd_map)  "
   ]
  },
  {
   "cell_type": "code",
   "execution_count": null,
   "id": "6b97c699-a4a8-4561-8bc8-af24613d874e",
   "metadata": {},
   "outputs": [],
   "source": [
    "%matplotlib widget\n",
    "import os\n",
    "import sys\n",
    "import h5py\n",
    "import numpy as np\n",
    "import matplotlib.pyplot as plt\n",
    "from scipy.interpolate import griddata\n",
    "from IPython.utils import io\n",
    "\n",
    "#To import DanMAX from the folder above:\n",
    "sys.path.append('../')\n",
    "import DanMAX as DM\n",
    "style = DM.darkMode(style_dic={'figure.figsize':'large'})"
   ]
  },
  {
   "cell_type": "code",
   "execution_count": null,
   "id": "c1c0434d-7d19-4e8b-bb54-f6fcc9bc0f1a",
   "metadata": {},
   "outputs": [],
   "source": [
    "# Define list of scan IDs:\n",
    "scans = [XXX]\n",
    "proposal,visit = DM.getCurrentProposal()\n",
    "\n",
    "\n",
    "#Select emmission lines to plot:\n",
    "xrf_rois = {'Ca'    : ( 3.4 ,  4.2),\n",
    "            'Zn'    : ( 8.45,  9.9),\n",
    "            'Zn_Kb' : ( 9.4 ,  9.7),\n",
    "            'Sr'    : (13.85, 14.5)}\n",
    "\n",
    "# 'Ar'    : ( 2.8 ,  3.0 )\n",
    "# 'Ca'    : ( 3.4 ,  4.2 )\n",
    "# 'Ca_Ka' : ( 3.5 ,  3.8 )\n",
    "# 'Ca_Kb' : ( 3.84,  4.04)\n",
    "# 'Zn'    : ( 8.45,  9.9 )\n",
    "# 'Zn_Ka' : ( 8.45,  8.70)\n",
    "# 'Zn_Kb' : ( 9.4 ,  9.7 )\n",
    "# 'Br'    : (11.6 , 12.1 )\n",
    "# 'Sr'    : (13.85, 14.5 )"
   ]
  },
  {
   "cell_type": "markdown",
   "id": "87268d71-6058-49b7-ba10-68de2ca4969f",
   "metadata": {},
   "source": [
    "#### import and reshape data  <a id='import'></a>"
   ]
  },
  {
   "cell_type": "code",
   "execution_count": null,
   "id": "cd572ce2-b109-49df-93d9-691990c1d66a",
   "metadata": {},
   "outputs": [],
   "source": [
    "# import falcon x data\n",
    "\n",
    "snitch = DM.mapping.stitchScans(scans,proposal=proposal,visit=visit,XRD=False)\n",
    "xx = snitch['x_map']\n",
    "yy = snitch['y_map']\n",
    "xrf_map = snitch['xrf_map']\n",
    "energy = snitch['energy']\n",
    "Emax = snitch['Emax']\n",
    "I0_map = snitch['I0_map']\n",
    "\n",
    "del snitch\n",
    "#Apply I0 correction\n",
    "xrf_map = (xrf_map.transpose(2,0,1)/ I0_map).transpose(1,2,0)\n",
    "                                            \n",
    "#use only the correct part of the energyvector\n",
    "energy=energy[energy<Emax*1.1]\n",
    "# calculate average spectrum\n",
    "xrf_avg = np.nanmean(xrf_map,axis=(0,1))\n",
    "print(f'Stitched image dimensions: {xrf_map.shape}')"
   ]
  },
  {
   "cell_type": "markdown",
   "id": "6ba8aad1-de8d-41e5-8f39-a96b53b6bf3f",
   "metadata": {},
   "source": [
    "#### plot the average spectrum  <a id='avg_spec'></a>"
   ]
  },
  {
   "cell_type": "code",
   "execution_count": null,
   "id": "bae9fc66-313b-47ba-8118-995626a79a37",
   "metadata": {},
   "outputs": [],
   "source": [
    "\n",
    "plt.figure()\n",
    "plt.title('Average spectrum')\n",
    "plt.plot(energy,xrf_avg)\n",
    "plt.xlabel('Energy (keV)')\n",
    "plt.ylabel('Intensity')\n",
    "plt.xlim(0,Emax*1.1)\n",
    "# plot emmission lines\n",
    "print('Selected emmission lines:')\n",
    "for key in xrf_rois:\n",
    "    xrf_roi = (energy > xrf_rois[key][0]) & (energy < xrf_rois[key][1])\n",
    "    plt.axvline(xrf_rois[key][0],c='k',ls='--',lw=1)\n",
    "    plt.axvline(xrf_rois[key][1],c='k',ls='--',lw=1)\n",
    "    plt.plot(energy[xrf_roi],xrf_avg[xrf_roi], '.',ms=2,label=f'{key:<8s}: {lines[key][0]:4.1f} - {lines[key][1]:4.1f} keV')\n",
    "plt.legend()"
   ]
  },
  {
   "cell_type": "markdown",
   "id": "40b850c8-62b0-4d60-96b2-591a81649bb7",
   "metadata": {},
   "source": [
    "#### plot XRF heatmaps  <a id='xrf_map'></a>"
   ]
  },
  {
   "cell_type": "code",
   "execution_count": null,
   "id": "12f7ac5a-6c91-4d5b-91e8-50a1768ae505",
   "metadata": {},
   "outputs": [],
   "source": [
    "# Set the number of columns for the figure\n",
    "cols = 4 \n",
    "\n",
    "rows = int(len(xrf_rois)/cols) + (len(xrf_rois)%cols!=0)\n",
    "# initialize subplots with shared x- and y-axes\n",
    "fig,axs = plt.subplots(rows,cols,sharex=True,sharey=True)\n",
    "fig.tight_layout()\n",
    "axs = axs.flatten() # flatten the axes list to make it easier to index\n",
    "\n",
    "for i,key in enumerate(xrf_rois):\n",
    "    lower, upper = xrf_rois[key]\n",
    "    lower, upper = np.digitize(lower, energy), np.digitize(upper, energy)\n",
    "\n",
    "    # reshape the fluorescence signal from the falcon x\n",
    "    #S  = np.mean(falconx[:,lower:upper],axis=1).reshape(map_shape)\n",
    "    xrf = np.mean(xrf_map[:,:,lower:upper],axis=2)\n",
    "    # plot the map as a pseudo colormesh\n",
    "    ax = axs[i]\n",
    "    ax.set_title(key)\n",
    "    pcm = ax.pcolormesh(xx,\n",
    "                        yy,\n",
    "                        xrf,\n",
    "                        norm='log',\n",
    "                        shading='nearest')\n",
    "    fig.colorbar(pcm,ax=ax,aspect=40,pad=0.05)\n",
    "    ax.set_xlabel('x mm')\n",
    "    ax.set_ylabel('y mm')\n",
    "    # set the aspect ratio to equal to give square pixels\n",
    "    ax.set_aspect('equal')\n",
    "\n",
    "# delete surplus plots\n",
    "for i in range(1,cols*rows-len(lines)+1):\n",
    "    fig.delaxes(axs[-i])"
   ]
  }
 ],
 "metadata": {
  "kernelspec": {
   "display_name": "HDF5 / Simple Analysis / GPU",
   "language": "python",
   "name": "maxiv-jhub-docker-kernel-hdf5"
  },
  "language_info": {
   "codemirror_mode": {
    "name": "ipython",
    "version": 3
   },
   "file_extension": ".py",
   "mimetype": "text/x-python",
   "name": "python",
   "nbconvert_exporter": "python",
   "pygments_lexer": "ipython3",
   "version": "3.11.6"
  }
 },
 "nbformat": 4,
 "nbformat_minor": 5
}
