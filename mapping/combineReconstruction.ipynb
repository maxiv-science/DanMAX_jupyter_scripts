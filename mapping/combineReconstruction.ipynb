{
 "cells": [
  {
   "cell_type": "markdown",
   "id": "60ae8010-bdc5-4751-8fb5-eebf5e438a68",
   "metadata": {},
   "source": [
    "# Combine XRD-CT reconstructions in a virtual .h5 file"
   ]
  },
  {
   "cell_type": "code",
   "execution_count": null,
   "id": "4ed6e417-9184-4a40-ac7e-bffee550c632",
   "metadata": {},
   "outputs": [],
   "source": [
    "import os\n",
    "import h5py as h5\n",
    "#To import DanMAX from the folder above:\n",
    "import sys\n",
    "sys.path.append('../')\n",
    "import DanMAX as DM"
   ]
  },
  {
   "cell_type": "code",
   "execution_count": null,
   "id": "d7b010a7-e812-4780-9602-f37128f97b70",
   "metadata": {},
   "outputs": [],
   "source": [
    "scans = []\n",
    "\n",
    "for i,scan in enumerate(scans):\n",
    "    fname = DM.findScan(scan).replace('/raw/','/process/xrd_ct/').replace('.h5','_recon.h5')\n",
    "    dset = '/reconstructed/gridrec'\n",
    "    with h5.File(fname,'r') as f:\n",
    "        if i<1:\n",
    "            layout = h5.VirtualLayout(shape=(len(scans), *f[dset].shape), dtype=f[dset].dtype)\n",
    "            if 'q' in f.keys():\n",
    "                Q = True\n",
    "                x = f['q'][:]\n",
    "            else:\n",
    "                Q = False\n",
    "                x = f['2th'][:]\n",
    "            if 'micrometer_per_px' in f.keys():\n",
    "                um_per_px = f['micrometer_per_px'][()]\n",
    "            else:\n",
    "                um_per_px = None\n",
    "        # create virtual source\n",
    "        vsource = h5.VirtualSource(f[dset])\n",
    "    # add virtual source to virtual layout\n",
    "    layout[i] = vsource\n",
    "\n",
    "# Add virtual dataset to output file\n",
    "dst = os.path.join(dir,'virtual.h5')\n",
    "with h5.File(dst, 'w', libver='latest') as f:\n",
    "    f.create_virtual_dataset(dset, layout, fillvalue=-5)\n",
    "    if Q:\n",
    "        f.create_dataset('q',data=x)\n",
    "    else:\n",
    "        f.create_dataset('2th',data=x)\n",
    "    if not um_per_px is None:\n",
    "        f.create_dataset('micrometer_per_px',data=um_per_px)\n"
   ]
  }
 ],
 "metadata": {
  "kernelspec": {
   "display_name": "HDF5 / Simple Analysis / GPU",
   "language": "python",
   "name": "maxiv-jhub-docker-kernel-hdf5"
  },
  "language_info": {
   "codemirror_mode": {
    "name": "ipython",
    "version": 3
   },
   "file_extension": ".py",
   "mimetype": "text/x-python",
   "name": "python",
   "nbconvert_exporter": "python",
   "pygments_lexer": "ipython3",
   "version": "3.11.6"
  }
 },
 "nbformat": 4,
 "nbformat_minor": 5
}
