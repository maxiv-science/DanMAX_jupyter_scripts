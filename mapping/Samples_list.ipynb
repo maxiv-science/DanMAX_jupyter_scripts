{
 "cells": [
  {
   "cell_type": "code",
   "execution_count": null,
   "id": "aab82c91-acae-4b31-bdcc-8ed02443b287",
   "metadata": {},
   "outputs": [],
   "source": [
    "#Import necessary libaries\n",
    "\n",
    "%matplotlib widget\n",
    "import os\n",
    "import sys\n",
    "import numpy as np\n",
    "import matplotlib.pyplot as plt\n",
    "import h5py\n",
    "import scipy.ndimage as ndimage\n",
    "#To import DanMAX from the folder above:\n",
    "sys.path.append('../')\n",
    "import DanMAX as DM\n",
    "import json\n",
    "style = DM.darkMode(style_dic={'figure.figsize':'large'})"
   ]
  },
  {
   "cell_type": "code",
   "execution_count": 2,
   "id": "2b65c475-0bf5-4ba8-b11c-154312c34164",
   "metadata": {},
   "outputs": [],
   "source": [
    "groups = { \n",
    "\t'group': {\n",
    "\t\t'sample_1': [i for i in range(XXX,XXX)],\n",
    "\t\t'sample_2': [i for i in range(XXX,XXX)],\n",
    "\n",
    "    },\n",
    "}\n",
    "\n",
    "DM.saveProposalScans(groups)\n"
   ]
  }
 ],
 "metadata": {
  "kernelspec": {
   "display_name": "Bloch / Beamline Analysis",
   "language": "python",
   "name": "maxiv-jhub-hpc-kernel-bloch"
  },
  "language_info": {
   "codemirror_mode": {
    "name": "ipython",
    "version": 3
   },
   "file_extension": ".py",
   "mimetype": "text/x-python",
   "name": "python",
   "nbconvert_exporter": "python",
   "pygments_lexer": "ipython3",
   "version": "3.9.1"
  }
 },
 "nbformat": 4,
 "nbformat_minor": 5
}
