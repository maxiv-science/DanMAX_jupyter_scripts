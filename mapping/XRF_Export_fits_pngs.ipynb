{
 "cells": [
  {
   "cell_type": "markdown",
   "id": "260996d2-98cb-402f-8541-1bcaf35ce386",
   "metadata": {},
   "source": [
    "# Export XRF Fits to png images\n",
    "\n",
    "This notebook will export xrf fits of mapping scans as png images.\n",
    "The scans can either be single scans, or a set of scans taken across a sample to reduce the sample files.\n",
    "All the scans should be from the same sample and same region, with a small overlap in motor positions.\n",
    "(Basically a set of scans created by the mapping tool for a single region)\n",
    "\n",
    "*Remember to run XRF_fitting.ipynb first, this notebook wil not run otherwise!!*\n",
    "\n",
    "#### Note that the scans *must* be given in list form, even if it is a single scan!\n",
    "The list should ideally come fromthe scan database"
   ]
  },
  {
   "cell_type": "code",
   "execution_count": null,
   "id": "6966cc4c-8ba5-4403-988a-5e7865af4a88",
   "metadata": {},
   "outputs": [],
   "source": [
    "#Import necessary libaries\n",
    "\n",
    "%matplotlib widget\n",
    "import os\n",
    "import sys\n",
    "import numpy as np\n",
    "import matplotlib.pyplot as plt\n",
    "import h5py\n",
    "#To import DanMAX from the folder above:\n",
    "sys.path.append('../')\n",
    "import DanMAX as DM\n",
    "from lib.xrf_pyMCA_fit import xrfBatch\n",
    "style = DM.darkMode(style_dic={'figure.figsize':'large'})\n",
    "\n",
    "def _limit_map(im,minmax):\n",
    "    im[im<minmax[0]] = minmax[0]\n",
    "    im[im>minmax[1]] = minmax[1]\n",
    "    return (im-minmax[0])/(minmax[1]-minmax[0])\n",
    "\n",
    "def _save_im(im,save_folder,save_file):\n",
    "                if not os.path.isdir(save_folder):\n",
    "                    os.makedirs(save_folder)\n",
    "                    os.chmod(save_folder,0o770)\n",
    "                plt.imsave(save_file,im)\n",
    "                os.chmod(save_file,0o770)"
   ]
  },
  {
   "cell_type": "code",
   "execution_count": null,
   "id": "e8be0ab1-16b6-436f-9695-a2f934f701c1",
   "metadata": {},
   "outputs": [],
   "source": [
    "#Select scans to fit, must be a list!!!\n",
    "groups = DM.getProposalScans()\n",
    "#Define parameters to find the data\n",
    "proposal,visit = DM.getCurrentProposal() #Default will be collected from the current path, you can set others, if you wish to use data from a previous beamtime\n",
    "proposal_type,beamline = DM.getCurrentProposalType()\n",
    "\n",
    "#Sessionpath will tell the fitter which proposal and visit it should read data from\n",
    "#This will also be used to find where to store fitted data\n",
    "sessionpath = f'/data/{proposal_type}/{beamline}/{proposal}/{visit}/' #Default will be f'/data/visitors/danmax/{proposal}/{visit}/'"
   ]
  },
  {
   "cell_type": "markdown",
   "id": "073de1e9-5f9f-41ba-8d74-5388c157897c",
   "metadata": {},
   "source": [
    "## Export images to png files\n",
    "The following code snippits takes the fitted maps from above and exports them as images."
   ]
  },
  {
   "cell_type": "code",
   "execution_count": null,
   "id": "5783d5ff-9dc4-470b-aff1-ae105db6a4ed",
   "metadata": {},
   "outputs": [],
   "source": [
    "#Define the information needed to export the fits\n",
    "\n",
    "#Define which maps to plot, the lists give the lower and upper limit.\n",
    "#Set limits to \"None\" for default value\n",
    "elements_to_export = {'Ca_K':{'color': 'R','limit':[20, 700]},\n",
    "               'Sr_K': {'color': 'R','limit': [20, 220]},\n",
    "               'Zn_K': {'color': 'R','limit': [10, 150]},\n",
    "                }\n",
    "\n",
    "#Set elements to be combined before exporting, will be R,G,B, and use limits from above\n",
    "elements_to_combine = [['Ca_K','Sr_K','Zn_K']]\n",
    "#Set the base path in the h5 fit file to the fit maps\n",
    "h5_fit_path = 'xrf_fits/xrf_fit/results/parameters/'\n",
    "\n",
    "#Set the location of the scalebar \n",
    "scale_place = [[10,15],[10,49]]"
   ]
  },
  {
   "cell_type": "code",
   "execution_count": null,
   "id": "7a87f8cb-2c8a-44c0-a43f-72543e634394",
   "metadata": {},
   "outputs": [],
   "source": [
    "\n",
    "for group in groups:\n",
    "    print(f'Making figures for group: {group}')\n",
    "    for sample in groups[group]:\n",
    "        print(f'\\tMaking figures for sample: {sample}')\n",
    "        scans = groups[group][sample]\n",
    "        fit_folder, fit_file = DM.mapping.getXRFFitFilename(scans,proposal_type,beamline,proposal,visit)\n",
    "        xrf_file = f'{fit_folder}/elements/{fit_file}'\n",
    "        for element in elements_to_export:\n",
    "            with h5py.File(xrf_file,'r') as xfile:\n",
    "                element_map= _limit_map(xfile[f'{h5_fit_path}{element}'][:],elements_to_export[element]['limit'])\n",
    "                \n",
    "            if elements_to_export[element]['color'] in 'Red':\n",
    "                elmap = DM.mapping.combineMaps(element_map,np.zeros(element_map.shape),np.zeros(element_map.shape), scale_place=scale_place)\n",
    "            elif elements_to_export[element]['color'] in 'Green':\n",
    "                elmap = DM.mapping.combineMaps(np.zeros(element_map.shape),element_map,np.zeros(element_map.shape), scale_place=scale_place) \n",
    "            elif elements_to_export[element]['color'] in 'Blue':\n",
    "                elmap = DM.mapping.combineMaps(np.zeros(element_map.shape),np.zeros(element_map.shape),element_map, scale_place=scale_place)\n",
    "            save_folder = f'/data/{proposal_type}/{beamline}/{proposal}/{visit}/process/xrf_fit_images/{group}_individual'\n",
    "            save_file = f'{save_folder}/{group}_{sample}_{element}.png'\n",
    "            _save_im(elmap,save_folder,save_file)\n",
    "        for combination in elements_to_combine:\n",
    "            with h5py.File(xrf_file,'r') as xfile:\n",
    "                red_map = _limit_map(xfile[f'{h5_fit_path}{combination[0]}'][:],elements_to_export[combination[0]]['limit'])\n",
    "                green_map = _limit_map(xfile[f'{h5_fit_path}{combination[1]}'][:],elements_to_export[combination[1]]['limit'])\n",
    "                blue_map = _limit_map(xfile[f'{h5_fit_path}{combination[2]}'][:],elements_to_export[combination[2]]['limit'])\n",
    "            elmap = DM.mapping.combineMaps(red_map,green_map,blue_map,scale_place=scale_place)\n",
    "            save_folder = f'/data/{proposal_type}/{beamline}/{proposal}/{visit}/process/xrf_fit_images/{group}_combination'\n",
    "            save_file = f'{save_folder}/{group}_{sample}_{combination[0]}_{combination[1]}_{combination[2]}.png'\n",
    "            _save_im(elmap,save_folder,save_file)"
   ]
  }
 ],
 "metadata": {
  "kernelspec": {
   "display_name": "HDF5 / Simple Analysis / GPU",
   "language": "python",
   "name": "maxiv-jhub-hpc-kernel-hdf5"
  },
  "language_info": {
   "codemirror_mode": {
    "name": "ipython",
    "version": 3
   },
   "file_extension": ".py",
   "mimetype": "text/x-python",
   "name": "python",
   "nbconvert_exporter": "python",
   "pygments_lexer": "ipython3",
   "version": "3.9.7"
  }
 },
 "nbformat": 4,
 "nbformat_minor": 5
}
