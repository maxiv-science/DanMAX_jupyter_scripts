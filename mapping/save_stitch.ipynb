{
 "cells": [
  {
   "cell_type": "markdown",
   "id": "ab7cf086-62cc-4c0a-8f06-ae8458576e0a",
   "metadata": {
    "tags": []
   },
   "source": [
    "# Save stitched XRD and XRF maps from flyscans\n",
    "\n",
    "This notebook stitch and save XRF and XRD maps from a flyscan. It requires data from the `.h5` masterfile, the '_falconx.h5' and the `_pilatus_integrated.h5` file.\n",
    "\n",
    "The stitched file will then be saved in `/process/stitced_map`"
   ]
  },
  {
   "cell_type": "markdown",
   "id": "efe87bab-a945-4fa4-bbea-714d38906053",
   "metadata": {
    "tags": []
   },
   "source": [
    "### Load data and plot average XRD for the map"
   ]
  },
  {
   "cell_type": "code",
   "execution_count": null,
   "id": "a05dc482-ef4b-4ffd-ab96-3cbc5ccff0e5",
   "metadata": {},
   "outputs": [],
   "source": [
    "%matplotlib widget\n",
    "import os\n",
    "import sys\n",
    "import h5py\n",
    "import numpy as np\n",
    "import matplotlib.pyplot as plt\n",
    "#To import DanMAX from the folder above:\n",
    "sys.path.append('../')\n",
    "import DanMAX as DM\n",
    "style = DM.darkMode(style_dic={'figure.figsize':'large'})"
   ]
  },
  {
   "cell_type": "code",
   "execution_count": null,
   "id": "fef55778-944d-4087-a6a4-a1987a08f52c",
   "metadata": {},
   "outputs": [],
   "source": [
    "# Define scan location:\n",
    "#Note that scans_sets must be a list of lists, the first entry in each sublist is a list of scans. then XRD boolean and XRF boolean !\n",
    "scan_sets = [\n",
    "    [list(range(XXX,XXX)), True, False],\n",
    "    [list(range(XXX,XXX)), True, True],\n",
    "]\n",
    "\n",
    "proposal,visit=DM.getCurrentProposal()\n",
    "\n",
    "#Select ranges to load (in the unit the data were integrated with)\n",
    "#useful for reducing the size of large datasets\n",
    "xrd_range = None\n",
    "azi_range = None\n",
    "\n",
    "for scans in scan_sets:\n",
    "    \n",
    "    print(f'Loading scans {scans[0][0]}–{scans[0][-1]}')\n",
    "    XRD = scans[1]\n",
    "    XRF = scans[2]\n",
    "\n",
    "    #Load data\n",
    "    maps = DM.mapping.stitchScans(scans[0],XRF=XRF,XRD=XRD,proposal=proposal,visit=visit,xrd_range=xrd_range,azi_range=azi_range)\n",
    "    #Apply I0 correction\n",
    "    if not maps['xrd_map'] is None:\n",
    "        maps['xrd_map'] = (maps['xrd_map'].transpose(2,0,1)/ maps['I0_map']).transpose(1,2,0)\n",
    "    if not maps['xrf_map'] is None:\n",
    "        maps['xrf_map'] = (maps['xrf_map'].transpose(2,0,1)/ maps['I0_map']).transpose(1,2,0)\n",
    "    \n",
    "    print(f'Saving scans {scans[0][0]}–{scans[0][-1]}')\n",
    "    DM.mapping.save_maps(maps,scans[0],proposal=proposal,visit=visit)\n",
    "    \n",
    "\n"
   ]
  }
 ],
 "metadata": {
  "kernelspec": {
   "display_name": "HDF5 / Simple Analysis / GPU",
   "language": "python",
   "name": "maxiv-jhub-hpc-kernel-hdf5"
  },
  "language_info": {
   "codemirror_mode": {
    "name": "ipython",
    "version": 3
   },
   "file_extension": ".py",
   "mimetype": "text/x-python",
   "name": "python",
   "nbconvert_exporter": "python",
   "pygments_lexer": "ipython3",
   "version": "3.9.7"
  }
 },
 "nbformat": 4,
 "nbformat_minor": 5
}
