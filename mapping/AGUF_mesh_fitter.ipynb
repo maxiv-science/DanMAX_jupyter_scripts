{
 "cells": [
  {
   "cell_type": "markdown",
   "id": "383e1539-0b88-43bc-9ff9-eb3db3c8dec0",
   "metadata": {},
   "source": [
    "# AGUF for a set of maps of scans.\n",
    "\n",
    "Runs AGUF fitting on a map of scans\n",
    "see Jensen, A. B., Christensen, T. E. K., Weninger, C. & Birkedal, H. (2022). J. Synchrotron Rad. 29, 1420-1428. (https://doi.org/10.1107/S1600577522008232)"
   ]
  },
  {
   "cell_type": "code",
   "execution_count": null,
   "id": "38aaa13c-6a01-4712-b8b5-0b22a8555335",
   "metadata": {},
   "outputs": [],
   "source": [
    "#Import necessary libaries\n",
    "\n",
    "%matplotlib widget\n",
    "import os\n",
    "import sys\n",
    "import numpy as np\n",
    "import matplotlib.pyplot as plt\n",
    "import h5py\n",
    "import scipy.ndimage as ndimage\n",
    "import json\n",
    "#To import DanMAX from the folder above:\n",
    "sys.path.append('../')\n",
    "import DanMAX as DM\n",
    "    \n",
    "style = DM.darkMode(style_dic={'figure.figsize':'large'})\n",
    "\n",
    "def flatten(maps, nanangles, bkgtth, datatth,local_bkg=True):\n",
    "    if local_bkg:\n",
    "        flat_data = np.mean(maps['cake_map'][:,:,:,datatth],axis=3) -np.mean(maps['cake_map'][:,:,:,bkgtth],axis=3)\n",
    "    else:\n",
    "        flat_data = np.mean(maps['cake_map'][:,:,:,datatth],axis=3)\n",
    "    flat_data[:,:,nanangles] = np.nan\n",
    "    azi = maps['azi']*np.pi/180\n",
    "    return flat_data, azi"
   ]
  },
  {
   "cell_type": "markdown",
   "id": "510717d6-c1f8-4037-b82d-42ca2dc5558f",
   "metadata": {},
   "source": [
    "## Define samples as groups of individuals of scans"
   ]
  },
  {
   "cell_type": "code",
   "execution_count": null,
   "id": "aaa7fe27-d5bc-4fdb-a86c-e7ce23319db7",
   "metadata": {},
   "outputs": [],
   "source": [
    "\n",
    "groups = DM.getProposalScans()\n",
    "proposal,visit = DM.getCurrentProposal() "
   ]
  },
  {
   "cell_type": "markdown",
   "id": "fcbdcc2e-7914-4380-8dbc-a1bf8ab5ed79",
   "metadata": {
    "tags": []
   },
   "source": [
    "# Single scan AGUF\n",
    "\n",
    "Find the `xrd_range` parameter in the XRD_map notebook.\n",
    "The parameter should be from a little before to a little after the peak.\n",
    "\n",
    "It limits how much data will be loaded, but it needs to contain so local background, so it can be subtracted."
   ]
  },
  {
   "cell_type": "code",
   "execution_count": null,
   "id": "51e06153-2cc8-4bac-8b7e-aab315f7b6a6",
   "metadata": {},
   "outputs": [],
   "source": [
    "scans = groups[list(groups.keys())[0]][list(groups[list(groups.keys())[0]].keys())[0]]\n",
    "xrd_range = [0.8,1.2]\n",
    "azi_range = None # chi values of interest\n",
    "maps = DM.mapping.stitchScans(scans,XRF=False,XRD_cake=True,proposal=proposal,visit=visit,xrd_range=xrd_range,azi_range=azi_range)\n",
    "maps['cake_map'] = (maps['cake_map'].transpose(2,3,0,1)/ maps['I0_map']).transpose(2,3,0,1)"
   ]
  },
  {
   "cell_type": "markdown",
   "id": "db35b837-619f-40b7-92cd-d3226951a573",
   "metadata": {},
   "source": [
    "### Find the angles without data. should be any angle containing a pure 0 from the mask, as it can mess up the averages.\n",
    "\n",
    "Write a list of the indexes corrosponding to the bad angles. should be comma separated in a `np.r_[]`\n",
    "\n",
    "The grap below will be zero or one. anywhere that is either 1 or touching a 1 should be excluded. \n",
    "Remember that python ranges don't include the last symbol.\n",
    "\n",
    "so if indexes 5--10, and 55--78 [inclusive] are zeroes, nanangles should be set as follows:\n",
    "\n",
    "`nanangles = np.r_[4:12,54:80]`\n",
    "\n",
    "Otherwise you can use the printed guess"
   ]
  },
  {
   "cell_type": "code",
   "execution_count": null,
   "id": "4506bed3-23c6-4242-b022-1ca36a1e462f",
   "metadata": {},
   "outputs": [],
   "source": [
    "plt.figure()\n",
    "plt.plot(np.sum(maps['cake_map']==0,axis=(0,1,3))>0)\n",
    "\n",
    "nanangles_guess = np.arange(0,maps['cake_map'].shape[2])[np.sum(maps['cake_map']==0,axis=(0,1,3))>0]\n",
    "print(nanangles_guess)"
   ]
  },
  {
   "cell_type": "code",
   "execution_count": null,
   "id": "6b774f7e-90ff-4d6b-afb1-574b919a67ad",
   "metadata": {},
   "outputs": [],
   "source": [
    "nanangles = np.r_[0:32,\n",
    "                59:74,\n",
    "                105:147,\n",
    "                175:180]"
   ]
  },
  {
   "cell_type": "markdown",
   "id": "e6ac7cdc-d8e1-4e1c-93e0-a49889dbe7f3",
   "metadata": {},
   "source": [
    "### Find indexes for use as diffraction signal and for background\n",
    "\n",
    "Use the graph below to find which indexes should be used for background and which to use as data\n",
    "\n",
    "Remember again that the first index is included, and the last is excluded.\n",
    "\n",
    "So to use indexes 0–4 and 15–19 [inclusive] as background, and 5–14 as data set in code:\n",
    "\n",
    "`bkgtth = np.r_[0:5,15:20]`\n",
    "\n",
    "`datatth = np.r_[5:15]`"
   ]
  },
  {
   "cell_type": "code",
   "execution_count": null,
   "id": "b6f99046-4159-4fff-9c6e-59a4f0820073",
   "metadata": {},
   "outputs": [],
   "source": [
    "plt.figure()\n",
    "plt.plot(np.sum(maps['cake_map'],axis=(0,1,2)))\n"
   ]
  },
  {
   "cell_type": "code",
   "execution_count": null,
   "id": "e1471214-e366-40fa-b33b-711dc6eb65ac",
   "metadata": {},
   "outputs": [],
   "source": [
    "bkgtth = np.r_[0:4,10:14] # indexes from background\n",
    "datatth = np.s_[4:10] #Indexes for data in loaded data.\n"
   ]
  },
  {
   "cell_type": "markdown",
   "id": "f37fd8eb-718d-455c-a3a9-db16fb35f20a",
   "metadata": {},
   "source": [
    "### Find Phase background\n",
    "Use the following two cell to set a good threshold.\n",
    "It should be high enough that air/kapton is not included in the fit, as this can drastically slow down the process.\n",
    "\n",
    "It should hovever not be so high that Important features are lost. Idealy the limit should also work across multiple samples.\n",
    "use the parameter `phase_mask_limit`"
   ]
  },
  {
   "cell_type": "code",
   "execution_count": null,
   "id": "d7c52799-9a93-40a7-9d2a-87e1c2a12185",
   "metadata": {},
   "outputs": [],
   "source": [
    "flat,chi = flatten(maps,nanangles,bkgtth,datatth,False)\n",
    "phase_mask_limit = 5000\n",
    "plt.figure()\n",
    "plt.imshow(np.nansum(flat,axis=2)>phase_mask_limit)"
   ]
  },
  {
   "cell_type": "markdown",
   "id": "a4cfab38-437f-426b-8112-bb9c806e3fef",
   "metadata": {},
   "source": [
    "## Run single scan AGUF.\n",
    "\n",
    "Run AGUF and show the figure."
   ]
  },
  {
   "cell_type": "code",
   "execution_count": null,
   "id": "e092db69-fc41-4a30-b1cf-e113569b3749",
   "metadata": {},
   "outputs": [],
   "source": [
    "flat,chi = flatten(maps,nanangles,bkgtth,datatth,False)\n",
    "mask = np.nansum(flat,axis=2)>8000\n",
    "\n",
    "\n",
    "fitmap = DM.fitting.fitMesh(DM.fitting.circleGaussFit,chi,flat,mask,verbose=True)\n",
    "fit_params,names = DM.fitting.parseFitMesh(DM.fitting.parseCircleGaussFit,fitmap)"
   ]
  },
  {
   "cell_type": "code",
   "execution_count": null,
   "id": "5bc3101e-fc3c-4736-8c47-7bd8d7c76f96",
   "metadata": {},
   "outputs": [],
   "source": [
    "\n",
    "Hue = fit_params[:,:,0]\n",
    "DoO = fit_params[:,:,1]\n",
    "I_tot = fit_params[:,:,2]\n",
    "\n",
    "aguf_im = DM.mapping.combineMaps((Hue+0.5) % 1,DoO,I_tot/np.max(I_tot),True,[[10,15],[10,49]])\n",
    "plt.figure()\n",
    "plt.imshow(aguf_im)"
   ]
  },
  {
   "cell_type": "markdown",
   "id": "257c7635-fa9d-4860-9e89-84a8aa28b75a",
   "metadata": {},
   "source": [
    "# Bulk AGUF\n",
    "\n",
    "First set the parameters for every peak.\n",
    "The code above is used to find the settings for a single peak.\n",
    "The following allows for bulk computations of multiple peaks and multiple samples.\n",
    "\n",
    "You can use a mask based on the mask_maker notebook, or choose to set a threshold for every peak using the `phase_mask_limit`\n",
    "To use the phase specific limit, set `use_phase_mask: True`.\n",
    "The saved mask is best if you have colocalized phases, otherwise use the phase_mask.\n",
    "\n",
    "\n",
    "Then run the next two cells to run AGUF on all peaks for all samples and groups in the groups variable"
   ]
  },
  {
   "cell_type": "code",
   "execution_count": null,
   "id": "81f50bb5-2a1c-44f0-8244-b6cba69e1f83",
   "metadata": {},
   "outputs": [],
   "source": [
    "peaks = {\n",
    "    '002': {\n",
    "        'xrd_range': [7.95,8.55], # tth/q values for the peak of interest\n",
    "        'azi_range': None, # chi values of interest:\n",
    "        'nanangles':np.r_[9:24,\n",
    "                        71:83,\n",
    "                        92:97,\n",
    "                        98:106,\n",
    "                        117:126,\n",
    "                        144:153,\n",
    "                        156:162,\n",
    "                        173:177], # Angles not to use doe to lines on detector Find elsewhere\n",
    "        'bkgtth': np.r_[0:6,14:20], # indexes from background\n",
    "        'datatth': np.s_[6:14], #Indexes for data in loaded data.\n",
    "        'local_background': True, # Use local background, true for diffraction\n",
    "        'phase_mask_limit': 100, # Limit data must be above\n",
    "        'chi_shift': 0, # shift applied to chi before plotting\n",
    "        'use_phase_mask': True, # Create mask from loaded data and phase_mask_limit\n",
    "    },\n",
    "    'saxs': {\n",
    "        'xrd_range': [0.8,1.2], # tth/q values for the peak of interest\n",
    "        'azi_range': None, # chi values of interest:\n",
    "        'nanangles':np.r_[0:32,\n",
    "                            59:74,\n",
    "                            105:147,\n",
    "                            175:180], # Angles not to use doe to lines on detector Find elsewhere\n",
    "        'bkgtth': np.r_[0:4,10:14], # indexes from background\n",
    "        'datatth': np.s_[4:10], #Indexes for data in loaded data.\n",
    "        'local_background': False, # Use local background, true for diffraction\n",
    "        'phase_mask_limit': 8000, # Limit data must be above\n",
    "        'chi_shift': 0.5, # shift applied to chi before plotting\n",
    "        'use_phase_mask': True, # Create mask from loaded data and phase_mask_limit\n",
    "    },\n",
    "}\n"
   ]
  },
  {
   "cell_type": "markdown",
   "id": "5e2158b8-b811-4f6e-b024-1b863abec008",
   "metadata": {},
   "source": [
    "## Run AGUF\n",
    "\n",
    "Runs AGUF on all datasets and saves the results in process/aguf_fits"
   ]
  },
  {
   "cell_type": "code",
   "execution_count": null,
   "id": "d4be2dbb-35c2-4740-85e0-2175f8d5ace2",
   "metadata": {},
   "outputs": [],
   "source": [
    "for peak in peaks:\n",
    "    print(f'Fitting peak: {peak}')\n",
    "    xrd_range = peaks[peak]['xrd_range']\n",
    "    azi_range = peaks[peak]['azi_range']\n",
    "    nanangles = peaks[peak]['nanangles']\n",
    "    bkgtth = peaks[peak]['bkgtth']\n",
    "    datatth = peaks[peak]['datatth']\n",
    "    phase_mask_limit = peaks[peak]['phase_mask_limit']\n",
    "    use_phase_mask = peaks[peak]['use_phase_mask']\n",
    "    local_background = peaks[peak]['local_background']\n",
    "    for group in groups:\n",
    "        print(f'\\tWorking on group: {group}')\n",
    "        file_exists = False\n",
    "        for animal in groups[group]:\n",
    "            print(f'\\t\\tFitting animal: {animal}')\n",
    "            scans = groups[group][animal]\n",
    "            maps = DM.mapping.stitchScans(scans,XRF=False,XRD_cake=True,proposal=proposal,visit=visit,xrd_range=xrd_range,azi_range=azi_range)\n",
    "            maps['cake_map'] = (maps['cake_map'].transpose(2,3,0,1)/ maps['I0_map']).transpose(2,3,0,1)\n",
    "            \n",
    "            process_folder = DM.getAzintFname(DM.findScan(groups[group][animal][0])).split('/azint/')[0]\n",
    "            \n",
    "            \n",
    "            flat,chi = flatten(maps,nanangles,bkgtth,datatth,local_background)\n",
    "            if use_phase_mask:\n",
    "                mask = np.nansum(flat,axis=2)>phase_mask_limit\n",
    "            else:\n",
    "                mask_file =  f'{process_folder}/mask/{group}.h5'\n",
    "                with h5py.File(mask_file, 'r') as mf:\n",
    "                    mask = mf[f'mask/{animal}'][:]\n",
    "            \n",
    "            fitmap = DM.fitting.fitMesh(DM.fitting.circleGaussFit,chi,flat,mask,verbose=True)\n",
    "            fit_params,names = DM.fitting.parseFitMesh(DM.fitting.parseCircleGaussFit,fitmap)\n",
    "            save_folder =f'{process_folder}/aguf_fits/peak_{peak}'\n",
    "            save_file = f'{save_folder}/{group}.h5'\n",
    "            if not os.path.isdir(save_folder):\n",
    "                os.makedirs(save_folder)\n",
    "                os.chmod(save_folder,0o770)\n",
    "            if not file_exists:\n",
    "                file_exists=True\n",
    "                if os.path.isfile(save_file):\n",
    "                    os.system(f'rm {save_file}')\n",
    "                with h5py.File(save_file, 'w') as sf:\n",
    "                    sf.create_group(f'{animal}')\n",
    "            with h5py.File(save_file, 'a') as sf:\n",
    "                for i,name in enumerate(names):\n",
    "                    sf.create_dataset(f'{animal}/{name}',data = fit_params[:,:,i])\n",
    "            os.chmod(save_file,0o770)"
   ]
  },
  {
   "cell_type": "markdown",
   "id": "3e45b87f-d671-4290-a50f-555a44c915a2",
   "metadata": {},
   "source": [
    "## Create AGUF Figures"
   ]
  },
  {
   "cell_type": "code",
   "execution_count": null,
   "id": "a53226f6-a24b-46e1-8210-0c871aa26cd7",
   "metadata": {},
   "outputs": [],
   "source": [
    "for peak in peaks:\n",
    "    print(f'Making figures for peak: {peak}')\n",
    "    chi_shift = peaks[peak]['chi_shift']\n",
    "    for group in groups:\n",
    "        print(f'\\tMaking figures for group: {group}')\n",
    "        file_exists = False\n",
    "        for animal in groups[group]:\n",
    "            print(f'\\t\\tFigures for: {animal}')\n",
    "            scans = groups[group][animal]\n",
    "            process_folder = DM.getAzintFname(DM.findScan(groups[group][animal][0])).split('/azint/')[0]\n",
    "            \n",
    "            fit_folder =f'{process_folder}/aguf_fits/peak_{peak}'\n",
    "            fit_file = f'{fit_folder}/{group}.h5'\n",
    "            with h5py.File(fit_file, 'r') as ff:\n",
    "                Hue = (ff[f'{animal}/H'][:]+chi_shift) % 1\n",
    "                DoO = ff[f'{animal}/DoO'][:]\n",
    "                I_tot = ff[f'{animal}/I_tot'][:]\n",
    "    \n",
    "            def _save_im(im,type):\n",
    "                save_folder = f'{process_folder}/aguf_figures/peak_{peak}/{type}'\n",
    "                save_file = f'{save_folder}/{group}_{animal}.png'\n",
    "                if not os.path.isdir(save_folder):\n",
    "                    os.makedirs(save_folder)\n",
    "                    os.chmod(save_folder,0o770)\n",
    "                plt.imsave(save_file,im)\n",
    "                os.chmod(save_file,0o770)\n",
    "            aguf_im = DM.mapping.combineMaps(Hue,DoO,I_tot/np.max(I_tot),True,[[10,15],[10,49]])\n",
    "            _save_im(aguf_im,'full')\n",
    "            aguf_im = DM.mapping.combineMaps(Hue,DoO!=0,DoO,True,[[10,15],[10,49]])\n",
    "            _save_im(aguf_im,'DoO')\n",
    "            aguf_im = DM.mapping.combineMaps(Hue,DoO!=0,I_tot/np.max(I_tot),True,[[10,15],[10,49]])\n",
    "            _save_im(aguf_im,'I_tot')"
   ]
  },
  {
   "cell_type": "code",
   "execution_count": null,
   "id": "b9ae11a0-34ce-42ec-a139-ae30363d6a5c",
   "metadata": {},
   "outputs": [],
   "source": []
  }
 ],
 "metadata": {
  "kernelspec": {
   "display_name": "HDF5 / Standard Analysis / GPU",
   "language": "python",
   "name": "maxiv-jup-kernel-hdf5"
  },
  "language_info": {
   "codemirror_mode": {
    "name": "ipython",
    "version": 3
   },
   "file_extension": ".py",
   "mimetype": "text/x-python",
   "name": "python",
   "nbconvert_exporter": "python",
   "pygments_lexer": "ipython3",
   "version": "3.11.6"
  }
 },
 "nbformat": 4,
 "nbformat_minor": 5
}
