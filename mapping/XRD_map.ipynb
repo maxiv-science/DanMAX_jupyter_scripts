{
 "cells": [
  {
   "cell_type": "markdown",
   "id": "ab7cf086-62cc-4c0a-8f06-ae8458576e0a",
   "metadata": {
    "tags": []
   },
   "source": [
    "# Plot XRD maps from flyscans\n",
    "\n",
    "This notebook will plot an XRD map from a flyscan. It requires data from the `.h5` masterfile and the `_pilatus_integrated.h5` file.\n",
    "\n",
    "A ROI for the XRD map (in radial bins) should be defined in one of the cell below."
   ]
  },
  {
   "cell_type": "markdown",
   "id": "efe87bab-a945-4fa4-bbea-714d38906053",
   "metadata": {
    "tags": []
   },
   "source": [
    "### Load data and plot average XRD for the map"
   ]
  },
  {
   "cell_type": "code",
   "execution_count": null,
   "id": "a05dc482-ef4b-4ffd-ab96-3cbc5ccff0e5",
   "metadata": {},
   "outputs": [],
   "source": [
    "%matplotlib widget\n",
    "import os\n",
    "import sys\n",
    "import h5py\n",
    "import numpy as np\n",
    "import matplotlib.pyplot as plt\n",
    "#To import DanMAX from the folder above:\n",
    "sys.path.append('../')\n",
    "import DanMAX as DM\n",
    "style = DM.darkMode(style_dic={'figure.figsize':'large'})"
   ]
  },
  {
   "cell_type": "code",
   "execution_count": null,
   "id": "fef55778-944d-4087-a6a4-a1987a08f52c",
   "metadata": {},
   "outputs": [],
   "source": [
    "# Define scan location:\n",
    "#Note that scans must be a list!\n",
    "scans = [XXX]\n",
    "proposal,visit=DM.getCurrentProposal()\n",
    "\n",
    "#Select ranges to load (in the unit the data were integrated with)\n",
    "#useful for reducing the size of large datasets\n",
    "xrd_range = None\n",
    "azi_range = None\n",
    "\n",
    "#Load data\n",
    "maps = DM.mapping.stitchScans(scans,XRF=False,proposal=proposal,visit=visit,xrd_range=xrd_range,azi_range=azi_range)\n",
    "#Apply I0 correction\n",
    "xrd_map = (maps['xrd_map'].transpose(2,0,1)/ maps['I0_map']).transpose(1,2,0)\n",
    "xrd_avg = np.mean(maps['xrd_map'],axis=(0,1))\n"
   ]
  },
  {
   "cell_type": "markdown",
   "id": "a567d1f1-3a4d-4bc4-810f-74564261fa7a",
   "metadata": {},
   "source": [
    "### Plot avarage XRD map"
   ]
  },
  {
   "cell_type": "code",
   "execution_count": null,
   "id": "bef6882f-b167-4b2d-9781-6d47e23d13bc",
   "metadata": {},
   "outputs": [],
   "source": [
    "#Set ROIs:\n",
    "\n",
    "# define ROI dictionary with a label str and a tuple of lower and upper limits, given in the scattering units (2theta or Q)\n",
    "#     'label': (lower,upper)\n",
    "xrd_rois = {'peak_1' : (  9.7, 9.9),\n",
    "        'peak_2' : (15.88, 16.18)}\n",
    "\n",
    "# plot average XRD pattern\n",
    "plt.figure()\n",
    "plt.title('Average XRD pattern')\n",
    "plt.plot(maps['x_xrd'],xrd_avg)\n",
    "print(maps['xrd_map'].dtype)\n",
    "if maps['Q']:\n",
    "    plt.xlabel('Q (A-1)')\n",
    "else:\n",
    "    plt.xlabel('2theta (deg)')\n",
    "plt.ylabel('Intensity')\n",
    "plt.yscale('log')\n",
    "\n",
    "for key in xrd_rois:\n",
    "    xrd_roi = (maps['x_xrd'] > xrd_rois[key][0]) & (maps['x_xrd'] < xrd_rois[key][1])\n",
    "    plt.axvline(xrd_rois[key][0],c='k',ls='--',lw=1)\n",
    "    plt.axvline(xrd_rois[key][1],c='k',ls='--',lw=1)\n",
    "    plt.plot(maps['x_xrd'][xrd_roi],xrd_avg[xrd_roi], '.',ms=2,label=key)\n",
    "plt.legend()"
   ]
  },
  {
   "cell_type": "markdown",
   "id": "8681c7b3-be5e-4be1-aea0-bbc72ee7ecb8",
   "metadata": {},
   "source": [
    "### Plot XRD map\n",
    "It is probably nescessesary to change the vmax value"
   ]
  },
  {
   "cell_type": "code",
   "execution_count": null,
   "id": "e1692504-0f3d-415a-86ab-34357f8a8051",
   "metadata": {},
   "outputs": [],
   "source": [
    "# Set the number of columns for the figure\n",
    "cols = 2\n",
    "\n",
    "rows = int(len(xrd_rois)/cols) + (len(xrd_rois)%cols!=0)\n",
    "# initialize subplots with shared x- and y-axes\n",
    "fig,axs = plt.subplots(rows,cols,sharex=True,sharey=True)\n",
    "fig.tight_layout()\n",
    "axs = axs.flatten() # flatten the axes list to make it easier to index\n",
    "\n",
    "I_xrd = []\n",
    "for i,key in enumerate(xrd_rois):\n",
    "    lower, upper = xrd_rois[key]\n",
    "    lower, upper = np.digitize(lower, maps['x_xrd']), np.digitize(upper, maps['x_xrd'])\n",
    "    \n",
    "    #calculate background\n",
    "    bkg = np.mean([np.mean(xrd_map[:,:,lower-5:lower],axis=2), np.mean(xrd_map[:,:,upper+1:upper+6],axis=2)],axis=0)\n",
    "    # calculate the average diffraction peak signal from the integrated XRD data\n",
    "    xrd_map_bgr = np.trapz((xrd_map[:,:,lower:upper].transpose(2,0,1) - bkg).transpose(1,2,0),maps['x_xrd'][lower:upper])\n",
    "    xrd_map_bgr -=np.nanmin(xrd_map_bgr)\n",
    "                           \n",
    "    I_xrd.append(xrd_map_bgr)\n",
    "    \n",
    "\n",
    "    # plot the map as a pseudo colormesh\n",
    "    ax = axs[i]\n",
    "    ax.set_title(key)\n",
    "    pcm = ax.pcolormesh(maps['x_map'],\n",
    "                        maps['y_map'],\n",
    "                        I_xrd[i],\n",
    "                        shading='nearest')\n",
    "    fig.colorbar(pcm,ax=ax,aspect=40,pad=0.05)\n",
    "    ax.set_xlabel('x mm')\n",
    "    ax.set_ylabel('y mm')\n",
    "    # set the aspect ratio to equal to give square pixels\n",
    "    ax.set_aspect('equal')\n",
    "\n",
    "# delete surplus plots\n",
    "for i in range(1,cols*rows-len(xrd_rois)+1):\n",
    "    fig.delaxes(axs[-i])"
   ]
  }
 ],
 "metadata": {
  "kernelspec": {
   "display_name": "HDF5 / Simple Analysis / GPU",
   "language": "python",
   "name": "maxiv-jhub-hpc-kernel-hdf5"
  },
  "language_info": {
   "codemirror_mode": {
    "name": "ipython",
    "version": 3
   },
   "file_extension": ".py",
   "mimetype": "text/x-python",
   "name": "python",
   "nbconvert_exporter": "python",
   "pygments_lexer": "ipython3",
   "version": "3.9.7"
  }
 },
 "nbformat": 4,
 "nbformat_minor": 5
}
