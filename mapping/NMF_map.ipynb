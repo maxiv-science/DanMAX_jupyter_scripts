{
 "cells": [
  {
   "cell_type": "markdown",
   "id": "ab7cf086-62cc-4c0a-8f06-ae8458576e0a",
   "metadata": {
    "tags": []
   },
   "source": [
    "# Plot NMF maps from xrd flyscans"
   ]
  },
  {
   "cell_type": "markdown",
   "id": "efe87bab-a945-4fa4-bbea-714d38906053",
   "metadata": {
    "tags": []
   },
   "source": [
    "### Load data and plot average XRD for the map"
   ]
  },
  {
   "cell_type": "code",
   "execution_count": null,
   "id": "a05dc482-ef4b-4ffd-ab96-3cbc5ccff0e5",
   "metadata": {},
   "outputs": [],
   "source": [
    "%matplotlib widget\n",
    "import os\n",
    "import sys\n",
    "import numpy as np\n",
    "import matplotlib.pyplot as plt\n",
    "from matplotlib.patches import Patch\n",
    "from sklearn.decomposition import NMF\n",
    "#To import DanMAX from the folder above:\n",
    "sys.path.append('../')\n",
    "import DanMAX as DM\n",
    "style = DM.darkMode(style_dic={'figure.figsize':'small'})"
   ]
  },
  {
   "cell_type": "code",
   "execution_count": null,
   "id": "fef55778-944d-4087-a6a4-a1987a08f52c",
   "metadata": {},
   "outputs": [],
   "source": [
    "# Define scan location:\n",
    "#Note that scans must be a list!\n",
    "scans = []\n",
    "proposal,visit=DM.getCurrentProposal()\n",
    "\n",
    "#Select ranges to load (in the unit the data were integrated with)\n",
    "#useful for reducing the size of large datasets\n",
    "xrd_range = ()\n",
    "azi_range = None\n",
    "\n",
    "#Load data XRD mapping data\n",
    "maps = DM.mapping.stitchScans(scans,XRF=False,proposal=proposal,visit=visit,xrd_range=xrd_range,azi_range=azi_range)\n",
    "#Apply I0 correction\n",
    "xrd_map = (maps['xrd_map'].transpose(2,0,1)/ maps['I0_map']).transpose(1,2,0)\n",
    "\n",
    "# ### ALTERNATIVE load XRD CT data ###\n",
    "# fname = DM.findScan(scans[0])\n",
    "# maps = DM.mapping.getXRDctMap(fname,xrd_range=xrd_range)\n",
    "# xrd_map = maps['xrd_map']-maps['xrd_map'].min()\n",
    "# ###\n",
    "\n",
    "map_shape = xrd_map.shape\n",
    "flat_shape = (map_shape[0]*map_shape[1],map_shape[2])\n",
    "# 2theta data\n",
    "tth = maps['x_xrd']"
   ]
  },
  {
   "cell_type": "markdown",
   "id": "05fa808d-e8c9-43ff-802a-647a3cbfe941",
   "metadata": {},
   "source": [
    "### Create a mask\n",
    "Use the interactive sliders to select a reasonable threshold"
   ]
  },
  {
   "cell_type": "code",
   "execution_count": null,
   "id": "3121bffe-9b21-4127-bccb-5c197f4e33b0",
   "metadata": {},
   "outputs": [],
   "source": [
    "im_std = np.std(xrd_map,axis=2)\n",
    "widget = DM.interactiveImageHist(im_std)\n",
    "plt.gcf().set_figwidth(8)"
   ]
  },
  {
   "cell_type": "code",
   "execution_count": null,
   "id": "c44a2889-631a-47d5-b61c-5a0ac0e54804",
   "metadata": {},
   "outputs": [],
   "source": [
    "lower, upper = np.array(widget.result.split(),dtype=float)\n",
    "mask = im_std>lower\n",
    "xrd_avg = np.mean(xrd_map[mask],axis=(0))\n",
    "xrd_med = np.median(xrd_map[mask],axis=(0))"
   ]
  },
  {
   "cell_type": "markdown",
   "id": "a567d1f1-3a4d-4bc4-810f-74564261fa7a",
   "metadata": {},
   "source": [
    "### Plot mean and median XRD pattern"
   ]
  },
  {
   "cell_type": "code",
   "execution_count": null,
   "id": "bef6882f-b167-4b2d-9781-6d47e23d13bc",
   "metadata": {},
   "outputs": [],
   "source": [
    "# plot average XRD pattern\n",
    "plt.figure()\n",
    "plt.title(f'scan-{scans[0]}')\n",
    "plt.plot(tth,xrd_avg,label='mean')\n",
    "plt.plot(tth,xrd_med,label='median')\n",
    "plt.xlabel('2theta (deg)')\n",
    "plt.ylabel('Intensity')\n",
    "plt.legend()"
   ]
  },
  {
   "cell_type": "markdown",
   "id": "5d35012a-21f6-43ee-ad23-d16617f441b5",
   "metadata": {},
   "source": [
    "### Non-negative Matrix Factorization\n",
    "Find two non-negative matrices, i.e. matrices with all non-negative elements, (W, H) whose product approximates the non-negative matrix X  \n",
    "$$W\\times H \\approx X$$\n",
    "*X* has shape (*n*,*m*), *W* has shape (*n*,*o*), and *H* has shape: (*o*,*m*).  \n",
    "\n",
    "If *X* is an xrd map with shape $(h\\cdot w,2\\theta)$, *W* is a map of NMF component contributions with shape $(h\\cdot w, num\\_of\\_components)$, and *H* is the \"diffraction patterns\" of each component with shape $(num\\_of\\_components,2\\theta)$"
   ]
  },
  {
   "cell_type": "code",
   "execution_count": null,
   "id": "2a8225af-e3c0-4bb3-868f-4a30b272c901",
   "metadata": {},
   "outputs": [],
   "source": [
    "###########################\n",
    "# initialize the NMF model\n",
    "n_components = 3\n",
    "###########################\n",
    "\n",
    "model = NMF(n_components=n_components,  # number of components\n",
    "            init='nndsvdar', # initialization procedure\n",
    "            max_iter=1000,   # maximum number of iterations\n",
    "           )\n",
    "# # Learn a NMF model for the data X and returns the transformed data.\n",
    "W = np.zeros((*map_shape[0:2],n_components),dtype=xrd_map.dtype)\n",
    "W[mask] = model.fit_transform(xrd_map[mask])\n",
    "H = model.components_"
   ]
  },
  {
   "cell_type": "code",
   "execution_count": null,
   "id": "e6f9b81d-07d6-4e79-9610-17cd141ff3c6",
   "metadata": {},
   "outputs": [],
   "source": [
    "# calculate the average weight of each component\n",
    "weight = np.mean(W,axis=(0,1))\n",
    "# initialize figure\n",
    "plt.figure()\n",
    "plt.title(f'scan-{scans[0]}')\n",
    "y_off = 0\n",
    "# iterate through component\n",
    "for i in range(n_components):\n",
    "    y = weight[i]*H[i]+y_off\n",
    "    # add an offset\n",
    "    y_off = y.max()*1.05\n",
    "    plt.plot(tth,y,label=f'#{i+1}')\n",
    "plt.xlabel('2theta (deg)')\n",
    "plt.ylabel('Intensity')\n",
    "plt.legend()"
   ]
  },
  {
   "cell_type": "markdown",
   "id": "8681c7b3-be5e-4be1-aea0-bbc72ee7ecb8",
   "metadata": {},
   "source": [
    "### Plot NMF component map"
   ]
  },
  {
   "cell_type": "code",
   "execution_count": null,
   "id": "e1692504-0f3d-415a-86ab-34357f8a8051",
   "metadata": {},
   "outputs": [],
   "source": [
    "# Set the number of columns for the figure\n",
    "cols = 3\n",
    "\n",
    "rows = int(n_components/cols) + (n_components%cols!=0)\n",
    "# initialize subplots with shared x- and y-axes\n",
    "fig,axs = plt.subplots(rows,cols,sharex=True,sharey=True)\n",
    "fig.tight_layout()\n",
    "axs = axs.flatten() # flatten the axes list to make it easier to index\n",
    "\n",
    "for i in range(n_components):\n",
    "    # plot the map as a pseudo colormesh\n",
    "    ax = axs[i]\n",
    "    ax.set_title(f'component #{i+1}')\n",
    "    pcm = ax.pcolormesh(maps['x_map'],\n",
    "                        maps['y_map'],\n",
    "                        W[:,:,i],\n",
    "                        shading='nearest',\n",
    "                       )\n",
    "    fig.colorbar(pcm,ax=ax,aspect=40,pad=0.05)\n",
    "    ax.set_xlabel('x mm')\n",
    "    ax.set_ylabel('y mm')\n",
    "    # set the aspect ratio to equal to give square pixels\n",
    "    ax.set_aspect('equal')\n",
    "\n",
    "# delete surplus plots\n",
    "for i in range(1,cols*rows-n_components+1):\n",
    "    fig.delaxes(axs[-i])\n",
    "\n",
    "fig.tight_layout()"
   ]
  },
  {
   "cell_type": "markdown",
   "id": "b799cf47-bbc6-497a-94e6-fa1f51addfff",
   "metadata": {},
   "source": [
    "### Plot RGB map\n",
    "Plot up to three components as a RGB overlay map"
   ]
  },
  {
   "cell_type": "code",
   "execution_count": null,
   "id": "c185d783-ab02-4f1c-8f94-692a8732f36a",
   "metadata": {},
   "outputs": [],
   "source": [
    "##################################################################\n",
    "\n",
    "# Select up to three components, change the order of the indices\n",
    "# to change the order of the colors (index start at zero)\n",
    "RGB_components = [0,1,2]\n",
    "\n",
    "##################################################################\n",
    "\n",
    "# initialize array\n",
    "rgb = np.zeros((*map_shape[0:2],3),dtype=float)\n",
    "# normalize to 0-1\n",
    "rgb[:,:,0:len(RGB_components)] = W[:,:,RGB_components]/W[:,:,RGB_components].max()\n",
    "# plot\n",
    "fig = plt.figure(layout='constrained')\n",
    "plt.title(f'scan-{scans[0]}')\n",
    "plt.pcolormesh(maps['x_map'],\n",
    "               maps['y_map'],\n",
    "               rgb)\n",
    "plt.xlabel('x mm')\n",
    "plt.ylabel('y mm')\n",
    "# set the aspect ratio to equal to give square pixels\n",
    "plt.gca().set_aspect('equal')\n",
    "\n",
    "legend_handles = [Patch(facecolor=color) for color in ['r','g','b']] \n",
    "legend_labels = [f'#{i+1}' for i in RGB_components]\n",
    "fig.legend(legend_handles,legend_labels,loc='outside lower center',ncol=len(RGB_components))"
   ]
  }
 ],
 "metadata": {
  "kernelspec": {
   "display_name": "HDF5 / Standard Analysis / GPU",
   "language": "python",
   "name": "maxiv-jup-kernel-hdf5"
  },
  "language_info": {
   "codemirror_mode": {
    "name": "ipython",
    "version": 3
   },
   "file_extension": ".py",
   "mimetype": "text/x-python",
   "name": "python",
   "nbconvert_exporter": "python",
   "pygments_lexer": "ipython3",
   "version": "3.11.6"
  }
 },
 "nbformat": 4,
 "nbformat_minor": 5
}
