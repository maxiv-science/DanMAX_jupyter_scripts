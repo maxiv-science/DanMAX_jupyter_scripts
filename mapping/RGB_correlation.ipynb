{
 "cells": [
  {
   "cell_type": "markdown",
   "id": "d73248c7-e759-48e4-8d07-bedddb5dcb14",
   "metadata": {},
   "source": [
    "# RGB correlation maps\n",
    "This notebook creates RGB correlation maps from the `.h5` master file for motor positions and metadata, the `_pilatus_integrated.h5` file for xrd data, and the `fitted_elemnts_scan_XXX.h5`or `fitted_elements_scans_xxx_to_xxx.h5`file for XRF. \n",
    "\n",
    "The user provides a set of three maps, based on XRD RoIs and XRF element fits.\n",
    "These maps are then combined into a RGB color map.\n",
    "\n",
    "It loads and treats the XRD data in the same way as the `XRD_maps` script.\n",
    "For *XRF* data, it assumes that `mapping_XRF_fitting` has been run to create XRF fit maps.\n",
    "Thus it is important that the `scans` parameter is set to the same value here as in `mapping_XRF_fitting`\n",
    "\n"
   ]
  },
  {
   "cell_type": "code",
   "execution_count": null,
   "id": "6b99e877-a950-40f8-a402-26cf73718004",
   "metadata": {},
   "outputs": [],
   "source": [
    "#Import necessary libaries\n",
    "%matplotlib widget\n",
    "import os\n",
    "import sys\n",
    "import h5py\n",
    "import numpy as np\n",
    "import matplotlib.pyplot as plt\n",
    "\n",
    "#To import DanMAX from the folder above:\n",
    "sys.path.append('../')\n",
    "import DanMAX as DM\n",
    "style = DM.darkMode(style_dic={'figure.figsize':'large'})"
   ]
  },
  {
   "cell_type": "code",
   "execution_count": null,
   "id": "2f0d0166-8404-405f-a4fe-1b8884eb2457",
   "metadata": {},
   "outputs": [],
   "source": [
    "#Set parameters\n",
    "\n",
    "\n",
    "#Define parameters to find the data\n",
    "#Use DM.getcurrentproposal to get defaults instead of none\n",
    "proposal, visit = DM.getCurrentProposal() # This gets proposal and visit from the current path. You can set others to use previous data.\n",
    "\n",
    "\n",
    "#Scans must be a list\n",
    "groups = DM.getProposalScans(proposal=proposal,visit=visit)\n",
    "group = 'group_name'\n",
    "sample = 'sample_name'\n",
    "scans= groups[group][sample]\n",
    "\n",
    "#Select ranges to load (in the unit the data were integrated with)\n",
    "#useful for reducing the size of large datasets\n",
    "xrd_range = None\n",
    "azi_range = None\n",
    "\n",
    "# define ROI dictionary with a label str and a tuple of lower and upper limits, given in the scattering units (2theta or Q)\n",
    "#     'label': (lower,upper)\n",
    "xrd_rois = {'002' : (  8., 8.5),\n",
    "            'multiplet': (9.9,10.4), \n",
    "            '310': (11.8, 13.1),\n",
    "        'peak_2' : (1.95, 2.15)}\n",
    "\n",
    "\n",
    "#Define which maps to plot, the lists give the lower and upper limit.\n",
    "#Set limit to None\n",
    "xrf_maps = {'Ca_K':[20, 700],\n",
    "               'Sr_K': [20, 220],\n",
    "               'Zn_K': [10, 100],}\n",
    "\n",
    "#Define correlation maps\n",
    "#Define the correlation maps as a list of lists, naming wether it should be XRD or XRF\n",
    "#And what parameter it should then be.\n",
    "correlation_maps = [\n",
    "    #    Red Value    # Green Value  # Blue Value\n",
    "    [['XRF','Ca_K'],['XRF','Sr_K'],['XRF','Zn_K']],\n",
    "    [['XRD','002'],['XRD','multiplet'],['XRD','310']],\n",
    "]\n",
    "\n",
    "#Define the location where the XRF fits are saved within the XRF file\n",
    "xrf_h5_fit_path = 'xrf_fits/xrf_fit/results/parameters/'"
   ]
  },
  {
   "cell_type": "code",
   "execution_count": null,
   "id": "25f07410-c8e4-40bf-b2be-1f3e4b5e0bee",
   "metadata": {},
   "outputs": [],
   "source": [
    "#Do not change this code\n",
    "#Loading XRD data. This is the \"slow\" step. Hence why it is isolated in its own cell\n",
    "maps = DM.mapping.stitchScans(scans,XRF=False,proposal=proposal,visit=visit,xrd_range=xrd_range,azi_range=azi_range)\n",
    "\n",
    "#Apply I0 correction\n",
    "maps['xrd_map'] = (maps['xrd_map'].transpose(2,0,1)/ maps['I0_map']).transpose(1,2,0)\n",
    "xrd_avg = np.mean(maps['xrd_map'],axis=(0,1))"
   ]
  },
  {
   "cell_type": "code",
   "execution_count": null,
   "id": "408c315b-95ae-4b64-9eaf-da2cfec9dade",
   "metadata": {},
   "outputs": [],
   "source": [
    "#Calculating Maps Do not change this code!\n",
    "#This is seperated from the above cell to allow rerunning if the map settings are changed\n",
    "\n",
    "#Create a dictionary of maps for plotting\n",
    "I_xrd = dict()\n",
    "for i,peak in enumerate(xrd_rois):\n",
    "    lower, upper = xrd_rois[peak]\n",
    "    lower, upper = np.digitize(lower, maps['x_xrd']), np.digitize(upper, maps['x_xrd'])\n",
    "\n",
    "    #calculate background\n",
    "    bkg = np.mean([np.mean(maps['xrd_map'][:,:,lower-5:lower],axis=2), np.mean(maps['xrd_map'][:,:,upper+1:upper+6],axis=2)],axis=0)\n",
    "   \n",
    "    # calculate the average diffraction peak signal from the integrated XRD data\n",
    "   \n",
    "    xrd_map_bgr = np.trapz((maps['xrd_map'][:,:,lower:upper].transpose(2,0,1) - bkg).transpose(1,2,0),maps['x_xrd'][lower:upper])\n",
    "    xrd_map_bgr -=np.nanmin(xrd_map_bgr)\n",
    "                           \n",
    "    I_xrd[peak] = xrd_map_bgr\n",
    "                           \n",
    "#Loading XRF data\n",
    "#Get the XRF file, based on the scans.\n",
    "# ----   REQURES mapping_XRF_fitting TO HAVE BEEN RUN ---\n",
    "xrf_fit_dir, xrf_fit_file = DM.mapping.getXRFFitFilename(scans,proposal=proposal,visit=visit)\n",
    "fits_filename = f'{xrf_fit_dir}/elements/{xrf_fit_file}' \n",
    "\n",
    "#Create a map dictionary and collect the maps\n",
    "xrf = dict()\n",
    "with h5py.File(fits_filename,'r') as fit_file: \n",
    "    for i,elem in enumerate(xrf_maps.keys()):\n",
    "        xrf[elem] = fit_file[f'{xrf_h5_fit_path}{elem}'][:]"
   ]
  },
  {
   "cell_type": "markdown",
   "id": "f1e77189-ed37-4cbd-820e-2aac2ecafaeb",
   "metadata": {},
   "source": [
    "## Plot Average XRD_pattern"
   ]
  },
  {
   "cell_type": "code",
   "execution_count": null,
   "id": "b5dbc5ae-e6d0-471a-ad77-d3d6f53d2703",
   "metadata": {},
   "outputs": [],
   "source": [
    "# plot average XRD pattern\n",
    "plt.figure()\n",
    "plt.title('Average XRD pattern')\n",
    "plt.plot(maps['x_xrd'],xrd_avg,label='average')\n",
    "print(maps['xrd_map'].dtype)\n",
    "if maps['Q']:\n",
    "    plt.xlabel('Q (A-1)')\n",
    "else:\n",
    "    plt.xlabel('2theta (deg)')\n",
    "plt.ylabel('Intensity')\n",
    "plt.yscale('log')\n",
    "\n",
    "#Add vertical lines showing the peaks of interest\n",
    "for key in xrd_rois:\n",
    "    xrd_roi = (maps['x_xrd'] > xrd_rois[key][0]) & (maps['x_xrd'] < xrd_rois[key][1])\n",
    "    plt.axvline(xrd_rois[key][0],c='k',ls='--',lw=1)\n",
    "    plt.axvline(xrd_rois[key][1],c='k',ls='--',lw=1)\n",
    "    plt.plot(maps['x_xrd'][xrd_roi],xrd_avg[xrd_roi], '.',ms=2,label=key)\n",
    "plt.legend()"
   ]
  },
  {
   "cell_type": "markdown",
   "id": "f9b776f8-6ab6-427d-94fc-5c2aa28efa29",
   "metadata": {},
   "source": [
    "## Plot correlation maps\n",
    "The following cells creates and plots the correlation maps."
   ]
  },
  {
   "cell_type": "code",
   "execution_count": null,
   "id": "4bfcec22-2343-4c3c-8f77-6018c1e18ce6",
   "metadata": {},
   "outputs": [],
   "source": [
    "scale_place = [[10,15],[10,49]]\n",
    "cols = 2\n",
    "save_figures = True\n",
    "rows = int(len(correlation_maps)/cols) + (len(correlation_maps)%cols!=0)\n",
    "# initialize subplots with shared x- and y-axes\n",
    "fig,axs = plt.subplots(rows,cols,sharex=True,sharey=True)\n",
    "fig.tight_layout()\n",
    "axs = axs.flatten() # flatten the axes list to make it easier to index\n",
    "\n",
    "\n",
    "for i in range(len(correlation_maps)):\n",
    "    #Define the RGB map matrix\n",
    "    rgb_map = np.zeros(list(maps['x_map'].shape)+[3])\n",
    "    \n",
    "    #Populate the color map matrix\n",
    "    for cm in range(3):\n",
    "        #Read the type of data and key for the data\n",
    "        map_type = correlation_maps[i][cm][0]\n",
    "        map_key = correlation_maps[i][cm][1]\n",
    "        #Read the data\n",
    "        if map_type == 'XRF':\n",
    "            cmap = xrf[map_key]*1 #The *1 is to ensure a copy is made, otherwise do .copy()\n",
    "            cmin = xrf_maps[map_key][0]\n",
    "            if cmin == None:\n",
    "                cmin = np.min(cmap.flatten)\n",
    "            cmax = xrf_maps[map_key][1]\n",
    "        elif map_type == 'XRD':\n",
    "            cmap = I_xrd[map_key]/np.max(I_xrd[map_key])\n",
    "            cmin=np.min(cmap)\n",
    "            cmax=np.max(cmap)*3/4\n",
    "        \n",
    "        #Rescale the data to between 0 and 1\n",
    "        cmap[cmap<cmin] = cmin\n",
    "        cmap[cmap>cmax] = cmax\n",
    "        cmap -= cmin\n",
    "        cmap /=np.max(cmap)\n",
    "        rgb_map[:,:,cm] = cmap\n",
    "    rgb_map[scale_place[0][0]:scale_place[0][1],scale_place[1][0]:scale_place[1][1],:] = 1\n",
    "    \n",
    "    # plot the map as an image\n",
    "    ax = axs[i]\n",
    "    #pcm = ax.pcolormesh(maps['x_map'],\n",
    "    #                    maps['y_map'],\n",
    "    #                    rgb_map,\n",
    "    #                    shading='nearest')\n",
    "    pcm = ax.imshow(rgb_map,extent=[np.min(maps['y_map']), np.max(maps['y_map']),np.min(maps['x_map']), np.max(maps['x_map'])])\n",
    "    #Annotate based on the keys for the maps\n",
    "    ax.annotate(f'{correlation_maps[i][0][1]}',\n",
    "         (0,1.01),\n",
    "         xycoords='axes fraction',\n",
    "         color='red')\n",
    "    ax.annotate(f'{correlation_maps[i][1][1]}',\n",
    "         (0.4,1.01),\n",
    "         xycoords='axes fraction',\n",
    "         color='green')\n",
    "    ax.annotate(f'{correlation_maps[i][2][1]}',\n",
    "         (0.8,1.01),\n",
    "         xycoords='axes fraction',\n",
    "         color='blue')\n",
    "    ax.set_aspect('equal')\n",
    "    ax.set_xlabel('x mm')\n",
    "    ax.set_ylabel('y mm')\n",
    "    if save_figures:\n",
    "        base_path = DM.findScan(scans[0])\n",
    "        save_folder = f'{base_path.split(\"raw\")[0]}/process/rgb_correlation/{group}'\n",
    "        if not os.path.isdir(save_folder):\n",
    "            os.makedirs(save_folder)\n",
    "            os.chmod(save_folder,0o770)\n",
    "        red_key = map_key = correlation_maps[i][0][1]\n",
    "        green_key = map_key = correlation_maps[i][1][1]\n",
    "        blue_key = map_key = correlation_maps[i][2][1]\n",
    "        save_file = f'{save_folder}/{group}_{sample}_{red_key}_{green_key}_{blue_key}.png'\n",
    "        plt.imsave(save_file,rgb_map)\n",
    "        os.chmod(save_file,0o770)"
   ]
  },
  {
   "cell_type": "code",
   "execution_count": null,
   "id": "82100eaa-fda9-4b74-959e-50ea854aa25b",
   "metadata": {},
   "outputs": [],
   "source": [
    "base_path = DM.findScan(scans[0])\n",
    "f'{base_path.split('raw')[0]}/process/rgb_correlation/{group}"
   ]
  },
  {
   "cell_type": "code",
   "execution_count": null,
   "id": "e46ec618-23f0-4d1e-aca9-d57a711ee609",
   "metadata": {},
   "outputs": [],
   "source": [
    "base_path = DM.findScan(scans[0])\n",
    "base_path.split('raw')[0]\n",
    "save_folder = f'{base_path.split(\"raw\")[0]}/process/rgb_correlation/{group}'"
   ]
  },
  {
   "cell_type": "code",
   "execution_count": null,
   "id": "de9d128b-cdc2-4a31-9a0d-f9530ff5d9a5",
   "metadata": {},
   "outputs": [],
   "source": [
    "maps['cake_map'].shape"
   ]
  },
  {
   "cell_type": "code",
   "execution_count": null,
   "id": "ecc16868-1a44-47fb-92e3-d63b3a8c5352",
   "metadata": {},
   "outputs": [],
   "source": [
    "DM.mapping.stitchScans?"
   ]
  },
  {
   "cell_type": "code",
   "execution_count": null,
   "id": "2f478ddc-c3c0-4cbb-a677-9cdc4d99209c",
   "metadata": {},
   "outputs": [],
   "source": [
    "np.prod(maps['x_map'].shape)"
   ]
  },
  {
   "cell_type": "code",
   "execution_count": null,
   "id": "35643e90-bc2e-47ad-a5a8-31195814f330",
   "metadata": {},
   "outputs": [],
   "source": [
    "maps['x_map'].shape"
   ]
  },
  {
   "cell_type": "code",
   "execution_count": null,
   "id": "452bc948-3506-49ef-953d-48b27154a78e",
   "metadata": {},
   "outputs": [],
   "source": [
    "37*0.32"
   ]
  },
  {
   "cell_type": "code",
   "execution_count": null,
   "id": "8984faa2-49b0-4fe9-bc4e-b7e386988073",
   "metadata": {},
   "outputs": [],
   "source": []
  }
 ],
 "metadata": {
  "kernelspec": {
   "display_name": "HDF5 / Standard Analysis / GPU",
   "language": "python",
   "name": "maxiv-jup-kernel-hdf5"
  },
  "language_info": {
   "codemirror_mode": {
    "name": "ipython",
    "version": 3
   },
   "file_extension": ".py",
   "mimetype": "text/x-python",
   "name": "python",
   "nbconvert_exporter": "python",
   "pygments_lexer": "ipython3",
   "version": "3.11.6"
  }
 },
 "nbformat": 4,
 "nbformat_minor": 5
}
