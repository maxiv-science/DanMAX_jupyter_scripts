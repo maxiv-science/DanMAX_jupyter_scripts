{
 "cells": [
  {
   "cell_type": "markdown",
   "id": "ab7cf086-62cc-4c0a-8f06-ae8458576e0a",
   "metadata": {},
   "source": [
    "# Plot regions-of-interest maps from XRD-CT reconstructions"
   ]
  },
  {
   "cell_type": "markdown",
   "id": "efe87bab-a945-4fa4-bbea-714d38906053",
   "metadata": {},
   "source": [
    "### Load data and plot average XRD for the map"
   ]
  },
  {
   "cell_type": "code",
   "execution_count": null,
   "id": "ee391326-7af4-4f3c-a6af-caea65904dc3",
   "metadata": {},
   "outputs": [],
   "source": [
    "%matplotlib widget\n",
    "import h5py as h5\n",
    "import numpy as np\n",
    "import matplotlib.pyplot as plt\n",
    "#To import DanMAX from the folder above:\n",
    "import sys\n",
    "sys.path.append('../')\n",
    "import DanMAX as DM\n",
    "\n",
    "style = DM.darkMode(style_dic={'figure.figsize':'large'})"
   ]
  },
  {
   "cell_type": "code",
   "execution_count": null,
   "id": "be7fed6c-d3a5-4789-a6c8-b14e2c2d086e",
   "metadata": {},
   "outputs": [],
   "source": [
    "# Define scan location:\n",
    "fname = DM.findScan()\n",
    "maps = DM.mapping.load_maps(fname)\n",
    "\n",
    "Q = maps['Q']\n",
    "x = maps['x_xrd']\n",
    "recon = maps['xrd_map'].T # (x,y,radial)\n",
    "x_map = maps['x_map']\n",
    "y_map = maps['y_map']\n",
    "\n",
    "# calculate the mean resolution\n",
    "um_per_px = np.mean(np.diff(x_map[:,0]))*1e3\n",
    "\n",
    "# check if the first pattern is the diode absorption data\n",
    "if recon.shape[2] > x.shape[0]:\n",
    "    A_map = recon[:,:,0]\n",
    "    recon = recon[:,:,1:]\n",
    "else:\n",
    "    # no absorption data \n",
    "    A_map = np.ones(recon.shape[:2])"
   ]
  },
  {
   "cell_type": "markdown",
   "id": "90c794e3-9894-4cb5-b32f-10c5daca93d9",
   "metadata": {},
   "source": [
    "### Create a mask based on a standard deviation threshold  \n",
    "#### Estimate threshold from an interactive plot"
   ]
  },
  {
   "cell_type": "code",
   "execution_count": null,
   "id": "7df5b8e2-7933-4564-8096-4d5e0740cdce",
   "metadata": {},
   "outputs": [],
   "source": [
    "interactive_mask = DM.InteractiveMask(recon,reduction_mode='std')"
   ]
  },
  {
   "cell_type": "code",
   "execution_count": null,
   "id": "91676ca3-5382-4753-bd1a-feeec8f4e256",
   "metadata": {},
   "outputs": [],
   "source": [
    "# get the result from the interactive plot and convert to a nan-mask\n",
    "mask = interactive_mask.getResult().astype(float)\n",
    "mask[mask<1.] = np.nan\n",
    "I_avg = np.nanmean(recon.T*mask,axis=(1,2))"
   ]
  },
  {
   "cell_type": "markdown",
   "id": "8a264b7d-5a38-46b9-8fec-35fd1fcc94fc",
   "metadata": {},
   "source": [
    "### Select region-of-interest"
   ]
  },
  {
   "cell_type": "code",
   "execution_count": null,
   "id": "40580d11-85eb-4cd2-a343-a94bf8a3bbfc",
   "metadata": {},
   "outputs": [],
   "source": [
    "# define the approximate region of interest in scattering units\n",
    "#            label    :     roi\n",
    "regions = {\n",
    "            'peak1' : [4,5],\n",
    "            'peak2'  : [7.5,9],\n",
    "            'peak3' : [9.5,11.5]\n",
    "            }\n",
    "\n",
    "# plot the region of interest for the average pattern\n",
    "plt.figure()\n",
    "plt.title(DM.getScan_id(fname))\n",
    "plt.plot(x,I_avg,label='average pattern')\n",
    "# loop through all peaks\n",
    "for region in regions:\n",
    "    roi = regions[region]\n",
    "    roi = (x>roi[0]) & (x<roi[1])\n",
    "    plt.plot(x[roi],I_avg[roi],'.',label=region)\n",
    "plt.ylabel('I [a.u.]')\n",
    "if Q:\n",
    "    plt.xlabel(r'Q [$\\AA^{-1}$]')\n",
    "else:\n",
    "    plt.xlabel(r'2$\\theta$ [$\\deg$]')\n",
    "plt.legend()"
   ]
  },
  {
   "cell_type": "markdown",
   "id": "d28ce743-ac2e-44d4-8d53-084f1309d3f1",
   "metadata": {},
   "source": [
    "#### Plot ROI integrals"
   ]
  },
  {
   "cell_type": "code",
   "execution_count": null,
   "id": "db202cbb-8e81-46a9-ad1b-2acec56b0f71",
   "metadata": {},
   "outputs": [],
   "source": [
    "# Set the number of columns for the figure\n",
    "cols = 3\n",
    "\n",
    "\n",
    "# initialize figure\n",
    "rows = int(len(regions)/cols) + (len(regions)%cols!=0)\n",
    "fig, axes = plt.subplots(rows,cols,sharex=True,sharey=True)\n",
    "#fig.set_size_inches(12,8)\n",
    "fig.suptitle(DM.getScan_id(fname))\n",
    "axes = axes.flatten()\n",
    "\n",
    "# calculate scale bar values\n",
    "scale_500um = 500./(um_per_px)\n",
    "offset = recon.shape[1]*0.05\n",
    "\n",
    "for ax in axes:\n",
    "    ax.set_xticks([])\n",
    "    ax.set_yticks([])\n",
    "\n",
    "for k,region in enumerate(regions):\n",
    "    roi = regions[region]\n",
    "    roi = (x>roi[0]) & (x<roi[1])\n",
    "\n",
    "    # integral\n",
    "    im = np.trapz(recon[:,:,roi],x=x[roi],axis=-1)\n",
    "    \n",
    "    # integral breadth\n",
    "    breadth = im/np.max(recon[:,:,roi],axis=-1)\n",
    "    breadth[im<im.max()*0.05]=np.nan\n",
    "    #im = breadth\n",
    "\n",
    "    \n",
    "    # plot heatmap\n",
    "    ax = axes[k]\n",
    "    ax.set_title(f'{region}')\n",
    "    ax.grid(False)\n",
    "    \n",
    "    vmin = max(im.min(),0)\n",
    "    ax.imshow((im*mask).T,vmin=vmin)\n",
    "    \n",
    "    ax.plot([offset,offset+scale_500um],\n",
    "            [offset,offset],\n",
    "            'k',\n",
    "            lw=10,\n",
    "           )\n",
    "    ax.annotate('500 μm',\n",
    "                (offset+scale_500um/2,offset*2),\n",
    "                horizontalalignment='center',\n",
    "                verticalalignment='top',\n",
    "               )\n",
    "\n",
    "# delete surplus plots\n",
    "for i in range(1,cols*rows-len(regions)+1):\n",
    "    fig.delaxes(axes[-i])\n",
    "fig.tight_layout()\n",
    "    "
   ]
  },
  {
   "cell_type": "markdown",
   "id": "c13ad276-c66f-4901-b9a2-81ecc3f60302",
   "metadata": {},
   "source": [
    "### Perform simple single-peak fit"
   ]
  },
  {
   "cell_type": "code",
   "execution_count": null,
   "id": "28970489-707f-490f-93f8-3556a034aac2",
   "metadata": {},
   "outputs": [],
   "source": [
    "# flattened shape\n",
    "flat_shape = (recon.shape[0]*recon.shape[1],recon.shape[2])\n",
    "# flat reconstruction array\n",
    "flat_recon = (recon.transpose(2,0,1)*mask).transpose(1,2,0).reshape(flat_shape)\n",
    "# fit parameters\n",
    "param = ['amplitude', 'position', 'FWHM', 'background']\n",
    "# empty results dictionary\n",
    "res = {reg:{p:np.full(flat_shape[0],np.nan) for p in param} for reg in regions}\n",
    "# iterate through ROIs\n",
    "for k,region in enumerate(regions):\n",
    "    roi = regions[region]\n",
    "    roi = (x>roi[0]) & (x<roi[1])\n",
    "\n",
    "    print(f'Region {k+1} of {len(regions)}')\n",
    "    # Use a try statement to allow interrupting the fit useful for debugging \n",
    "    try:\n",
    "        for i,y in enumerate(flat_recon):\n",
    "            if np.mean(y[roi])>0.:\n",
    "                amplitude, position, FWHM, background, y_calc = DM.fitting.singlePeakFit(x[roi],y[roi],verbose=False)\n",
    "                for p,r in zip(param,[amplitude, position, FWHM, background]):\n",
    "                    res[region][p][i]=r\n",
    "            print(f'{(i+1)/(flat_shape[0])*100:.2f} %',end='\\r')\n",
    "    except KeyboardInterrupt:\n",
    "        print('Fitting interrupted')\n",
    "    finally:\n",
    "        pass\n",
    "    for p in param:\n",
    "        res[region][p]=res[region][p].reshape((recon.shape[0],recon.shape[1]))"
   ]
  },
  {
   "cell_type": "markdown",
   "id": "41839db5-08c4-435b-a571-47790a05b38b",
   "metadata": {},
   "source": [
    "#### Plot peak fit results"
   ]
  },
  {
   "cell_type": "code",
   "execution_count": null,
   "id": "2ba41af6-c912-4002-b986-375c42d79702",
   "metadata": {},
   "outputs": [],
   "source": [
    "# set the active parameter to plot ('amplitude', 'position', 'FWHM', 'background')\n",
    "active_parameter = 'amplitude'\n",
    "# Set the number of columns for the figure\n",
    "cols = 3\n",
    "\n",
    "\n",
    "# initialize figure\n",
    "rows = int(len(regions)/cols) + (len(regions)%cols!=0)\n",
    "fig, axes = plt.subplots(rows,cols,sharex=True,sharey=True)\n",
    "#fig.set_size_inches(12,8)\n",
    "fig.suptitle(f'{DM.getScan_id(fname)} - {active_parameter}')\n",
    "axes = axes.flatten()\n",
    "\n",
    "# calculate scale bar values\n",
    "scale_500um = 500./(um_per_px)\n",
    "offset = recon.shape[1]*0.025\n",
    "\n",
    "for ax in axes:\n",
    "    ax.set_xticks([])\n",
    "    ax.set_yticks([])\n",
    "\n",
    "for k,region in enumerate(regions):\n",
    "    roi = regions[region]\n",
    "    roi = (x>roi[0]) & (x<roi[1])\n",
    "\n",
    "    im = res[region][active_parameter]\n",
    "    # plot heatmap\n",
    "    ax = axes[k]\n",
    "    ax.set_title(f'{region}')\n",
    "    ax.grid(False)\n",
    "    \n",
    "    #vmin = max(im.min(),0)\n",
    "    ax.imshow(im,\n",
    "              #vmin=vmin,\n",
    "              norm='log',\n",
    "             )\n",
    "    \n",
    "    ax.plot([offset,offset+scale_500um],\n",
    "            [offset,offset],\n",
    "            'w',\n",
    "            lw=10,\n",
    "           )\n",
    "    ax.annotate('500 μm',\n",
    "                (offset+scale_500um/2,offset*2),\n",
    "                horizontalalignment='center',\n",
    "                verticalalignment='top',\n",
    "               )\n",
    "\n",
    "# delete surplus plots\n",
    "for i in range(1,cols*rows-len(regions)+1):\n",
    "    fig.delaxes(axes[-i])\n",
    "fig.tight_layout()\n",
    "    "
   ]
  }
 ],
 "metadata": {
  "kernelspec": {
   "display_name": "HDF5 / Standard Analysis / GPU",
   "language": "python",
   "name": "maxiv-jup-kernel-hdf5"
  },
  "language_info": {
   "codemirror_mode": {
    "name": "ipython",
    "version": 3
   },
   "file_extension": ".py",
   "mimetype": "text/x-python",
   "name": "python",
   "nbconvert_exporter": "python",
   "pygments_lexer": "ipython3",
   "version": "3.11.10"
  }
 },
 "nbformat": 4,
 "nbformat_minor": 5
}
