{
 "cells": [
  {
   "cell_type": "markdown",
   "id": "2649a0bd-d4cc-4ea0-8a7d-95b04d5fba9b",
   "metadata": {},
   "source": [
    "# Generate GIF area detector images\n",
    "### (Under construction)\n",
    "Set range of frames to use\n",
    "Set total time for GIF\n",
    "\n",
    "Set ROI\n",
    "Plot first and last with ROI - and color scale\n",
    "\n",
    "Calculate sequence of frames based on range and total time at 20 FPS\n",
    "\n"
   ]
  },
  {
   "cell_type": "code",
   "execution_count": null,
   "id": "6ecf1cc5-5f19-48b1-bfed-6280ff44c9a4",
   "metadata": {},
   "outputs": [],
   "source": [
    "%matplotlib widget\n",
    "import DanMAX as DM\n",
    "import h5py as h5\n",
    "import numpy as np\n",
    "import matplotlib.pyplot as plt\n",
    "from matplotlib.collections import PolyCollection\n",
    "import PIL \n",
    "import os\n",
    "from ipywidgets import interact, widgets\n",
    "style = DM.darkMode(style_dic={'size' : 'large', 'grid' : False})"
   ]
  },
  {
   "cell_type": "code",
   "execution_count": null,
   "id": "eb0e9668-8557-4ae7-ac71-f2bb4806d2ec",
   "metadata": {},
   "outputs": [],
   "source": [
    "fname = DM.findScan()\n",
    "\n",
    "# Range of frames to be included in the gif\n",
    "first_frame = 100\n",
    "last_frame = 1000\n",
    "\n",
    "gif_length = 2 # Total length in seconds\n",
    "\n",
    "dset = '/entry/instrument/pilatus/data'\n",
    "with h5.File(fname,'r') as f:\n",
    "    frame0 = f[dset][first_frame]\n",
    "    frame1 = f[dset][last_frame]\n",
    "\n",
    "fig, ax = plt.subplots()\n",
    "crop = ax.imshow(frame0)\n",
    "\n",
    "def update_crop(top=0, down=frame0.shape[0], left=0, right=frame0.shape[1]):\n",
    "    for child in ax.get_children():\n",
    "        if type(child) == PolyCollection:\n",
    "             child.remove()\n",
    "    ax.fill_between([0, frame0.shape[1]], 0, top, linewidth = 0, color='black', alpha=.5)\n",
    "    ax.fill_between([0, frame0.shape[1]], frame0.shape[0], down, linewidth = 0, color='black', alpha=.5)\n",
    "    ax.fill_betweenx([top, down], 0, left, linewidth = 0, color='black', alpha=.5)\n",
    "    ax.fill_betweenx([top, down], frame0.shape[1], right, linewidth = 0, color='black', alpha=.5)\n",
    "    return top, down, left, right\n",
    "\n",
    "crop = interact(update_crop, top=(0, frame0.shape[0]), down=(0, frame0.shape[0]), left=(0, frame0.shape[1]), right=(0, frame0.shape[1]))"
   ]
  },
  {
   "cell_type": "code",
   "execution_count": null,
   "id": "38c00e1a-88bf-4510-89e4-a9dac8efdd16",
   "metadata": {},
   "outputs": [],
   "source": [
    "# Results from ROI selection\n",
    "top, down, left, right = crop.widget.result\n",
    "roi = [(top, down), (left,right)] \n",
    "\n",
    "f, (ax1, ax2) = plt.subplots(1, 2)\n",
    "ax1.imshow(frame0[roi[0][0]:roi[0][1],roi[1][0]:roi[1][1]])\n",
    "ax1.set_title('First frame')\n",
    "ax2.imshow(frame1[roi[0][0]:roi[0][1],roi[1][0]:roi[1][1]])\n",
    "ax2.set_title('Last frame')"
   ]
  },
  {
   "cell_type": "code",
   "execution_count": null,
   "id": "3513d097-2b33-4a6d-af5d-6e78a1abbd31",
   "metadata": {},
   "outputs": [],
   "source": [
    "n_frames = last_frame-first_frame\n",
    "n_required_frames = gif_length*20\n",
    "ratio = round(n_frames/n_required_frames)\n",
    "\n",
    "# import images from the .h5 file\n",
    "with h5.File(fname,'r') as f:\n",
    "    images = f[dset][first_frame:last_frame:ratio]\n",
    "print('{} frames has been loaded'.format(len(images)))\n"
   ]
  },
  {
   "cell_type": "code",
   "execution_count": null,
   "id": "d715db26-cbd6-483f-a31e-fd5bae874fda",
   "metadata": {},
   "outputs": [],
   "source": [
    "gif_fname = f'gif_{os.path.splitext(os.path.basename(fname))[0]}.gif'\n",
    "\n",
    "estVmax = np.mean(images[:,roi[0][0]:roi[0][1],roi[1][0]:roi[1][1]])*2\n",
    "\n",
    "imgs = [PIL.Image.fromarray(np.uint8(plt.cm.viridis(np.clip(img[roi[0][0]:roi[0][1],roi[1][0]:roi[1][1]],0, estVmax)/estVmax)*255)) for img in images]\n",
    "\n",
    "imgs[0].save(gif_fname, save_all=True, append_images=imgs[1:], duration=gif_length, loop=0)"
   ]
  },
  {
   "cell_type": "code",
   "execution_count": null,
   "id": "80b02da7-ebf3-45a2-a0ca-46b46ce07c02",
   "metadata": {},
   "outputs": [],
   "source": []
  }
 ],
 "metadata": {
  "kernelspec": {
   "display_name": "HDF5 / Standard Analysis / GPU",
   "language": "python",
   "name": "maxiv-jhub-docker-kernel-hdf5"
  },
  "language_info": {
   "codemirror_mode": {
    "name": "ipython",
    "version": 3
   },
   "file_extension": ".py",
   "mimetype": "text/x-python",
   "name": "python",
   "nbconvert_exporter": "python",
   "pygments_lexer": "ipython3",
   "version": "3.11.6"
  }
 },
 "nbformat": 4,
 "nbformat_minor": 5
}
