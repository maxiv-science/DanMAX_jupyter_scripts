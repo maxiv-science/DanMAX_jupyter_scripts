{
 "cells": [
  {
   "cell_type": "markdown",
   "id": "af52a692-38a2-4554-9441-754a087d7fdb",
   "metadata": {},
   "source": [
    "# Average the pilatus frames scan\n",
    "\n",
    "This notbook can be used to average all pilatus frames in a timescan to obtain better statistics. \n",
    "\n",
    "The averaged frame can be saved as a `.tiff` image and/or an `.h5` file\n",
    "\n",
    "The averaged frame are saved in `/data/visitors/danmax/PROPOSAL/VISIT/process/average/SAMPLE/`"
   ]
  },
  {
   "cell_type": "code",
   "execution_count": null,
   "id": "5e8f1298-6b5a-4089-8984-c4230f4144d6",
   "metadata": {},
   "outputs": [],
   "source": [
    "%matplotlib widget\n",
    "import h5py\n",
    "import numpy as np\n",
    "import matplotlib.pyplot as plt\n",
    "import os\n",
    "import tifffile\n",
    "import DanMAX as DM\n",
    "from datetime import datetime\n",
    "from time import sleep"
   ]
  },
  {
   "cell_type": "code",
   "execution_count": null,
   "id": "182c1f81-30c3-431b-aefa-fb90aad315e7",
   "metadata": {},
   "outputs": [],
   "source": [
    "#fname = '/data/visitors/danmax/PROPOSAL/VISIT/raw/SAMPLE/scan-XXXX.h5'\n",
    "fname = DM.findScan()\n",
    "\n",
    "saveTiff = True # Save as .tiff image \n",
    "saveH5 = False # Save as .h5 file\n",
    "\n",
    "dst = fname.replace('raw', 'process/average')\n",
    "if not os.path.exists(os.path.dirname(dst)):\n",
    "    print(f'Creating folder: {os.path.dirname(dst)}')\n",
    "    os.makedirs(os.path.dirname(dst))\n",
    "im = DM.getAverageImage(fname)\n",
    "\n",
    "plt.figure()\n",
    "plt.title(DM.getScan_id(fname))\n",
    "plt.imshow(im,norm='log')\n",
    "plt.colorbar(label='log(I)')\n",
    "\n",
    "if saveTiff:\n",
    "    tifffile.imwrite(dst.replace('.h5','_averaged.tiff'),\n",
    "                     im[np.newaxis,:].astype(np.float32))\n",
    "    print(f\"Averaged frames saved as: {dst.replace('.h5','_averaged.tiff')}\")\n",
    "\n",
    "if saveH5:\n",
    "    with h5py.File(dst.replace('.h5','_averaged.h5'),'w') as f:\n",
    "        f.create_dataset('/entry/instrument/pilatus/data',\n",
    "                         data=im[np.newaxis,:].astype(np.int32))\n",
    "    print(f\"Averaged frames saved as: {dst.replace('.h5','_average.h5')}\")"
   ]
  },
  {
   "cell_type": "markdown",
   "id": "5b7350f2-9cdb-4779-b52b-309619337284",
   "metadata": {},
   "source": [
    "## Automatic averaging of pilatus frames in timescans\n",
    "\n",
    "This notebook will routinely look for new files with timescans and average the pilatus frames in each timescan.  \n",
    "\n",
    "The averaged frame are saved as .tiff images in `/data/visitors/danmax/PROPOSAL/VISIT/process/average/SAMPLE/`  \n",
    "\n",
    "Stop the script by pressing the `■ (interrupt the kernel)` button in the top tool bar. \n"
   ]
  },
  {
   "cell_type": "code",
   "execution_count": null,
   "id": "ab18bf01-2eee-43f8-ad4a-4d776a28305a",
   "metadata": {},
   "outputs": [],
   "source": [
    "automatic_averaging = False\n",
    "scan_type = 'any' # timescan, dscan, ascan, meshct, etc.\n",
    "\n",
    "#Create a distination folder for data if it does not exist\n",
    "dst = os.getcwd().replace('raw', 'process/average')\n",
    "if not os.path.exists(dst):\n",
    "    print(f'Creating folder: {dst}')\n",
    "    os.makedirs(dst)\n",
    "\n",
    "while automatic_averaging:\n",
    "    # find all scans of a specified scan type\n",
    "    scans = DM.findAllScans(scan_type=scan_type, descending=False)\n",
    "    # remove scan names with already existing average tiff images\n",
    "    scans = [scan for scan in scans if not os.path.isfile(scan.replace('raw', 'process/average').replace('.h5','_averaged.tiff' ))]\n",
    "    i=0\n",
    "    for scan in scans:\n",
    "        im = DM.getAverageImage(scan)\n",
    "        tifffile.imwrite(dst.replace('.h5','_averaged.tiff'),\n",
    "                        im[np.newaxis,:].astype(np.float32))\n",
    "        i+=1\n",
    "    print(f'{datetime.now()}'.split('.')[0],f' - {i:4d} integrated images',end='\\r')\n",
    "    sleep(5)"
   ]
  }
 ],
 "metadata": {
  "kernelspec": {
   "display_name": "HDF5 / Simple Analysis / GPU",
   "language": "python",
   "name": "maxiv-jhub-docker-kernel-hdf5"
  },
  "language_info": {
   "codemirror_mode": {
    "name": "ipython",
    "version": 3
   },
   "file_extension": ".py",
   "mimetype": "text/x-python",
   "name": "python",
   "nbconvert_exporter": "python",
   "pygments_lexer": "ipython3",
   "version": "3.11.6"
  }
 },
 "nbformat": 4,
 "nbformat_minor": 5
}
