{
 "cells": [
  {
   "cell_type": "markdown",
   "id": "e8031d37-5bdd-4974-827f-181dd9ca5d25",
   "metadata": {},
   "source": [
    "# Peak fitting of selected ROIs in diffraction data\n",
    "Select one or more regions of interest and fit a simple gaussian peak across all frames"
   ]
  },
  {
   "cell_type": "code",
   "execution_count": null,
   "id": "d12e7264-c0ef-4466-a010-e36571f2c784",
   "metadata": {},
   "outputs": [],
   "source": [
    "%matplotlib widget\n",
    "import numpy as np\n",
    "import matplotlib.pyplot as plt\n",
    "import DanMAX as DM\n",
    "style = DM.darkMode(style_dic={'figure.figsize':'large'})"
   ]
  },
  {
   "cell_type": "markdown",
   "id": "b5888b58-ab6f-49c9-b032-8a97fab300c6",
   "metadata": {},
   "source": [
    "### Import data"
   ]
  },
  {
   "cell_type": "code",
   "execution_count": null,
   "id": "ddb234da-163a-4d05-ae4c-264ef8c6ef8e",
   "metadata": {},
   "outputs": [],
   "source": [
    "# Insert path for the .h5 file - TIP: Use tap for auto-complete\n",
    "#fname = '/data/visitors/danmax/PROPOSAL/VISIT/raw/SAMPLE/scan-XXXX.h5'\n",
    "fname = DM.findScan()\n",
    "\n",
    "# get the azimuthally integrated filename from master file name\n",
    "aname = DM.getAzintFname(fname)\n",
    "\n",
    "# read the integrated data\n",
    "data = DM.getAzintData(aname)\n",
    "if type(data['q']) != type(None):\n",
    "    x = data['q']\n",
    "    Q = True\n",
    "else:\n",
    "    x = data['tth']\n",
    "    Q = False\n",
    "\n",
    "# read common meta data from the master file\n",
    "meta = DM.getMetaData(fname)\n",
    "\n",
    "# reduce time-resolution to speed up initial analysis\n",
    "rf = 1\n",
    "start = None \n",
    "end =  None\n",
    "data = DM.reduceDic(data,reduction_factor=rf,start=start,end=end)\n",
    "meta = DM.reduceDic(meta,reduction_factor=rf,start=start,end=end)\n",
    "\n",
    "I = data['I']\n",
    "\n",
    "#meta_dic = DM.getMetaDic(fname) # extended meta data dictionary\n",
    "t = meta['time'] # relative time stamp in seconds\n",
    "T = meta['temp'] # temperature in Kelvin (if available, otherwise None)\n",
    "I0 = meta['I0']  # relative incident beam intensity \"I zero\"\n",
    "E = meta['energy'] # X-ray energy in keV\n",
    "\n",
    "print(f'Effective time-resolution: {np.mean(np.diff(t)):.2f} s')\n",
    "\n",
    "# normalize the integrated intensity to I0\n",
    "I = (I.T/I0).T"
   ]
  },
  {
   "cell_type": "markdown",
   "id": "ca401310-c631-4713-8e04-7be6ea58ee3f",
   "metadata": {},
   "source": [
    "### Select regions of interest\n",
    "Defined in the relevant scattering unit"
   ]
  },
  {
   "cell_type": "code",
   "execution_count": null,
   "id": "56e5161d-0d04-424c-8610-b5090b3a0255",
   "metadata": {},
   "outputs": [],
   "source": [
    "# define the approximate region of interest in scattering units\n",
    "#         label  :   roi\n",
    "peaks = {'peak_1':{'roi' : [3.4,3.6]},\n",
    "         'peak_2':{'roi' : [4.2,4.5]}}\n",
    "\n",
    "# plot the region of interest for the average pattern\n",
    "plt.figure()\n",
    "plt.title(DM.getScan_id(fname))\n",
    "plt.plot(x,np.mean(I,axis=0),'k-',label='average pattern')\n",
    "# loop through all peaks\n",
    "for peak in peaks:\n",
    "    roi = peaks[peak]['roi']\n",
    "    roi = (x>roi[0]) & (x<roi[1])\n",
    "    plt.plot(x[roi],np.mean(I,axis=0)[roi],'.',label=peak)\n",
    "plt.ylabel('I [a.u.]')\n",
    "if Q:\n",
    "    plt.xlabel(r'Q [$\\AA^{-1}$]')\n",
    "else:\n",
    "    plt.xlabel(r'2$\\theta$ [$\\deg$]')\n",
    "plt.legend()"
   ]
  },
  {
   "cell_type": "markdown",
   "id": "f84ef704-f41d-4074-9646-114f6803b5e0",
   "metadata": {},
   "source": [
    "### Perform single-peak fitting"
   ]
  },
  {
   "cell_type": "code",
   "execution_count": null,
   "id": "441b14c0-9ef1-49bf-aba7-3b6877b2bf2d",
   "metadata": {},
   "outputs": [],
   "source": [
    "# loop through all peaks\n",
    "for peak in peaks:\n",
    "    # create region of interest mask\n",
    "    roi = peaks[peak]['roi']\n",
    "    roi = (x>roi[0]) & (x<roi[1])\n",
    "    \n",
    "    amplitude, position, FWHM, background, I_calc = [],[],[],[],[]\n",
    "    for i,y in enumerate(I):\n",
    "        amp,pos,fwhm,bgr,y_calc = DM.singlePeakFit(x[roi],y[roi])\n",
    "        if np.isnan(amp):\n",
    "            print(f'The fit of pattern {i+1} did not converge!' )\n",
    "        amplitude.append(amp)\n",
    "        position.append(pos)\n",
    "        FWHM.append(fwhm)\n",
    "        background.append(bgr)\n",
    "        I_calc.append(y_calc)\n",
    "    # convert to numpy arrays and save results in the peaks dictionary\n",
    "    peaks[peak]['amplitude'] = np.array(amplitude)\n",
    "    peaks[peak]['position'] = np.array(position)\n",
    "    peaks[peak]['FWHM'] = np.array(FWHM)\n",
    "    peaks[peak]['background'] = np.array(background)\n",
    "    peaks[peak]['I_calc'] = np.array(I_calc)\n",
    "    peaks[peak]['integral'] = np.array(np.trapz(I[:,roi],x[roi],axis=1))\n",
    "\n",
    "# compare the average observed peak to the average fitted peak\n",
    "global_roi = min([min(peaks[peak]['roi']) for peak in peaks]), max([max(peaks[peak]['roi']) for peak in peaks])\n",
    "roi = (x>global_roi[0]) & (x<global_roi[1])\n",
    "\n",
    "plt.figure()\n",
    "plt.title(DM.getScan_id(fname))\n",
    "plt.plot(x[roi],np.mean(I,axis=0)[roi],'k.',label='average observed peak')\n",
    "for peak in peaks:\n",
    "    # create region of interest mask\n",
    "    roi = peaks[peak]['roi']\n",
    "    roi = (x>roi[0]) & (x<roi[1])\n",
    "    I_calc = peaks[peak]['I_calc']\n",
    "    plt.plot(x[roi],np.nanmean(I_calc,axis=0),label='average fitted peak')\n",
    "    \n",
    "plt.ylabel('I [a.u.]')\n",
    "if Q:\n",
    "    plt.xlabel(r'Q [$\\AA^{-1}$]')\n",
    "else:\n",
    "    plt.xlabel(r'2$\\theta$ [$\\deg$]')\n",
    "plt.legend()"
   ]
  },
  {
   "cell_type": "markdown",
   "id": "308899c9-222d-4e0b-a2a9-16ac7d0ad3a8",
   "metadata": {},
   "source": [
    "### Plot fitting results"
   ]
  },
  {
   "cell_type": "code",
   "execution_count": null,
   "id": "678d36f2-763d-43b1-bca6-2f75d30c0405",
   "metadata": {},
   "outputs": [],
   "source": [
    "fig, axs = plt.subplots(2, 3,sharex=True)\n",
    "fig.suptitle(DM.getScan_id(fname))\n",
    "axs = axs.flatten()\n",
    "\n",
    "keys = ['amplitude', 'position', 'FWHM', 'background','integral']\n",
    "for peak in peaks:\n",
    "    for i,key in enumerate(keys):\n",
    "        axs[i].plot(t,peaks[peak][key],label=peak)\n",
    "        axs[i].set_xlabel('Time (s)')\n",
    "        axs[i].set_title(key)\n",
    "# plot temperature if available\n",
    "if type(T) != type(None):\n",
    "    axs[-1].plot(t,T, label='Temperature')\n",
    "    axs[-1].set_title('temperature')\n",
    "else:\n",
    "    axs[-1].plot(t,I0, label='I0')\n",
    "    axs[-1].set_title('I0')\n",
    "\n",
    "axs[-1].set_xlabel('Time (s)')\n",
    "axs[2].legend()\n",
    "fig.tight_layout()"
   ]
  }
 ],
 "metadata": {
  "kernelspec": {
   "display_name": "HDF5 / Simple Analysis / GPU",
   "language": "python",
   "name": "maxiv-jhub-docker-kernel-hdf5"
  },
  "language_info": {
   "codemirror_mode": {
    "name": "ipython",
    "version": 3
   },
   "file_extension": ".py",
   "mimetype": "text/x-python",
   "name": "python",
   "nbconvert_exporter": "python",
   "pygments_lexer": "ipython3",
   "version": "3.11.6"
  }
 },
 "nbformat": 4,
 "nbformat_minor": 5
}
