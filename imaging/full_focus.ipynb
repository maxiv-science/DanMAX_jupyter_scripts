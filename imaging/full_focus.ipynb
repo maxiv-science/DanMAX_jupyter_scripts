{
 "cells": [
  {
   "cell_type": "markdown",
   "id": "e8031d37-5bdd-4974-827f-181dd9ca5d25",
   "metadata": {},
   "source": [
    "# Sharpness distribution across image"
   ]
  },
  {
   "cell_type": "code",
   "execution_count": null,
   "id": "d12e7264-c0ef-4466-a010-e36571f2c784",
   "metadata": {},
   "outputs": [],
   "source": [
    "%matplotlib widget\n",
    "import numpy as np\n",
    "import matplotlib.pyplot as plt\n",
    "import h5py\n",
    "#To import DanMAX from the folder above:\n",
    "import sys\n",
    "sys.path.append('../')\n",
    "import DanMAX as DM\n",
    "style = DM.darkMode(style_dic={'figure.figsize':'large'})"
   ]
  },
  {
   "cell_type": "code",
   "execution_count": null,
   "id": "0cd71177-d778-4206-ae52-4727b196db48",
   "metadata": {},
   "outputs": [],
   "source": [
    "fname = DM.findScan().replace('_orca', '') #"
   ]
  },
  {
   "cell_type": "code",
   "execution_count": null,
   "id": "bd31b996-bd74-4589-8ea8-227ec671d3e0",
   "metadata": {},
   "outputs": [],
   "source": [
    "print(fname)\n",
    "fh = h5py.File(fname, 'r')\n",
    "motname = DM.getScanType(fname).split()[1]\n",
    "images = fh['/entry/instrument/orca/data'][:]\n",
    "motor = fh['/entry/instrument/'+motname+'/value'][:]"
   ]
  },
  {
   "cell_type": "code",
   "execution_count": null,
   "id": "8e4e9de0-80dd-46c4-b1df-a1ad6a026575",
   "metadata": {},
   "outputs": [],
   "source": [
    "def calc_sharpness(image):\n",
    "    gx, gy = np.gradient(image)\n",
    "    gnorm = np.sqrt(gx**2 + gy**2)\n",
    "    shrp = np.average(gnorm)\n",
    "    shrp_x = np.average(np.abs(gx))\n",
    "    shrp_y = np.average(np.abs(gy))\n",
    "    return shrp, shrp_x, shrp_y\n",
    "\n",
    "def flatten_image(image):\n",
    "    result = image/(np.mean(image, axis=1))[:,None]\n",
    "    result = image/(np.mean(result, axis=0))[None,:]\n",
    "    return result"
   ]
  },
  {
   "cell_type": "code",
   "execution_count": null,
   "id": "e4060ea8-2e56-4dd4-8fb1-7cfdb4baa635",
   "metadata": {},
   "outputs": [],
   "source": [
    "sharpness = []\n",
    "sharpness_x = []\n",
    "sharpness_y = []\n",
    "sharpness_tl = []\n",
    "sharpness_tr = []\n",
    "sharpness_bl = []\n",
    "sharpness_br = []\n",
    "\n",
    "for i in images:\n",
    "    flat = flatten_image(i)\n",
    "    res = calc_sharpness(flat)\n",
    "    sharpness.append(res[0])\n",
    "    sharpness_x.append(res[1])\n",
    "    sharpness_y.append(res[2])\n",
    "    flat_tl = flatten_image(i)[-300:,0:300]\n",
    "    res_tl = calc_sharpness(flat_tl)\n",
    "    sharpness_tl.append(res_tl[0])\n",
    "    flat_tr = flatten_image(i)[-300:,-300:]\n",
    "    res_tr = calc_sharpness(flat_tr)\n",
    "    sharpness_tr.append(res_tr[0])\n",
    "    flat_bl = flatten_image(i)[0:300:,0:300]\n",
    "    res_bl = calc_sharpness(flat_bl)\n",
    "    sharpness_bl.append(res_bl[0])\n",
    "    flat_br = flatten_image(i)[0:300,-300:]\n",
    "    res_br = calc_sharpness(flat_br)\n",
    "    sharpness_br.append(res_br[0])\n",
    "\n",
    "argm = np.argmax(sharpness)\n",
    "\n",
    "motmax = motor[argm]"
   ]
  },
  {
   "cell_type": "code",
   "execution_count": null,
   "id": "e7eb1b0c-f9f5-409d-9c62-ead985dcd0aa",
   "metadata": {},
   "outputs": [],
   "source": [
    "plt.figure()\n",
    "plt.plot(motor, (sharpness - np.min(sharpness))/(np.max(sharpness)-np.min(sharpness)), label='total')\n",
    "plt.plot(motor, (sharpness_x - np.min(sharpness_x))/(np.max(sharpness_x)-np.min(sharpness_x)), label='horizontal')\n",
    "plt.plot(motor, (sharpness_y - np.min(sharpness_y))/(np.max(sharpness_y)-np.min(sharpness_y)), label='vertical')\n",
    "plt.legend()\n",
    "plt.show()\n",
    "\n",
    "bestim = flatten_image(images[argm])\n",
    "print('Best focus found at {} (step # {})'.format(motor[argm], argm))\n",
    "print('Recommended motion command')\n",
    "print('umv {} {:.4f}'.format(str(motname), motor[argm]))"
   ]
  },
  {
   "cell_type": "code",
   "execution_count": null,
   "id": "e7770a65-e006-4b76-84e6-93c98660daee",
   "metadata": {},
   "outputs": [],
   "source": [
    "plt.figure()\n",
    "plt.plot(motor, (sharpness_tl - np.min(sharpness_tl))/(np.max(sharpness_tl)-np.min(sharpness_tl)), label='top left')\n",
    "plt.plot(motor, (sharpness_tr - np.min(sharpness_tr))/(np.max(sharpness_tr)-np.min(sharpness_tr)), label='top right')\n",
    "plt.plot(motor, (sharpness_bl - np.min(sharpness_bl))/(np.max(sharpness_bl)-np.min(sharpness_bl)), label='bottom left')\n",
    "plt.plot(motor, (sharpness_br - np.min(sharpness_br))/(np.max(sharpness_br)-np.min(sharpness_br)), label='bottom right')\n",
    "plt.legend()\n",
    "plt.show()\n",
    "\n",
    "bestim = flatten_image(images[argm])\n",
    "print('Best focus found at {} (step # {})'.format(motor[argm], argm))\n",
    "print('Recommended motion command')\n",
    "print('umv {} {:.4f}'.format(str(motname), motor[argm]))"
   ]
  },
  {
   "cell_type": "code",
   "execution_count": null,
   "id": "1aad8bd3-2039-42e5-8cc7-c0c70d86e862",
   "metadata": {},
   "outputs": [],
   "source": [
    "fullresim = np.zeros(shape=(bestim.shape[0]//100, bestim.shape[1]//100))\n",
    "\n",
    "for y in range (0, fullresim.shape[0]):\n",
    "    for x in range (0, fullresim.shape[1]):\n",
    "        fracim = bestim[y*100:(y+1)*100,x*100:(x+1)*100]\n",
    "        fullresim[y,x] = calc_sharpness(fracim/np.mean(fracim))[0]\n",
    "        #print(fullresim)"
   ]
  },
  {
   "cell_type": "code",
   "execution_count": null,
   "id": "6b848ab2-4e61-4528-b08e-dd47a30869e4",
   "metadata": {},
   "outputs": [],
   "source": [
    "print('sharpness distribution across the image')\n",
    "plt.figure()\n",
    "plt.imshow(fullresim)"
   ]
  },
  {
   "cell_type": "code",
   "execution_count": null,
   "id": "ed968b64-373f-4422-a229-6fbe7a5396a4",
   "metadata": {},
   "outputs": [],
   "source": []
  }
 ],
 "metadata": {
  "kernelspec": {
   "display_name": "HDF5 / Standard Analysis / GPU",
   "language": "python",
   "name": "maxiv-jup-kernel-hdf5"
  },
  "language_info": {
   "codemirror_mode": {
    "name": "ipython",
    "version": 3
   },
   "file_extension": ".py",
   "mimetype": "text/x-python",
   "name": "python",
   "nbconvert_exporter": "python",
   "pygments_lexer": "ipython3",
   "version": "3.11.6"
  }
 },
 "nbformat": 4,
 "nbformat_minor": 5
}
