{
 "cells": [
  {
   "cell_type": "code",
   "execution_count": null,
   "id": "2f59044d-dab5-462f-863a-7969e4e7fd9b",
   "metadata": {},
   "outputs": [],
   "source": [
    "%matplotlib widget\n",
    "import h5py\n",
    "import numpy as np\n",
    "from matplotlib import pyplot as plt\n",
    "#To import DanMAX from the folder above:\n",
    "import sys\n",
    "sys.path.append('../')\n",
    "import DanMAX as DM\n",
    "style = DM.darkMode(style_dic={'figure.figsize':'large'})"
   ]
  },
  {
   "cell_type": "code",
   "execution_count": null,
   "id": "927fdafe-eed9-448d-a92e-03f6362c0e4b",
   "metadata": {},
   "outputs": [],
   "source": [
    "fname = DM.findScan().replace('.h5', '_dxchange.h5')"
   ]
  },
  {
   "cell_type": "code",
   "execution_count": null,
   "id": "fac2b31a-5510-4a56-89fb-7caa46ff757e",
   "metadata": {},
   "outputs": [],
   "source": [
    "def calc_com(binary_image):\n",
    "    hor = np.sum(binary_image, axis=0)\n",
    "    ver = np.sum(binary_image, axis=1)\n",
    "    com_x = 0\n",
    "    com_y = 0\n",
    "    for i in range(0, len(hor)):\n",
    "        com_x += hor[i]*i\n",
    "    for i in range(0, len(ver)):\n",
    "        com_y += ver[i]*i\n",
    "    com_x = com_x/np.sum(hor)\n",
    "    com_y = com_y/np.sum(ver)\n",
    "    return com_x, com_y\n",
    "\n",
    "f = h5py.File(fname, 'r')\n",
    "dark = np.mean(f['exchange/data_dark'][()], axis = 0)\n",
    "flat = np.mean(f['exchange/data_white'][()], axis = 0)\n",
    "images = f['exchange/data'][()]\n",
    "pixel_size = f['/instrument/detector/actual_pixel_size_x'][()]*1e-3"
   ]
  },
  {
   "cell_type": "code",
   "execution_count": null,
   "id": "20825653-b236-4ea2-af12-785ce8b2f42c",
   "metadata": {},
   "outputs": [],
   "source": [
    "images = (images - dark)/(flat - dark)"
   ]
  },
  {
   "cell_type": "code",
   "execution_count": null,
   "id": "a3cf41b1-41d3-4558-8435-3f7597beec10",
   "metadata": {},
   "outputs": [],
   "source": [
    "# initialize figure\n",
    "res = DM.interactiveImageHist(images[0],ignore_zero=True)"
   ]
  },
  {
   "cell_type": "code",
   "execution_count": null,
   "id": "5ffb215a-f784-405e-b3b0-26dd06e3fa7f",
   "metadata": {},
   "outputs": [],
   "source": [
    "threshold = 0.7"
   ]
  },
  {
   "cell_type": "code",
   "execution_count": null,
   "id": "aee98f95-2b02-46aa-8a0b-749dba9ec5c4",
   "metadata": {},
   "outputs": [],
   "source": [
    "images = (images < threshold)*1"
   ]
  },
  {
   "cell_type": "code",
   "execution_count": null,
   "id": "e8d083f7-5ae9-4074-a72a-d453566357b4",
   "metadata": {},
   "outputs": [],
   "source": [
    "x = []\n",
    "y = []\n",
    "for i in images:\n",
    "    com_x, com_y = calc_com(i)\n",
    "    x.append(com_x)\n",
    "    y.append(com_y)"
   ]
  },
  {
   "cell_type": "code",
   "execution_count": null,
   "id": "299001d6-547e-477d-8eea-b741bc73e6be",
   "metadata": {},
   "outputs": [],
   "source": [
    "print('Y variation is {:.2f} px'.format(np.max(y)-np.min(y)))\n",
    "print('X variation is {:.2f} px'.format(np.max(x)-np.min(x)))"
   ]
  },
  {
   "cell_type": "code",
   "execution_count": null,
   "id": "ce982731-25e1-43d5-8fd1-cde7a37042d0",
   "metadata": {},
   "outputs": [],
   "source": [
    "plt.figure()\n",
    "plt.plot(x, y, marker = 'X')\n",
    "plt.show"
   ]
  },
  {
   "cell_type": "code",
   "execution_count": null,
   "id": "9c29de4a-26fc-4941-ad29-40a99d9aff71",
   "metadata": {},
   "outputs": [],
   "source": [
    "cam_rot = np.rad2deg(np.arcsin(np.polyfit(x, y, 1)[0]))\n",
    "print('camera rotation is {} deg'.format(cam_rot))\n",
    "print('suggested motion is')\n",
    "print('umvr nf_micro_cam_rot {:.4f}'.format(-cam_rot))"
   ]
  },
  {
   "cell_type": "code",
   "execution_count": null,
   "id": "2c0d6a56-3e36-4cdc-b30b-1f89e1f4240c",
   "metadata": {},
   "outputs": [],
   "source": [
    "tilt = np.rad2deg(np.arctan((np.max(y)-np.min(y))/(np.max(x)-np.min(x))))\n",
    "print('im_rx tilt is {} deg'.format(tilt))\n",
    "print('suggested motion is')\n",
    "print('umvr tom_rx {:.4f}'.format(tilt))"
   ]
  },
  {
   "cell_type": "code",
   "execution_count": null,
   "id": "c1af4e81-60d3-4c64-9ce0-d0b8b1f287e8",
   "metadata": {},
   "outputs": [],
   "source": [
    "cor_offset =  (images.shape[2]/2) - (0.5*(np.max(x)+np.min(x)))\n",
    "print('rotation axis offset is {} pixels ({} mm) relative to the image center'.format(cor_offset, cor_offset*pixel_size))\n",
    "print('suggested motion is')\n",
    "print('umvr tom_x {:.4f}'.format(cor_offset*pixel_size))"
   ]
  }
 ],
 "metadata": {
  "kernelspec": {
   "display_name": "HDF5 / Standard Analysis / GPU",
   "language": "python",
   "name": "maxiv-jup-kernel-hdf5"
  },
  "language_info": {
   "codemirror_mode": {
    "name": "ipython",
    "version": 3
   },
   "file_extension": ".py",
   "mimetype": "text/x-python",
   "name": "python",
   "nbconvert_exporter": "python",
   "pygments_lexer": "ipython3",
   "version": "3.11.6"
  }
 },
 "nbformat": 4,
 "nbformat_minor": 5
}
