{
 "cells": [
  {
   "cell_type": "markdown",
   "id": "9969f138-d520-4c91-b7bf-b79f93a0652f",
   "metadata": {},
   "source": [
    "# Find the best sample position based on diffraction intensity\n",
    "\n",
    "If the sample environment is preventing the diode from being inserted a dscan of the hex_x axis can be used to find the best horizontal position.  \n",
    "Can also be used for multiple positions"
   ]
  },
  {
   "cell_type": "code",
   "execution_count": null,
   "id": "5f9c6923-9958-4ed9-a1de-445c8aa06415",
   "metadata": {},
   "outputs": [],
   "source": [
    "%matplotlib widget\n",
    "import h5py\n",
    "import numpy as np\n",
    "import matplotlib.pyplot as plt\n",
    "from scipy.signal import find_peaks\n",
    "from ipywidgets import interact, widgets\n",
    "import DanMAX as DM"
   ]
  },
  {
   "cell_type": "code",
   "execution_count": null,
   "id": "a2ed1aca-c4ec-41a3-b676-87462129da66",
   "metadata": {},
   "outputs": [],
   "source": [
    "#----------------------------------------\n",
    "\n",
    "#fname = '/data/visitors/danmax/PROPOSAL/VISIT/raw/SAMPLE/scan-XXXX.h5'\n",
    "\n",
    "fname = DM.getLatestScan(scan_type='ascan')\n",
    "\n",
    "# read data form the .h5 file\n",
    "with h5py.File(fname) as fh:\n",
    "    im = fh['/entry/instrument/pilatus/data'][:].astype(float)\n",
    "    x = fh['/entry/instrument/hex_x/value'][:]\n",
    "\n",
    "# set masked pixels to nan\n",
    "im[im<0]=np.nan\n",
    "# mean detector intensity\n",
    "I = np.nanmean(im,axis=(1,2))\n",
    "I = (I-I.min())/(I.max()-I.min())\n",
    "# mean vertical detector intensity\n",
    "I_vert = np.nanmean(im[:,:,685:786],axis=(1,2))\n",
    "I_vert = (I_vert-I_vert.min())/(I_vert.max()-I_vert.min())\n",
    "\n",
    "# scan resolution in mm/point\n",
    "res = np.mean(np.diff(x))\n",
    "# find peaks\n",
    "peaks, prop     = find_peaks(I,\n",
    "                             distance=int(1/res),# minimal distance between peaks\n",
    "                             height=0.02) \n",
    "peaks_v, prop_v = find_peaks(I_vert,\n",
    "                             distance=int(1/res),\n",
    "                             prominence=0.02) # minimal distance between peaks\n",
    "expo = DM.getExposureTime(fname)\n",
    "print('Predicted peak positions:')\n",
    "if np.all(peaks==peaks_v):\n",
    "    print('Position (mm) , Hottest pixel (cps)')\n",
    "    [print(f'{x[peak]:13.3f} ,  {np.nanmax(im[peak])/expo:.1E}') for peak in peaks]\n",
    "else:\n",
    "    print(' Mean ,   Vertical ,  Hottest pixel (cps)')\n",
    "    for i,peak in enumerate(peaks):\n",
    "        peak_v = peaks_v[i]\n",
    "        print(f'{x[peak]:7.3f} , {x[peak_v]:7.3f}  ,  {np.nanmax(im[peak])/expo:.1E}')\n",
    "plt.figure(dpi=150)\n",
    "plt.title(DM.getScan_id(fname))\n",
    "plt.plot(x,I,label='Mean intensity')\n",
    "plt.plot(x,I_vert,label='Mean vertical intensity')\n",
    "\n",
    "plt.plot([x[peak] for peak in peaks],[I[peak] for peak in peaks],'ro',fillstyle='none',label='mean peak(s)')\n",
    "plt.plot([x[peak] for peak in peaks_v],[I_vert[peak] for peak in peaks_v],'bo',fillstyle='none',label='vertical mean peak(s)')\n",
    "\n",
    "for i,peak in enumerate(peaks):\n",
    "    peak_v = peaks_v[i]\n",
    "    plt.annotate(f'{x[peak]:.3f}',(x[peak],I[peak]),color='r')\n",
    "plt.xlabel('Position (mm)')\n",
    "plt.ylabel('Intensity')\n",
    "plt.legend()\n",
    "\n",
    "\n"
   ]
  },
  {
   "cell_type": "code",
   "execution_count": null,
   "id": "178c6fd0-77c8-43cb-8da2-18c1074ec4d7",
   "metadata": {},
   "outputs": [],
   "source": []
  }
 ],
 "metadata": {
  "kernelspec": {
   "display_name": "HDF5 / Simple Analysis / GPU",
   "language": "python",
   "name": "maxiv-jhub-docker-kernel-hdf5"
  },
  "language_info": {
   "codemirror_mode": {
    "name": "ipython",
    "version": 3
   },
   "file_extension": ".py",
   "mimetype": "text/x-python",
   "name": "python",
   "nbconvert_exporter": "python",
   "pygments_lexer": "ipython3",
   "version": "3.10.9"
  }
 },
 "nbformat": 4,
 "nbformat_minor": 5
}
