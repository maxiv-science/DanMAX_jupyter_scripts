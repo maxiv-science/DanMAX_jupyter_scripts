{
 "cells": [
  {
   "cell_type": "markdown",
   "id": "2d22f8eb-e753-4056-8cf2-9311b734c59f",
   "metadata": {},
   "source": [
    "# Extracting precise time stamps from detector triggers\n",
    "\n",
    "If activated it is possible to extract precise time stamps from the PandABox when it triggers each detector frame (, XRF spectrum, and electrometer readout). These values are stored in the `pcap_trigts` dataset in the `.h5` masterfile\n",
    "\n",
    "The time stamps are in UTC and needs to be converted to human readable time and corrected for time zone\n",
    "\n",
    "This note book shows how the time stamps are processed. It further saves the time stamps in a `.txt` file and saved in `/data/visitors/danmax/PROPOSAL/VISIT/process/timestamps/SAMPLE/`\n",
    "\n",
    "In most cases there the time is explicilty needed it may be advantageous to write it direclty to the header of the integrated data files. This should not be done on the MAX IV system as the large amounts of `.txt/.dat/.chi` files takes a lot of resources for the file system. The conversion from `.h5` to `.txt/.dat/.chi` should be done where the refinements are to be performed."
   ]
  },
  {
   "cell_type": "code",
   "execution_count": null,
   "id": "6992b69e-8d21-4c42-97af-59cba033bf56",
   "metadata": {},
   "outputs": [],
   "source": [
    "fname = '/data/visitors/danmax/PROPOSAL/VISIT/raw/SAMPLE/scan-XXXX.h5'\n",
    "\n",
    "import os\n",
    "import h5py\n",
    "import numpy as np\n",
    "from datetime import datetime\n",
    "import pytz\n",
    "import re\n",
    "\n",
    "timezone = pytz.timezone('Europe/Stockholm')\n",
    "\n",
    "fh = h5py.File(fname, 'r')\n",
    "timeStampsUnix = fh['entry/measurement/pcap_trigts']\n",
    "\n",
    "path, fileName = os.path.split(fname)\n",
    "out_path = path.replace('raw', 'process/timestamps')\n",
    "\n",
    "if not os.path.exists(out_path):\n",
    "    print(f'Creating folder: {out_path}')\n",
    "    os.makedirs(out_path)\n",
    "\n",
    "out = os.path.join(out_path,fileName.split('.')[0]+'_timestamps.txt')\n",
    "print(out)\n",
    "with open(out, \"w+\") as f:\n",
    "    for i in range(len(timeStampsUnix)):\n",
    "        timeStampUnix = fh['entry/measurement/pcap_trigts'][i]\n",
    "        offsetTZ = timezone.localize(datetime.utcfromtimestamp(timeStampUnix)).utcoffset()\n",
    "        stamp = \"{0:05d}, {1}\\n\".format(i, datetime.utcfromtimestamp(timeStampUnix)+offsetTZ)\n",
    "        f.write(stamp)"
   ]
  },
  {
   "cell_type": "code",
   "execution_count": null,
   "id": "249d641e-c87c-4d72-8e24-bc9970b7a219",
   "metadata": {},
   "outputs": [],
   "source": []
  }
 ],
 "metadata": {
  "kernelspec": {
   "display_name": "DanMax / Beamline Analysis / GPU",
   "language": "python",
   "name": "maxiv-jhub-docker-kernel-danmax"
  },
  "language_info": {
   "codemirror_mode": {
    "name": "ipython",
    "version": 3
   },
   "file_extension": ".py",
   "mimetype": "text/x-python",
   "name": "python",
   "nbconvert_exporter": "python",
   "pygments_lexer": "ipython3",
   "version": "3.9.7"
  },
  "toc-autonumbering": false
 },
 "nbformat": 4,
 "nbformat_minor": 5
}
