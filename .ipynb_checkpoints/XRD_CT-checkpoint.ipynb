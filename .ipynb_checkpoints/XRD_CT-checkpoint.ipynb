{
 "cells": [
  {
   "cell_type": "markdown",
   "id": "ab7cf086-62cc-4c0a-8f06-ae8458576e0a",
   "metadata": {},
   "source": [
    "# XRD-CT reconstruction from flyscans\n",
    "# !!!!! run this notebook inside the Tomography / Tomorec / GPU environment !!!!!\n",
    "\n",
    "This notebook will do a simple tomo resontruction for a XRD-CT map (omega-translation flyscan). It requires data from the `.h5` masterfile and the `_pilatus_integrated.h5` file."
   ]
  },
  {
   "cell_type": "markdown",
   "id": "efe87bab-a945-4fa4-bbea-714d38906053",
   "metadata": {},
   "source": [
    "### Load data and plot average XRD for the map"
   ]
  },
  {
   "cell_type": "code",
   "execution_count": null,
   "id": "a05dc482-ef4b-4ffd-ab96-3cbc5ccff0e5",
   "metadata": {},
   "outputs": [],
   "source": [
    "%pylab inline\n",
    "import os\n",
    "import h5py\n",
    "import numpy as np\n",
    "import matplotlib.pyplot as plt\n",
    "\n",
    "try:\n",
    "    import tomopy\n",
    "except ModuleNotFoundError as err:\n",
    "    raise Exception('tomopy not found: try changing your server to \"Tomography/Tomorec/GPU\": in File->Hub control panel')\n",
    "    \n",
    "# Define scan location:\n",
    "scan = 'xxxx'\n",
    "folder = '/data/visitors/danmax/xxxx/xxxx/raw/xxxx/'\n",
    "\n",
    "#radial_roi = np.arange(190,260)\n",
    "\n",
    "fh = h5py.File(os.path.join(folder, 'scan-%s.h5' %scan), 'r')\n",
    "print(\"Scan commmand used: {0}\".format(fh['entry/title'][()].decode('utf-8')))\n",
    "macroname = fh['entry/title'][()].decode('utf-8').split()\n",
    "nominalXsteps = int(macroname[4])+1\n",
    "nominalYsteps = int(macroname[8])+1\n",
    "\n",
    "print('original scan dimensions are '+str(nominalXsteps)+'x'+str(nominalYsteps)+' points')\n",
    "\n",
    "# first motor in meshct is the fast one\n",
    "y = fh['/entry/instrument/ea_sams2_ry/value'][:]\n",
    "#y = fh['/entry/instrument/ea_ppm3_2/value'][:]\n",
    "x = fh['/entry/instrument/sam_y/value'][:]\n",
    "\n",
    "#if the scan was interrupted, get the actual dimension in X, to build a map of the correct aspect ratio\n",
    "actualXsteps = int(len(x)/nominalYsteps)\n",
    "print('originally '+str(nominalXsteps)+' rotation angles were plannes')\n",
    "print('actually '+str(actualXsteps)+' rotation angles are found in the file')\n",
    "\n",
    "\n",
    "fh = h5py.File(os.path.join(folder.replace('raw', 'process/azint'), 'scan-%s_pilatus_integrated.h5' %scan), 'r')\n",
    "\n",
    "sig1 = np.mean(fh['I'][:], axis=0)\n",
    "\n",
    "#Determine if its 2theta or q\n",
    "try:\n",
    "    r_unit = fh['2th']\n",
    "    tth = True\n",
    "except KeyError:\n",
    "    r_unit = fh['q']\n",
    "    tth = False\n",
    "\n",
    "print(\"Mean of all XRD patterns:\")\n",
    "plt.figure(figsize=(12,12))\n",
    "plt.plot(sig1)\n",
    "if tth:\n",
    "    plt.xlabel(r'2$\\theta$ [$\\deg$]')\n",
    "else:\n",
    "    plt.xlabel(r'Q [$\\AA^{-1}$]')"
   ]
  },
  {
   "cell_type": "markdown",
   "id": "6d7f21ed-8420-4ee7-8caa-7e7974976fa8",
   "metadata": {},
   "source": [
    "### Reshape XRD data for tomo reconstruction"
   ]
  },
  {
   "cell_type": "code",
   "execution_count": null,
   "id": "e682740c-f242-406e-a8a9-0bd2e50d0ad2",
   "metadata": {},
   "outputs": [],
   "source": [
    "nazim = fh['I'].shape[1]\n",
    "diff2d = np.reshape(fh['I'], (nominalYsteps, nominalXsteps, nazim))\n",
    "angles2d = np.reshape(y, ((nominalYsteps, nominalXsteps)))\n",
    "angles2d = angles2d.transpose(1,0)\n",
    "proj = diff2d.transpose(0,2,1)\n",
    "theta = np.radians(angles2d[0])"
   ]
  },
  {
   "cell_type": "markdown",
   "id": "8681c7b3-be5e-4be1-aea0-bbc72ee7ecb8",
   "metadata": {},
   "source": [
    "### Plot a sinogram at a given q-point\n",
    "For visual confirmation that everything is OK"
   ]
  },
  {
   "cell_type": "code",
   "execution_count": null,
   "id": "02fd244c-daec-4561-a641-2208e0f03ff9",
   "metadata": {},
   "outputs": [],
   "source": [
    "plt.figure(figsize=(12,12))\n",
    "plt.imshow(proj[:,470,:], cmap='viridis')#, extent=[x[0], x[-1], y[0], y[-1]])\n",
    "plt.xlabel('ea_ppm3_3 / mm')\n",
    "plt.ylabel('pcap_mean (ea_ppm3_2) / mm')\n",
    "plt.colorbar()\n",
    "plt.show()\n",
    "#usefull cmaps:\n",
    "# 'CMRmap', 'GnBu', 'OrRd', PuBu', 'PuBuGn', 'PuOr', 'PuRd',\n",
    "# 'RdPu', 'RdYlGn', 'Reds', 'Spectral', 'Wistia', 'YlOrRd', 'autumn',\n",
    "# 'cividis', 'coolwarm', 'copper', 'gist_earth', 'gist_heat', 'gnuplot',\n",
    "# 'hot', 'inferno', 'jet', 'magma', 'nipy_spectral', 'ocean', 'plasma', 'rainbow',\n",
    "# 'seismic', 'spring', 'summer', 'viridis', 'winter'"
   ]
  },
  {
   "cell_type": "code",
   "execution_count": null,
   "id": "e1692504-0f3d-415a-86ab-34357f8a8051",
   "metadata": {},
   "outputs": [],
   "source": [
    "#add padding\n",
    "proj=tomopy.misc.morph.pad(proj, axis=2, mode='edge')\n",
    "\n",
    "\n",
    "#find rotation center (pick an algorithm)\n",
    "#rot_center = tomopy.find_center(proj, theta)\n",
    "rot_center = tomopy.find_center_pc(proj[0], proj[-1], tol=0.5)\n",
    "#rot_center = tomopy.find_center_vo(proj)\n",
    "\n",
    "print('rotation center is {}'.format(rot_center))\n",
    "\n",
    "plt.figure(figsize=(12,12))\n",
    "plt.imshow(proj[:,100,:], cmap='viridis')\n",
    "plt.show()"
   ]
  },
  {
   "cell_type": "code",
   "execution_count": null,
   "id": "1c74a88b-86d8-44d0-9ff0-df4a25f1a4b8",
   "metadata": {},
   "outputs": [],
   "source": [
    "#tomo reconstruction\n",
    "recon = tomopy.recon(proj, theta, center=rot_center, algorithm='gridrec', filter_name='hamming')\n",
    "\n",
    "print(recon.shape)\n",
    "\n",
    "#add a circular mask\n",
    "recon = tomopy.circ_mask(recon, axis=0, ratio=0.95)\n",
    "\n",
    "plt.figure(figsize=(12,12))\n",
    "plt.imshow(recon[422, :,:], cmap='viridis')\n",
    "plt.colorbar()\n",
    "plt.show()"
   ]
  },
  {
   "cell_type": "code",
   "execution_count": null,
   "id": "ba0cfa62-faa6-4b9a-8da1-2e2a59798120",
   "metadata": {},
   "outputs": [],
   "source": [
    "plt.figure(figsize=(12,12))\n",
    "plt.imshow(recon[500, :,:], cmap='viridis')\n",
    "plt.colorbar()\n",
    "plt.show()"
   ]
  },
  {
   "cell_type": "code",
   "execution_count": null,
   "id": "ea0cb770-ec7c-4a74-b090-020f09be2a61",
   "metadata": {},
   "outputs": [],
   "source": [
    "#Saving a PyMCA-usable H5 file\n",
    "\n",
    "fh = os.path.join(folder.replace('raw', 'process/ct'), 'scan-%s_recon.h5' %scan)\n",
    "\n",
    "out_path = folder.replace('raw', 'process/ct')\n",
    "if not os.path.exists(out_path):\n",
    "    print(f'Creating folder: {out_path}')\n",
    "    os.makedirs(out_path)\n",
    "\n",
    "print(fh)\n",
    "\n",
    "out= h5py.File(fh, 'w')\n",
    "out.create_dataset('/reconstrucred/gridrec', data=recon.transpose(1,2,0))\n",
    "if tth:\n",
    "    out.create_dataset('2th', data=r_unit)\n",
    "else:\n",
    "    out.create_dataset('q', data=r_unit)\n",
    "out.close()\n",
    "\n",
    "print('h5 file is saved')"
   ]
  }
 ],
 "metadata": {
  "kernelspec": {
   "display_name": "Tomography / Tomorec / GPU",
   "language": "python",
   "name": "maxiv-jhub-docker-kernel-tomography-tomorec"
  },
  "language_info": {
   "codemirror_mode": {
    "name": "ipython",
    "version": 3
   },
   "file_extension": ".py",
   "mimetype": "text/x-python",
   "name": "python",
   "nbconvert_exporter": "python",
   "pygments_lexer": "ipython3",
   "version": "3.7.6"
  }
 },
 "nbformat": 4,
 "nbformat_minor": 5
}
