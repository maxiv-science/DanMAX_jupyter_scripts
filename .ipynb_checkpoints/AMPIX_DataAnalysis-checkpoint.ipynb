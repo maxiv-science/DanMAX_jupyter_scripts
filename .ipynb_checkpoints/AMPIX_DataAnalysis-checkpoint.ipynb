{
 "cells": [
  {
   "cell_type": "markdown",
   "id": "e45ce73c-8327-470f-8d67-5d55ce92dbbd",
   "metadata": {},
   "source": [
    "# AMPIX data analysis\n",
    "\n",
    "This script loads data obtained using the AMPIX script. The data should be recorded using the h5AppendRecorder so that each timescan is appended as an entry in a master.h5 file.\n",
    "\n",
    "The time stamps are in UTC and needs to be converted to human readable time and corrected for time zone. This notebook shows how the time stamps are processed. It further saves the time stamps in a `.txt` file and saved in `/data/visitors/danmax/PROPOSAL/VISIT/process/timestamps/masterfolder/SAMPLE/`\n",
    "\n",
    "The notebook creates an overview plot and a widget to cycle through individual patterns. The third cell allows for saving of individual patterns as xy-files, but this should not be done on the MaxIV systems, as the thousands of files will cause massive slow down. \n",
    "\n",
    "The path to the master.h5 file is required. The timestamp can be written using a date format or in relative time in seconds from the start of the experiment. date_format should be True for a date format or False for a relative time format."
   ]
  },
  {
   "cell_type": "code",
   "execution_count": 31,
   "id": "6d057144-3ca4-439d-83f3-7c61c7929df2",
   "metadata": {},
   "outputs": [
    {
     "name": "stdout",
     "output_type": "stream",
     "text": [
      "/data/visitors/danmax/20211101/2022042908/process/azint/Run2/S2_1/scan-0162_pilatus_integrated.h5\n"
     ]
    },
    {
     "data": {
      "application/vnd.jupyter.widget-view+json": {
       "model_id": "af399e937d6f494baed2177843adbe18",
       "version_major": 2,
       "version_minor": 0
      },
      "text/plain": [
       "Canvas(toolbar=Toolbar(toolitems=[('Home', 'Reset original view', 'home', 'home'), ('Back', 'Back to previous …"
      ]
     },
     "metadata": {},
     "output_type": "display_data"
    },
    {
     "data": {
      "text/plain": [
       "Text(0, 0.5, 'Scan number')"
      ]
     },
     "execution_count": 31,
     "metadata": {},
     "output_type": "execute_result"
    }
   ],
   "source": [
    "%matplotlib widget\n",
    "import os\n",
    "import h5py\n",
    "import numpy as np\n",
    "import matplotlib.pyplot as plt\n",
    "from matplotlib.colors import LogNorm\n",
    "import glob\n",
    "from datetime import datetime\n",
    "import pytz\n",
    "import re\n",
    "from ipywidgets import interact\n",
    "from IPython.display import display\n",
    "\n",
    "\n",
    "#Input:\n",
    "fname = '/data/visitors/danmax/PROPOSAL/VISIT/raw/masterfolder/SAMPLE/master.h5'\n",
    "date_format = True\n",
    "\n",
    "#-----------------------------------------------------------------------------------------------------------------------\n",
    "fname_file = h5py.File(fname, 'r')\n",
    "\n",
    "timezone = pytz.timezone('Europe/Stockholm') #The timezone is needed to generate the proper time stamp\n",
    "\n",
    "azintname = fname.replace('raw','process/azint').split('master')[0]\n",
    "azintnames = glob.glob(azintname+'*.h5')\n",
    "azintnames = sorted(azintnames)\n",
    "\n",
    "I_data = []\n",
    "stamplist = []\n",
    "for name in azintnames:\n",
    "    try:    \n",
    "        I_file = h5py.File(name, 'r')\n",
    "        I_data.append(np.mean(I_file['I'], axis=0))\n",
    "        tth = I_file['2th']\n",
    "        \n",
    "        time_name = name.split('_pilatus')[0]        \n",
    "        entry_number = name.split('_pilatus')[0][-4:]\n",
    "        timeStampUnix = fname_file['/entry'+entry_number+'/measurement/pcap_trigts'][0]\n",
    "        offsetTZ = timezone.localize(datetime.utcfromtimestamp(timeStampUnix)).utcoffset()\n",
    "        stamp = datetime.utcfromtimestamp(timeStampUnix)+offsetTZ\n",
    "        stamplist.append(stamp)\n",
    "        \n",
    "       \n",
    "        \n",
    "    except:\n",
    "        I_data.append(np.zeros_like(tth))\n",
    "        print(name) #This should print the name of files that have errors.\n",
    "\n",
    "\n",
    "path, fileName = os.path.split(fname)\n",
    "out_path = path.replace('raw', 'process/timestamps')\n",
    "if not os.path.exists(out_path):\n",
    "    print(f'Creating folder: {out_path}')\n",
    "    os.makedirs(out_path)         \n",
    "out = os.path.join(out_path,fileName.split('.')[0]+'_timestamps.txt')\n",
    "\n",
    "with open(out, \"w+\") as f:  \n",
    "    for time in stamplist:\n",
    "        if date_format:\n",
    "            f.write(str(time)+'\\n')\n",
    "        else:\n",
    "            t0 = stamplist[0]\n",
    "            dt = time-t0\n",
    "            f.write(str(dt.seconds)+'\\n')\n",
    "              \n",
    "tth = np.array(tth)\n",
    "I_data = np.array(I_data)\n",
    "\n",
    "plt.figure()\n",
    "plt.title('PC86')\n",
    "plt.imshow(I_data, extent=[tth[0], tth[-1], 0, I_data.shape[0]], interpolation = 'Nearest', aspect = 'auto', norm=LogNorm(), origin = 'lower')\n",
    "plt.xlabel('2th')\n",
    "plt.ylabel('Scan number')"
   ]
  },
  {
   "cell_type": "code",
   "execution_count": 2,
   "id": "2f485570-0fbb-4efc-a456-165e56c729bd",
   "metadata": {},
   "outputs": [
    {
     "data": {
      "application/vnd.jupyter.widget-view+json": {
       "model_id": "1430dd83649f444093a2e95ac011420d",
       "version_major": 2,
       "version_minor": 0
      },
      "text/plain": [
       "Canvas(toolbar=Toolbar(toolitems=[('Home', 'Reset original view', 'home', 'home'), ('Back', 'Back to previous …"
      ]
     },
     "metadata": {},
     "output_type": "display_data"
    },
    {
     "data": {
      "application/vnd.jupyter.widget-view+json": {
       "model_id": "f7251add6821491f8cb24877e81af38a",
       "version_major": 2,
       "version_minor": 0
      },
      "text/plain": [
       "interactive(children=(IntSlider(value=173, description='frame', max=346), Output()), _dom_classes=('widget-int…"
      ]
     },
     "metadata": {},
     "output_type": "display_data"
    },
    {
     "data": {
      "text/plain": [
       "<function __main__.plotting(frame)>"
      ]
     },
     "execution_count": 2,
     "metadata": {},
     "output_type": "execute_result"
    }
   ],
   "source": [
    "#Widget\n",
    "plt.figure()\n",
    "def plotting(frame):\n",
    "    plt.clf()\n",
    "    plt.plot(tth, I_data[frame, :])\n",
    "    #plt.xlim([3, 6.5]) #Specify a 2theta range.\n",
    "    #plt.ylim([0, 375]) #Specify an intensity range.\n",
    "interact(plotting, frame=(0, len(I_data)-1, 1)) #The numbers in the frame bracket are start frame, end frame and spacing, respectively. If the spacing number is 1, all frames will be shown: if it\n",
    "#is 20, every 20 frames will be shown."
   ]
  },
  {
   "cell_type": "code",
   "execution_count": 23,
   "id": "ff4f175b-6ffc-4f40-a8ff-ff4e97a3692a",
   "metadata": {},
   "outputs": [
    {
     "name": "stdout",
     "output_type": "stream",
     "text": [
      "Creating folder: /data/visitors/danmax/20211101/2022042908/process/patterns/Run2/S2_1/\n"
     ]
    }
   ],
   "source": [
    "#Save xy-data. Please be aware that a large number of files can be generated. Only save to your personal computer! Don't save it in the DanMAX folders! This only serves as inspiration \n",
    "#for how to save the files on your own system.\n",
    "\n",
    "integrated_folder = fname.replace('raw','process/patterns').split('master')[0]\n",
    "if not os.path.exists(integrated_folder):\n",
    "    print(f'Creating folder: {integrated_folder}')\n",
    "    os.makedirs(integrated_folder) \n",
    "\n",
    "for scan in range(I_data.shape[0]):\n",
    "    #integrated_name = azint_fname.split('.')[0] + '_scan_{}'.format(no)+'.xy'\n",
    "\n",
    "    integrated_name = integrated_folder + 'scan_{}'.format(scan)+'.xy'\n",
    "    np.savetxt(integrated_name, np.column_stack((tth, I_data[scan, :])))"
   ]
  },
  {
   "cell_type": "code",
   "execution_count": null,
   "id": "8a67a8ca-90e7-4252-9da0-7ab7e9fad4d7",
   "metadata": {},
   "outputs": [],
   "source": []
  }
 ],
 "metadata": {
  "kernelspec": {
   "display_name": "DanMax / Beamline Analysis / GPU",
   "language": "python",
   "name": "maxiv-jhub-docker-kernel-danmax"
  },
  "language_info": {
   "codemirror_mode": {
    "name": "ipython",
    "version": 3
   },
   "file_extension": ".py",
   "mimetype": "text/x-python",
   "name": "python",
   "nbconvert_exporter": "python",
   "pygments_lexer": "ipython3",
   "version": "3.9.7"
  }
 },
 "nbformat": 4,
 "nbformat_minor": 5
}
