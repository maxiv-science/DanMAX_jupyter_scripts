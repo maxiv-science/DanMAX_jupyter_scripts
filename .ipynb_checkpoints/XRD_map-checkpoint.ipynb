{
 "cells": [
  {
   "cell_type": "markdown",
   "id": "ab7cf086-62cc-4c0a-8f06-ae8458576e0a",
   "metadata": {},
   "source": [
    "# Plot XRD maps from flyscans\n",
    "\n",
    "This notebook will plot an XRD map from a flyscan. It requires data from the `.h5` masterfile and the `_pilatus_integrated.h5` file.\n",
    "\n",
    "A ROI for the XRD map (in radial bins) should be defined in one of the cell below."
   ]
  },
  {
   "cell_type": "markdown",
   "id": "efe87bab-a945-4fa4-bbea-714d38906053",
   "metadata": {},
   "source": [
    "### Load data and plot average XRD for the map"
   ]
  },
  {
   "cell_type": "code",
   "execution_count": null,
   "id": "a05dc482-ef4b-4ffd-ab96-3cbc5ccff0e5",
   "metadata": {},
   "outputs": [],
   "source": [
    "%matplotlib widget\n",
    "import os\n",
    "import h5py\n",
    "import numpy as np\n",
    "import matplotlib.pyplot as plt\n",
    "from scipy.interpolate import griddata\n",
    "import DanMAX as DM\n",
    "\n",
    "# Define scan location:\n",
    "scan = 'XXXX'\n",
    "folder = '/data/visitors/danmax/PROPOSAL/VISIT/raw/SAMPLE/'\n",
    "\n",
    "# Define the ROI for the XRD map\n",
    "radial_roi = [500,550]\n",
    "\n",
    "fh = h5py.File(os.path.join(folder, 'scan-%s.h5' %scan), 'r')\n",
    "print(\"Scan commmand used: {0}\".format(fh['entry/title'][()].decode('utf-8')))\n",
    "macroname = fh['entry/title'][()].decode('utf-8').split()\n",
    "nominalYsteps = int(macroname[4])+1\n",
    "nominalXsteps = int(macroname[8])+1\n",
    "\n",
    "print('original scan dimensions are '+str(nominalXsteps)+'x'+str(nominalYsteps)+' points')\n",
    "\n",
    "# first motor in meshct is the fast one\n",
    "x = fh['/entry/instrument/ea_ppm3_3/value'][:]\n",
    "#y = fh['/entry/instrument/ea_ppm3_2/value'][:]\n",
    "y = fh['/entry/instrument/pcap_mean/data'][:]\n",
    "\n",
    "#if the scan was interrupted, get the actual dimension in X, to build a map of the correct aspect ratio\n",
    "actualXsteps = int(len(x)/nominalYsteps)\n",
    "print('originally '+str(nominalXsteps)+' horizontal steps were plannes')\n",
    "print('actually '+str(actualXsteps)+' full horizontal steps are found in the file')\n",
    "\n",
    "def make_map(x, y, signal):\n",
    "    xmin, xmax = np.amin(x), np.amax(x)\n",
    "    ymin, ymax = np.amin(y), np.amax(y)\n",
    "\n",
    "    xi = np.linspace(xmin, xmax, 2*actualXsteps)\n",
    "    yi = np.linspace(ymin, ymax, 2*nominalYsteps)\n",
    "\n",
    "    XI, YI = np.meshgrid(xi, yi)\n",
    "    ZI = griddata((x.reshape(-1), y.reshape(-1)), signal.reshape(-1), (XI, YI), 'nearest')\n",
    "    return ZI\n",
    "\n",
    "fh = h5py.File(os.path.join(folder.replace('raw', 'process/azint'), 'scan-%s_pilatus_integrated.h5' %scan), 'r')\n",
    "\n",
    "plt.figure()\n",
    "plt.plot(np.mean(fh['I'][:], axis=0))\n",
    "plt.axvline(radial_roi[0], color='black', linestyle='--')\n",
    "plt.axvline(radial_roi[1], color='black', linestyle='--')"
   ]
  },
  {
   "cell_type": "markdown",
   "id": "6d7f21ed-8420-4ee7-8caa-7e7974976fa8",
   "metadata": {},
   "source": [
    "### Calculate XRD map\n",
    "This may take a while..."
   ]
  },
  {
   "cell_type": "code",
   "execution_count": null,
   "id": "e682740c-f242-406e-a8a9-0bd2e50d0ad2",
   "metadata": {},
   "outputs": [],
   "source": [
    "signal = np.empty(fh['I'].shape[0])\n",
    "for i, shot in enumerate(fh['I']):\n",
    "    signal[i] = np.mean(shot[radial_roi[0]:radial_roi[1]])\n",
    "    \n",
    "img = DM.makeMap(x, y, actualXsteps, nominalYsteps, signal)\n",
    "print('Map ready!')"
   ]
  },
  {
   "cell_type": "markdown",
   "id": "8681c7b3-be5e-4be1-aea0-bbc72ee7ecb8",
   "metadata": {},
   "source": [
    "### Plot XRD map\n",
    "It is probably nescessesary to change the vmax value"
   ]
  },
  {
   "cell_type": "code",
   "execution_count": null,
   "id": "02fd244c-daec-4561-a641-2208e0f03ff9",
   "metadata": {},
   "outputs": [],
   "source": [
    "plt.figure()\n",
    "plt.imshow(img[:,:], aspect=1, vmax=0.5, cmap='viridis', extent=[x[0], x[-1], y[0], y[-1]])\n",
    "plt.xlabel('ea_ppm3_3 / mm')\n",
    "plt.ylabel('pcap_mean (ea_ppm3_2) / mm')\n",
    "\n",
    "#usefull cmaps:\n",
    "# 'CMRmap', 'GnBu', 'OrRd', PuBu', 'PuBuGn', 'PuOr', 'PuRd',\n",
    "# 'RdPu', 'RdYlGn', 'Reds', 'Spectral', 'Wistia', 'YlOrRd', 'autumn',\n",
    "# 'cividis', 'coolwarm', 'copper', 'gist_earth', 'gist_heat', 'gnuplot',\n",
    "# 'hot', 'inferno', 'jet', 'magma', 'nipy_spectral', 'ocean', 'plasma', 'rainbow',\n",
    "# 'seismic', 'spring', 'summer', 'viridis', 'winter'"
   ]
  },
  {
   "cell_type": "code",
   "execution_count": null,
   "id": "e1692504-0f3d-415a-86ab-34357f8a8051",
   "metadata": {},
   "outputs": [],
   "source": []
  }
 ],
 "metadata": {
  "kernelspec": {
   "display_name": "Tomography / Tomorec / GPU",
   "language": "python",
   "name": "maxiv-jhub-hpc-kernel-tomography-tomorec"
  },
  "language_info": {
   "codemirror_mode": {
    "name": "ipython",
    "version": 3
   },
   "file_extension": ".py",
   "mimetype": "text/x-python",
   "name": "python",
   "nbconvert_exporter": "python",
   "pygments_lexer": "ipython3",
   "version": "3.7.6"
  }
 },
 "nbformat": 4,
 "nbformat_minor": 5
}
