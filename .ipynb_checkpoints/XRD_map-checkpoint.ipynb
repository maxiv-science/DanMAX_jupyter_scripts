{
 "cells": [
  {
   "cell_type": "markdown",
   "id": "ab7cf086-62cc-4c0a-8f06-ae8458576e0a",
   "metadata": {
    "tags": []
   },
   "source": [
    "# Plot XRD maps from flyscans\n",
    "\n",
    "This notebook will plot an XRD map from a flyscan. It requires data from the `.h5` masterfile and the `_pilatus_integrated.h5` file.\n",
    "\n",
    "A ROI for the XRD map (in radial bins) should be defined in one of the cell below."
   ]
  },
  {
   "cell_type": "markdown",
   "id": "efe87bab-a945-4fa4-bbea-714d38906053",
   "metadata": {
    "tags": []
   },
   "source": [
    "### Load data and plot average XRD for the map"
   ]
  },
  {
   "cell_type": "code",
   "execution_count": null,
   "id": "a05dc482-ef4b-4ffd-ab96-3cbc5ccff0e5",
   "metadata": {},
   "outputs": [],
   "source": [
    "%matplotlib widget\n",
    "import os\n",
    "import h5py\n",
    "import numpy as np\n",
    "import matplotlib.pyplot as plt\n",
    "import DanMAX as DM"
   ]
  },
  {
   "cell_type": "code",
   "execution_count": null,
   "id": "fef55778-944d-4087-a6a4-a1987a08f52c",
   "metadata": {},
   "outputs": [],
   "source": [
    "# Define scan location:\n",
    "#Note that scans must be a list!\n",
    "scans = [XXX]\n",
    "proposal,visit=DM.getCurrentProposal()\n",
    "\n",
    "#Load data\n",
    "xx, yy, xrd_map, x_xrd, Q = DM.stitchScans(scans,XRF=False,proposal=proposal,visit=visit)\n",
    "#Apply I0 correction\n",
    "xrd_map = (xrd_map.transpose(2,0,1)/ I0_map).transpose(1,2,0)\n",
    "xrd_avg = np.mean(xrd_map,axis=(0,1))\n"
   ]
  },
  {
   "cell_type": "markdown",
   "id": "a567d1f1-3a4d-4bc4-810f-74564261fa7a",
   "metadata": {},
   "source": [
    "### Plot avarage XRD map"
   ]
  },
  {
   "cell_type": "code",
   "execution_count": null,
   "id": "bef6882f-b167-4b2d-9781-6d47e23d13bc",
   "metadata": {},
   "outputs": [],
   "source": [
    "#Set ROIs:\n",
    "\n",
    "# define ROI dictionary with a label str and a tuple of lower and upper limits, given in the scattering units (2theta or Q)\n",
    "#     'label': (lower,upper)\n",
    "rois = {'peak_1' : (  4, 4.1),\n",
    "        'peak_2' : (14.24, 16.36)}\n",
    "\n",
    "# plot average XRD pattern\n",
    "plt.figure()\n",
    "plt.title('Average XRD pattern')\n",
    "plt.plot(x_xrd,xrd_avg)\n",
    "print(xrd_map.dtype)\n",
    "if Q:\n",
    "    plt.xlabel('Q (A-1)')\n",
    "else:\n",
    "    plt.xlabel('2theta (deg)')\n",
    "plt.ylabel('Intensity')\n",
    "plt.yscale('log')\n",
    "for key in rois:\n",
    "    plt.axvline(rois[key][0],c='k',ls='--',lw=1)\n",
    "    plt.axvline(rois[key][1],c='k',ls='--',lw=1)"
   ]
  },
  {
   "cell_type": "markdown",
   "id": "8681c7b3-be5e-4be1-aea0-bbc72ee7ecb8",
   "metadata": {},
   "source": [
    "### Plot XRD map\n",
    "It is probably nescessesary to change the vmax value"
   ]
  },
  {
   "cell_type": "code",
   "execution_count": null,
   "id": "e1692504-0f3d-415a-86ab-34357f8a8051",
   "metadata": {},
   "outputs": [],
   "source": [
    "# Set the number of columns for the figure\n",
    "cols = 4 \n",
    "\n",
    "rows = int(len(rois)/cols) + (len(rois)%cols!=0)\n",
    "# initialize subplots with shared x- and y-axes\n",
    "fig,axs = plt.subplots(rows,cols,sharex=True,sharey=True)\n",
    "fig.tight_layout()\n",
    "axs = axs.flatten() # flatten the axes list to make it easier to index\n",
    "\n",
    "I_xrd = []\n",
    "for i,key in enumerate(rois):\n",
    "    lower, upper = rois[key]\n",
    "    lower, upper = np.digitize(lower, x_xrd), np.digitize(upper, x_xrd)\n",
    "    \n",
    "    #calculate background\n",
    "    bkg = np.mean([np.mean(xrd_map[:,:,lower-5:lower],axis=2), np.mean(xrd_map[:,:,upper+1:upper+6],axis=2)])\n",
    "    # calculate the average diffraction peak signal from the integrated XRD data\n",
    "    I_xrd.append(np.trapz(xrd_map[:,:,lower:upper] - bkg,x_xrd[lower:upper],axis=2))\n",
    "    \n",
    "\n",
    "    # plot the map as a pseudo colormesh\n",
    "    ax = axs[i]\n",
    "    ax.set_title(key)\n",
    "    pcm = ax.pcolormesh(xx,\n",
    "                        yy,\n",
    "                        I_xrd[i],\n",
    "                        norm='log',\n",
    "                        shading='nearest')\n",
    "    fig.colorbar(pcm,ax=ax,aspect=40,pad=0.05)\n",
    "    ax.set_xlabel('x mm')\n",
    "    ax.set_ylabel('y mm')\n",
    "    # set the aspect ratio to equal to give square pixels\n",
    "    ax.set_aspect('equal')\n",
    "\n",
    "# delete surplus plots\n",
    "for i in range(1,cols*rows-len(rois)+1):\n",
    "    fig.delaxes(axs[-i])"
   ]
  }
 ],
 "metadata": {
  "kernelspec": {
   "display_name": "HDF5 / Simple Analysis / GPU",
   "language": "python",
   "name": "maxiv-jhub-docker-kernel-hdf5"
  },
  "language_info": {
   "codemirror_mode": {
    "name": "ipython",
    "version": 3
   },
   "file_extension": ".py",
   "mimetype": "text/x-python",
   "name": "python",
   "nbconvert_exporter": "python",
   "pygments_lexer": "ipython3",
   "version": "3.10.9"
  }
 },
 "nbformat": 4,
 "nbformat_minor": 5
}
