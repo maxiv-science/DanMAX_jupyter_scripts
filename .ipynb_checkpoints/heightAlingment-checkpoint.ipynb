{
 "cells": [
  {
   "cell_type": "markdown",
   "id": "9969f138-d520-4c91-b7bf-b79f93a0652f",
   "metadata": {},
   "source": [
    "# Find the best sample position based on a fit of the total diffraction intensity\n",
    "\n",
    "Use the total diffracted signal on the pilatus detector to determine the optimal motor position for a given motor scan. "
   ]
  },
  {
   "cell_type": "code",
   "execution_count": null,
   "id": "5f9c6923-9958-4ed9-a1de-445c8aa06415",
   "metadata": {},
   "outputs": [],
   "source": [
    "%matplotlib widget\n",
    "import h5py\n",
    "import numpy as np\n",
    "import matplotlib.pyplot as plt\n",
    "import DanMAX as DM"
   ]
  },
  {
   "cell_type": "code",
   "execution_count": null,
   "id": "a2ed1aca-c4ec-41a3-b676-87462129da66",
   "metadata": {},
   "outputs": [],
   "source": [
    "#fname = '/data/visitors/danmax/PROPOSAL/VISIT/raw/SAMPLE/scan-XXXX.h5'\n",
    "fname = DM.getLatestScan(scan_type='dscan')\n",
    "#fname = DM.findScan()\n",
    "\n",
    "# get the motor name from the scan type\n",
    "motor = DM.getScanType(fname).split()[1]\n",
    "# read data form the .h5 file\n",
    "with h5py.File(fname) as fh:\n",
    "    im = fh['/entry/instrument/pilatus/data'][:].astype(float)\n",
    "    x = fh[f'/entry/instrument/{motor}/value'][:]\n",
    "\n",
    "DM.getHottestPixel(fname)\n",
    "# set masked pixels to nan\n",
    "im[im<0]=np.nan\n",
    "# mean detector intensity\n",
    "I = np.nanmean(im,axis=(1,2))\n",
    "I = (I-I.min())/(I.max()-I.min())\n",
    "\n",
    "# performe Gaussian single-peak fit\n",
    "amp,pos,fwhm,bgr,y_calc = DM.singlePeakFit(x,I)\n",
    "\n",
    "print(f'Fitted maxima at {motor}: {pos:.4f} mm')\n",
    "print(f'Closes measured  {motor}: {x[np.argmin(np.abs(x-pos))]:.4f} mm')\n",
    "\n",
    "# plot the observed and fitted points\n",
    "plt.figure(dpi=150)\n",
    "plt.title(DM.getScan_id(fname))\n",
    "plt.plot(x,I,'k.',ms=2,label='Mean intensity')\n",
    "plt.plot(x,y_calc,'r-',lw=1,label='Gaussian fit')\n",
    "plt.axvline(pos,color='k',linestyle=':',lw=1)\n",
    "plt.annotate(f'{pos:.3f}',(pos,1),color='r')\n",
    "plt.xlabel(f'{motor} position (mm)')\n",
    "plt.ylabel('Intensity')\n",
    "plt.legend()"
   ]
  },
  {
   "cell_type": "code",
   "execution_count": null,
   "id": "178c6fd0-77c8-43cb-8da2-18c1074ec4d7",
   "metadata": {},
   "outputs": [],
   "source": []
  }
 ],
 "metadata": {
  "kernelspec": {
   "display_name": "HDF5 / Simple Analysis / GPU",
   "language": "python",
   "name": "maxiv-jhub-docker-kernel-hdf5"
  },
  "language_info": {
   "codemirror_mode": {
    "name": "ipython",
    "version": 3
   },
   "file_extension": ".py",
   "mimetype": "text/x-python",
   "name": "python",
   "nbconvert_exporter": "python",
   "pygments_lexer": "ipython3",
   "version": "3.9.7"
  }
 },
 "nbformat": 4,
 "nbformat_minor": 5
}
