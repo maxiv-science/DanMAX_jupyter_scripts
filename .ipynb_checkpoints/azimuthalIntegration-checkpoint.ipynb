{
 "cells": [
  {
   "cell_type": "markdown",
   "id": "ff38747f-24c4-4546-adb6-6ea63536e813",
   "metadata": {},
   "source": [
    "# Azimuthal integration of *_pilatus.h5* files using the python version of MATFRAIA\n",
    "\n",
    "This notebook will use the python implementation of MATFRAIA to azimuthally integrate a */raw/SAMPLE/\\*_pilatus.h5* file in user-specified bins and save the integrated data in a corresponding */process/azint/SAMPLE/\\*_pilatus_integrated.h5* file.\n",
    "\n",
    "**Required user-input:**  \n",
    "`scans`              : List of scan indices to be integrated  \n",
    "`poni_file`          : Absolute path for the .poni file  \n",
    "`mask`               : Absolute path for the .npy mask file  \n",
    "`radial_bins`        : Number of radial bins (default=3000)  \n",
    "`azimuthal_bins`     : Number of azimuthal bins - See help(DM.integrate_file) for more  \n",
    "`unit`               : \"q\" or \"2th\"  \n",
    "`n_splitting`        : Number of sub-pixel splitting used. The actual number of sub-pixels is N^2. (default=15)  \n",
    "`polarization_factor`: Polarization factor (default=0.999997)  \n",
    "\n",
    "**Optional user-input:**  \n",
    "`embed_meta_data`    : Boolean for toggling whether or not to embed meta data in the *_pilatus_integrated.h5* file. (default=False)\n",
    "\n",
    "More information about the integration can be found here: [Azimuthal binning](https://wiki.maxiv.lu.se/index.php?title=DanMAX:_Azint_pipeline#Azimuthal_binning)"
   ]
  },
  {
   "cell_type": "code",
   "execution_count": null,
   "id": "6684c530-bdb4-4727-8403-13fe06f37334",
   "metadata": {},
   "outputs": [],
   "source": [
    "import DanMAX as DM\n",
    "import os\n",
    "print(os.getcwd().split('scripts/')[0][:-7])"
   ]
  },
  {
   "cell_type": "code",
   "execution_count": null,
   "id": "c8d14f24-e501-4620-adf3-4c788d3d5c02",
   "metadata": {},
   "outputs": [],
   "source": [
    "scans = [xxxx, xxxx]\n",
    "files = [DM.findScan(scan) for scan in scans]\n",
    "#files = [DM.getLatestScan()]\n",
    "#files = DM.findAllScans()\n",
    "#files = ['/data/visitors/danmax/PROPOSAL/VISIT/raw/SAMPLE/scan-XXXX_pilatus.h5']\n",
    "\n",
    "# define integration configuration parameters\n",
    "config = {'poni_file'          : '/data/visitors/danmax/PROPOSAL/VISIT/process/Energy_calibration/scan-XXXX_YYYmm.poni',\n",
    "          'mask'               : '/data/visitors/danmax/PROPOSAL/VISIT/process/MyMask.npy',\n",
    "          'radial_bins'        : 3000,\n",
    "          'azimuth_bins'       : None,\n",
    "          'unit'               : 'q',         # '2th' or 'q'\n",
    "          'n_splitting'        : 15,\n",
    "          'polarization_factor': 0.999997}\n",
    "\n",
    "# toggle embedded meta data\n",
    "embed_meta_data = False"
   ]
  },
  {
   "cell_type": "code",
   "execution_count": null,
   "id": "85987684-588c-4f34-a861-b18985be124b",
   "metadata": {},
   "outputs": [],
   "source": [
    "for fname in files:\n",
    "    DM.integrate_file(fname, config,embed_meta_data)"
   ]
  }
 ],
 "metadata": {
  "kernelspec": {
   "display_name": "HDF5 / Simple Analysis / GPU",
   "language": "python",
   "name": "maxiv-jhub-docker-kernel-hdf5"
  },
  "language_info": {
   "codemirror_mode": {
    "name": "ipython",
    "version": 3
   },
   "file_extension": ".py",
   "mimetype": "text/x-python",
   "name": "python",
   "nbconvert_exporter": "python",
   "pygments_lexer": "ipython3",
   "version": "3.9.7"
  }
 },
 "nbformat": 4,
 "nbformat_minor": 5
}
