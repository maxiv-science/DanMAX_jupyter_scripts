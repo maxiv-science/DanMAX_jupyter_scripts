{
 "cells": [
  {
   "cell_type": "markdown",
   "id": "e8031d37-5bdd-4974-827f-181dd9ca5d25",
   "metadata": {},
   "source": [
    "# Compare diffraction data across different scans"
   ]
  },
  {
   "cell_type": "code",
   "execution_count": null,
   "id": "d12e7264-c0ef-4466-a010-e36571f2c784",
   "metadata": {},
   "outputs": [],
   "source": [
    "%matplotlib widget\n",
    "import numpy as np\n",
    "import matplotlib.pyplot as plt\n",
    "import DanMAX as DM\n",
    "style = DM.darkMode(style_dic={'figure.figsize':'large'})"
   ]
  },
  {
   "cell_type": "markdown",
   "id": "b5888b58-ab6f-49c9-b032-8a97fab300c6",
   "metadata": {},
   "source": [
    "### Import data"
   ]
  },
  {
   "cell_type": "code",
   "execution_count": null,
   "id": "ddb234da-163a-4d05-ae4c-264ef8c6ef8e",
   "metadata": {},
   "outputs": [],
   "source": [
    "# define scans to include in the comparison\n",
    "scans = [xxxx]\n",
    "\n",
    "x,I,t,T,I0,E = {},{},{},{},{},{}\n",
    "for scan in scans:\n",
    "    # find scan path\n",
    "    fname = DM.findScan(scan)\n",
    "    # get the azimuthally integrated filename from master file name\n",
    "    aname = DM.getAzintFname(fname)\n",
    "    if scan == 601:\n",
    "        aname = aname2\n",
    "    # read the integrated data\n",
    "    data = DM.getAzintData(aname)\n",
    "    if type(data['q']) != type(None):\n",
    "        x[scan] = data['q']\n",
    "        Q = True\n",
    "    else:\n",
    "        x[scan] = data['tth']\n",
    "        Q = False\n",
    "    \n",
    "    # read common meta data from the master file\n",
    "    meta = DM.getMetaData(fname)\n",
    "    print(meta['I0'].shape)\n",
    "    # reduce time-resolution to speed up initial analysis\n",
    "    rf = 1\n",
    "    start = None \n",
    "    end =  None\n",
    "    data = DM.reduceDic(data,reduction_factor=rf,start=start,end=end)\n",
    "    meta = DM.reduceDic(meta,reduction_factor=rf,start=start,end=end)\n",
    "    \n",
    "    I[scan] = data['I']\n",
    "    #meta_dic = DM.getMetaDic(fname) # extended meta data dictionary\n",
    "    t[scan] = meta['time'] # relative time stamp in seconds\n",
    "    T[scan] = meta['temp'] # temperature in Kelvin (if available, otherwise None)\n",
    "    I0[scan]= meta['I0']  # relative incident beam intensity \"I zero\"\n",
    "    E[scan] = meta['energy'] # X-ray energy in keV\n",
    "\n",
    "    print(f'Effective time-resolution: {np.mean(np.diff(t[scan])):.2f} s')\n",
    "\n",
    "    # normalize the integrated intensity to I0\n",
    "    I[scan] = (I[scan].T/I0[scan]).T"
   ]
  },
  {
   "cell_type": "markdown",
   "id": "ca401310-c631-4713-8e04-7be6ea58ee3f",
   "metadata": {},
   "source": [
    "### Plot average diffraction patterns"
   ]
  },
  {
   "cell_type": "code",
   "execution_count": null,
   "id": "56e5161d-0d04-424c-8610-b5090b3a0255",
   "metadata": {},
   "outputs": [],
   "source": [
    "# initialize figure\n",
    "plt.figure()\n",
    "plt.title('Pattern comparison')\n",
    "if Q:\n",
    "    plt.xlabel(r'Q [$\\AA^{-1}$]')\n",
    "else:\n",
    "    plt.xlabel(r'2$\\theta$ [$\\deg$]')\n",
    "plt.ylabel('I [a.u.]')\n",
    "y_avg = {}\n",
    "for scan in scans:\n",
    "    y_avg[scan] = np.mean(I[scan],axis=0)\n",
    "    y_avg[scan] /= np.max(y_avg[scan])\n",
    "    plt.plot(x[scan],y_avg[scan],'.-',label=f'scan-{scan:04d}')\n",
    "plt.legend()"
   ]
  }
 ],
 "metadata": {
  "kernelspec": {
   "display_name": "HDF5 / Simple Analysis / GPU",
   "language": "python",
   "name": "maxiv-jhub-docker-kernel-hdf5"
  },
  "language_info": {
   "codemirror_mode": {
    "name": "ipython",
    "version": 3
   },
   "file_extension": ".py",
   "mimetype": "text/x-python",
   "name": "python",
   "nbconvert_exporter": "python",
   "pygments_lexer": "ipython3",
   "version": "3.11.6"
  }
 },
 "nbformat": 4,
 "nbformat_minor": 5
}
