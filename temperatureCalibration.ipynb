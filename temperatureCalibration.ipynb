{
 "cells": [
  {
   "cell_type": "markdown",
   "id": "0d9e4477-d104-461e-95b8-60a22e6e4db5",
   "metadata": {},
   "source": [
    "# Temperature calibration - Lakeshore temperature controller\n",
    "Perform a temperature calibration based on a continously measured temperature scan using the Lakeshore temperature controller.  \n",
    "An __external thermocouple__ should be positioned at the sample position and connected to the __Lakeshore ch D__.  \n",
    "The __heatgun nozzle thermocouple__ should be connected to the __Lakeshore ch C__."
   ]
  },
  {
   "cell_type": "code",
   "execution_count": null,
   "id": "7fdc2aa6-0ab1-482d-bf74-3303fc4ed513",
   "metadata": {},
   "outputs": [],
   "source": [
    "%matplotlib widget\n",
    "import h5py\n",
    "import numpy as np\n",
    "import matplotlib.pyplot as plt\n",
    "import DanMAX as DM\n",
    "style = DM.darkMode(style_dic={'size':'large'})"
   ]
  },
  {
   "cell_type": "code",
   "execution_count": null,
   "id": "481724f8-d9ea-4c4f-8f70-af79a5198b80",
   "metadata": {},
   "outputs": [],
   "source": [
    "fname = DM.findScan()\n",
    "# user-specified target temperatures (K)\n",
    "target_T = [300,400,500,600,700]\n",
    "\n",
    "# read data form the .h5 file\n",
    "meta = DM.getMetaDic(fname)\n",
    "T_nozzle = meta['lakeshore_tempC']\n",
    "T_sample = meta['lakeshore_tempD']\n",
    "\n",
    "# polynomial fit\n",
    "for deg in range(1,4):\n",
    "   p = {'{deg}':np.polyfit(T_sample,T_nozzle,deg) for deg in range(1,4)}\n",
    "\n",
    "# plot the calibration\n",
    "plt.figure()\n",
    "plt.title(DM.getScan_id(fname))\n",
    "plt.xlabel('Sample temperature (K)')\n",
    "plt.ylabel('Nozzle temperature (K)')\n",
    "plt.plot([T_nozzle.min(),T_nozzle.min()],[T_nozzle.max(),T_nozzle.max()],'k--',lw=1)\n",
    "plt.plot(T_sample,T_nozzle,label='Measured')\n",
    "\n",
    "for deg in p:\n",
    "    fit = np.polyval(p[deg],T_sample)\n",
    "    eq = 'y = '+' '.join([f'{c:+.4f} 'f'x^{i}' for i,c in enumerate(p[deg][::-1])]).replace('x^0 ','')\n",
    "    print(eq)\n",
    "    plt.plot(T_sample,fit,'--',label=f'poly deg: {deg}')\n",
    "\n",
    "# print calibration table\n",
    "print('             Polynomial degree')\n",
    "print(f'Target (K) : '+' : '.join([f'{deg:^6s}' for deg in p]))\n",
    "for T in target_T:\n",
    "    print(f'{T:10.1f} : ' + ' : '.join([f'{np.polyval(p[deg],T):06.1f}' for deg in p]))"
   ]
  },
  {
   "cell_type": "code",
   "execution_count": null,
   "id": "7c30f4de-4445-407c-8898-df17fd2bd7a3",
   "metadata": {},
   "outputs": [],
   "source": []
  }
 ],
 "metadata": {
  "kernelspec": {
   "display_name": "HDF5 / Standard Analysis / GPU",
   "language": "python",
   "name": "maxiv-jhub-docker-kernel-hdf5"
  },
  "language_info": {
   "codemirror_mode": {
    "name": "ipython",
    "version": 3
   },
   "file_extension": ".py",
   "mimetype": "text/x-python",
   "name": "python",
   "nbconvert_exporter": "python",
   "pygments_lexer": "ipython3",
   "version": "3.11.6"
  }
 },
 "nbformat": 4,
 "nbformat_minor": 5
}
