{
 "cells": [
  {
   "cell_type": "markdown",
   "id": "0d9e4477-d104-461e-95b8-60a22e6e4db5",
   "metadata": {},
   "source": [
    "# Temperature calibration - Lakeshore temperature controller\n",
    "Perform a temperature calibration based on a continously measured temperature scan using the Lakeshore temperature controller.  \n",
    "An __external thermocouple__ should be positioned at the sample position and connected to the __Lakeshore ch C__.  \n",
    "The __heatgun nozzle thermocouple__ should be connected to the __Lakeshore ch D__."
   ]
  },
  {
   "cell_type": "code",
   "execution_count": null,
   "id": "7fdc2aa6-0ab1-482d-bf74-3303fc4ed513",
   "metadata": {},
   "outputs": [],
   "source": [
    "%matplotlib widget\n",
    "import h5py\n",
    "import numpy as np\n",
    "import matplotlib.pyplot as plt\n",
    "import DanMAX as DM"
   ]
  },
  {
   "cell_type": "code",
   "execution_count": null,
   "id": "481724f8-d9ea-4c4f-8f70-af79a5198b80",
   "metadata": {},
   "outputs": [],
   "source": [
    "\n",
    "fname = DM.getLatestScan()\n",
    "#fname = DM.findScan()\n",
    "# user-specified target temperatures (K)\n",
    "target_T = [300,400,500,600,700]\n",
    "\n",
    "# read data form the .h5 file\n",
    "meta = DM.getMetaDic(fname)\n",
    "T_sample = meta['lakeshore_tempC']\n",
    "T_nozzle = meta['lakeshore_tempD']\n",
    "# linear regression\n",
    "p = np.polyfit(T_sample,T_nozzle,1)\n",
    "fit = np.polyval(p,T_sample)\n",
    "eq = 'y = '+' '.join([f'{c:+.4f} 'f'x^{i}' for i,c in enumerate(p[::-1])]).replace('x^0 ','')\n",
    "print(eq)\n",
    "\n",
    "# plot the calibration\n",
    "plt.figure()\n",
    "plt.plot(T_sample,T_nozzle)\n",
    "plt.plot(T_sample,fit,'r--')\n",
    "plt.xlabel('Sample temperature (K)')\n",
    "plt.ylabel('Nozzle temperature (K)')\n",
    "plt.title(eq)\n",
    "\n",
    "# print calibration table\n",
    "print(f'Target (K) : {\"Set (K)\":^6s}')\n",
    "for T in target_T:\n",
    "    print(f'{T:10.1f} : {np.polyval(p,T):6.1f}')"
   ]
  },
  {
   "cell_type": "code",
   "execution_count": null,
   "id": "d137250f-6087-453d-b479-46d741933bc0",
   "metadata": {},
   "outputs": [],
   "source": []
  }
 ],
 "metadata": {
  "kernelspec": {
   "display_name": "HDF5 / Simple Analysis / GPU",
   "language": "python",
   "name": "maxiv-jhub-docker-kernel-hdf5"
  },
  "language_info": {
   "codemirror_mode": {
    "name": "ipython",
    "version": 3
   },
   "file_extension": ".py",
   "mimetype": "text/x-python",
   "name": "python",
   "nbconvert_exporter": "python",
   "pygments_lexer": "ipython3",
   "version": "3.9.7"
  }
 },
 "nbformat": 4,
 "nbformat_minor": 5
}
