{
 "cells": [
  {
   "cell_type": "markdown",
   "id": "ab7cf086-62cc-4c0a-8f06-ae8458576e0a",
   "metadata": {},
   "source": [
    "# Plot XRF and XRD maps from flyscans\n",
    "\n",
    "This notebook will plot XRF and XRD maps from flyscans. It requires data from the `.h5` masterfile, the `_falconx.h5` file and the `_pilatus_integrated.h5` file.\n",
    "\n",
    "The user should provide a list of scan IDs, which are read and stitched together.\n",
    "\n",
    "Two ROIs should be defined in the various cells, one for the interval to use for the XRF maps (in keV) and one for the XRD maps (in scattering units).\n",
    "\n",
    "NB: The notebook is intended for large dataset and as such, reduce the data size by converting to unsigned integers (*uint32*). For small dataset with low count rate it might be beneficial to switch to *float* for a larger dynamic range."
   ]
  },
  {
   "cell_type": "markdown",
   "id": "f4f23565-b359-4192-adfb-86b43b2baf7f",
   "metadata": {},
   "source": [
    "### Content\n",
    "[**Import and reshape data**](#import)  \n",
    "[**Plot average fluorescence spectrum**](#avg_spec)  \n",
    "[**Plot XRF maps**](#xrf_map)  \n",
    "[**Plot average diffraction pattern**](#avg_xrd)  \n",
    "[**Plot XRD maps**](#xrd_map)  "
   ]
  },
  {
   "cell_type": "code",
   "execution_count": null,
   "id": "6b97c699-a4a8-4561-8bc8-af24613d874e",
   "metadata": {},
   "outputs": [],
   "source": [
    "%matplotlib widget\n",
    "import os\n",
    "import h5py\n",
    "import numpy as np\n",
    "import matplotlib.pyplot as plt\n",
    "from scipy.interpolate import griddata\n",
    "import DanMAX as DM\n",
    "from IPython.utils import io"
   ]
  },
  {
   "cell_type": "code",
   "execution_count": null,
   "id": "c1c0434d-7d19-4e8b-bb54-f6fcc9bc0f1a",
   "metadata": {},
   "outputs": [],
   "source": [
    "# Define list of scan IDs:\n",
    "\n",
    "scans = np.arange(xxxx,xxxx+1,dtype=int)\n",
    "\n",
    "#Select emmission lines to plot:\n",
    "lines = {'Ca'    : ( 3.4 ,  4.2),\n",
    "         'Zn'    : ( 8.45,  9.9),\n",
    "         'Zn_Kb' : ( 9.4 ,  9.7),\n",
    "         'Sr'    : (13.85, 14.5)}\n",
    "\n",
    "# 'Ar'    : ( 2.8 ,  3.0 )\n",
    "# 'Ca'    : ( 3.4 ,  4.2 )\n",
    "# 'Ca_Ka' : ( 3.5 ,  3.8 )\n",
    "# 'Ca_Kb' : ( 3.84,  4.04)\n",
    "# 'Zn'    : ( 8.45,  9.9 )\n",
    "# 'Zn_Ka' : ( 8.45,  8.70)\n",
    "# 'Zn_Kb' : ( 9.4 ,  9.7 )\n",
    "# 'Br'    : (11.6 , 12.1 )\n",
    "# 'Sr'    : (13.85, 14.5 )"
   ]
  },
  {
   "cell_type": "markdown",
   "id": "87268d71-6058-49b7-ba10-68de2ca4969f",
   "metadata": {},
   "source": [
    "#### import and reshape data  <a id='import'></a>"
   ]
  },
  {
   "cell_type": "code",
   "execution_count": null,
   "id": "cd572ce2-b109-49df-93d9-691990c1d66a",
   "metadata": {},
   "outputs": [],
   "source": [
    "# import falcon x data\n",
    "fname = DM.findscan(int(scans[0]))\n",
    "with h5py.File(fname,'r') as f:\n",
    "    Emax = f['/entry/instrument/pilatus/energy'][()]*10**-3 # keV\n",
    "# Energy calibration (Conversion of chanels to energy)      \n",
    "energy = np.arange(4096)*0.01280573-0.14478\n",
    "\n",
    "xx, yy, SS, II = DM.stitchScans(scans)\n",
    "\n",
    "# calculate average spectrum\n",
    "S_avg = np.nanmean(SS,axis=(0,1))\n",
    "I_avg = np.mean(II,axis=(0,1))\n",
    "print(f'Stitched image dimensions: {SS.shape}')"
   ]
  },
  {
   "cell_type": "markdown",
   "id": "6ba8aad1-de8d-41e5-8f39-a96b53b6bf3f",
   "metadata": {},
   "source": [
    "#### plot the average spectrum  <a id='avg_spec'></a>"
   ]
  },
  {
   "cell_type": "code",
   "execution_count": null,
   "id": "bae9fc66-313b-47ba-8118-995626a79a37",
   "metadata": {},
   "outputs": [],
   "source": [
    "plt.figure()\n",
    "plt.title('Average spectrum')\n",
    "plt.plot(energy[energy<Emax*1.1],S_avg)\n",
    "plt.xlabel('Energy (keV)')\n",
    "plt.ylabel('Intensity')\n",
    "plt.xlim(0,Emax*1.1)\n",
    "# plot emmission lines\n",
    "print('Selected emmission lines:')\n",
    "for key in lines:\n",
    "    plt.axvline(lines[key][0],c='k',ls='--',lw=1)\n",
    "    plt.axvline(lines[key][1],c='k',ls='--',lw=1)\n",
    "    print(f'{key:<8s}: {lines[key][0]:4.1f} - {lines[key][1]:4.1f} keV')"
   ]
  },
  {
   "cell_type": "markdown",
   "id": "40b850c8-62b0-4d60-96b2-591a81649bb7",
   "metadata": {},
   "source": [
    "#### plot XRF heatmaps  <a id='xrf_map'></a>"
   ]
  },
  {
   "cell_type": "code",
   "execution_count": null,
   "id": "12f7ac5a-6c91-4d5b-91e8-50a1768ae505",
   "metadata": {},
   "outputs": [],
   "source": [
    "# Set the number of columns for the figure\n",
    "cols = 4 \n",
    "\n",
    "rows = int(len(lines)/cols) + (len(lines)%cols!=0)\n",
    "# initialize subplots with shared x- and y-axes\n",
    "fig,axs = plt.subplots(rows,cols,sharex=True,sharey=True)\n",
    "fig.tight_layout()\n",
    "axs = axs.flatten() # flatten the axes list to make it easier to index\n",
    "\n",
    "for i,key in enumerate(lines):\n",
    "    lower, upper = lines[key]\n",
    "    lower, upper = np.digitize(lower, energy), np.digitize(upper, energy)\n",
    "\n",
    "    # reshape the fluorescence signal from the falcon x\n",
    "    #S  = np.mean(falconx[:,lower:upper],axis=1).reshape(map_shape)\n",
    "    S = np.mean(SS[:,:,lower:upper],axis=2)\n",
    "    # plot the map as a pseudo colormesh\n",
    "    ax = axs[i]\n",
    "    ax.set_title(key)\n",
    "    pcm = ax.pcolormesh(xx,\n",
    "                        yy,\n",
    "                        S,\n",
    "                        norm='log',\n",
    "                        shading='nearest')\n",
    "    fig.colorbar(pcm,ax=ax,aspect=40,pad=0.05)\n",
    "    ax.set_xlabel(M2[0]+' mm')\n",
    "    ax.set_ylabel(M1[0]+' mm')\n",
    "    # set the aspect ratio to equal to give square pixels\n",
    "    ax.set_aspect('equal')\n",
    "\n",
    "# delete surplus plots\n",
    "for i in range(1,cols*rows-len(lines)+1):\n",
    "    fig.delaxes(axs[-i])"
   ]
  },
  {
   "cell_type": "markdown",
   "id": "7c22919a-0f4c-4a64-8e43-bd305d957bb0",
   "metadata": {},
   "source": [
    "#### plot the average diffraction pattern <a id='avg_xrd'></a>"
   ]
  },
  {
   "cell_type": "code",
   "execution_count": null,
   "id": "d5327db9-fec8-4217-8785-70c605a5c61d",
   "metadata": {},
   "outputs": [],
   "source": [
    "# define ROI dictionary with a label str and a tuple of lower and upper limits, given in the scattering units (2theta or Q)\n",
    "#     'label': (lower,upper)\n",
    "rois = {'peak_1' : (  12, 12.4),\n",
    "        'peak_2' : (14.24, 16.36)}\n",
    "\n",
    "# plot average XRD pattern\n",
    "plt.figure()\n",
    "plt.title('Average XRD pattern')\n",
    "plt.plot(x_xrd,I_avg)\n",
    "print(II.dtype)\n",
    "if Q:\n",
    "    plt.xlabel('Q (A-1)')\n",
    "else:\n",
    "    plt.xlabel('2theta (deg)')\n",
    "plt.ylabel('Intensity')\n",
    "plt.yscale('log')\n",
    "for key in rois:\n",
    "    plt.axvline(rois[key][0],c='k',ls='--',lw=1)\n",
    "    plt.axvline(rois[key][1],c='k',ls='--',lw=1)"
   ]
  },
  {
   "cell_type": "markdown",
   "id": "d3868846-042e-4baa-822a-bb9f1d48bd8f",
   "metadata": {},
   "source": [
    "#### plot XRD maps <a id='xrd_map'></a>"
   ]
  },
  {
   "cell_type": "code",
   "execution_count": null,
   "id": "f48b6d46-3cf4-4ffc-add2-a0cd8f562c03",
   "metadata": {},
   "outputs": [],
   "source": [
    "# Set the number of columns for the figure\n",
    "cols = 4 \n",
    "\n",
    "rows = int(len(rois)/cols) + (len(rois)%cols!=0)\n",
    "# initialize subplots with shared x- and y-axes\n",
    "fig,axs = plt.subplots(rows,cols,sharex=True,sharey=True)\n",
    "fig.tight_layout()\n",
    "axs = axs.flatten() # flatten the axes list to make it easier to index\n",
    "\n",
    "for i,key in enumerate(rois):\n",
    "    lower, upper = rois[key]\n",
    "    lower, upper = np.digitize(lower, x_xrd), np.digitize(upper, x_xrd)\n",
    "\n",
    "    # calculate the average diffraction peak signal from the integrated XRD data\n",
    "    I_xrd = np.mean(II[:,:,lower:upper],axis=2)\n",
    "    # subtract linear background\n",
    "    I_xrd -= np.mean([np.mean(II[:,:,lower-5:lower],axis=2), np.mean(II[:,:,upper+1:upper+6],axis=2)])#.reshape(map_shape)\n",
    "\n",
    "    # plot the map as a pseudo colormesh\n",
    "    ax = axs[i]\n",
    "    ax.set_title(key)\n",
    "    pcm = ax.pcolormesh(xx,\n",
    "                        yy,\n",
    "                        I_xrd,\n",
    "                        norm='log',\n",
    "                        shading='nearest')\n",
    "    fig.colorbar(pcm,ax=ax,aspect=40,pad=0.05)\n",
    "    ax.set_xlabel(M2[0]+' mm')\n",
    "    ax.set_ylabel(M1[0]+' mm')\n",
    "    # set the aspect ratio to equal to give square pixels\n",
    "    ax.set_aspect('equal')\n",
    "\n",
    "# delete surplus plots\n",
    "for i in range(1,cols*rows-len(rois)+1):\n",
    "    fig.delaxes(axs[-i])"
   ]
  }
 ],
 "metadata": {
  "kernelspec": {
   "display_name": "Tomography / Tomorec / GPU",
   "language": "python",
   "name": "maxiv-jhub-hpc-kernel-tomography-tomorec"
  },
  "language_info": {
   "codemirror_mode": {
    "name": "ipython",
    "version": 3
   },
   "file_extension": ".py",
   "mimetype": "text/x-python",
   "name": "python",
   "nbconvert_exporter": "python",
   "pygments_lexer": "ipython3",
   "version": "3.7.6"
  }
 },
 "nbformat": 4,
 "nbformat_minor": 5
}
