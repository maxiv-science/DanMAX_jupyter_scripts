{
 "cells": [
  {
   "cell_type": "markdown",
   "id": "ab7cf086-62cc-4c0a-8f06-ae8458576e0a",
   "metadata": {},
   "source": [
    "# Plot XRF and XRD maps from flyscans\n",
    "\n",
    "This notebook will plot XRF and XRD maps from flyscans. It requires data from the `.h5` masterfile, the `_falconx.h5` file and the `_pilatus_integrated.h5` file.\n",
    "\n",
    "Two ROIs should be defined in the various cells, one for the interval to use for the XRF maps (in keV) and one for the XRD maps (in radial bins)."
   ]
  },
  {
   "cell_type": "markdown",
   "id": "efe87bab-a945-4fa4-bbea-714d38906053",
   "metadata": {},
   "source": [
    "### Average XRF spectrum and ROI"
   ]
  },
  {
   "cell_type": "code",
   "execution_count": null,
   "id": "a05dc482-ef4b-4ffd-ab96-3cbc5ccff0e5",
   "metadata": {},
   "outputs": [],
   "source": [
    "%matplotlib widget\n",
    "import os\n",
    "import h5py\n",
    "import numpy as np\n",
    "import matplotlib.pyplot as plt\n",
    "from scipy.interpolate import griddata\n",
    "\n",
    "# Define scan location:\n",
    "scan = 'XXXX'\n",
    "folder = '/data/visitors/danmax/PROPOSAL/VISIT/raw/SAMPLE/'\n",
    "\n",
    "fh = h5py.File(os.path.join(folder, 'scan-%s.h5' %scan), 'r')\n",
    "print(\"Scan commmand used: {0}\".format(fh['entry/title'][()].decode('utf-8')))\n",
    "macroname = fh['entry/title'][()].decode('utf-8').split()\n",
    "nominalYsteps = int(macroname[4])+1\n",
    "nominalXsteps = int(macroname[8])+1\n",
    "\n",
    "print('original scan dimensions are '+str(nominalXsteps)+'x'+str(nominalYsteps)+' points')\n",
    "print('max ICR falconx %.2e' %np.amax(fh['/entry/instrument/falconx/input_count_rate']))\n",
    "\n",
    "# first motor in meshct is the fast one\n",
    "x = fh['/entry/instrument/ea_ppm3_3/value'][:]\n",
    "#y = fh['/entry/instrument/ea_ppm3_2/value'][:]\n",
    "y = fh['/entry/instrument/pcap_mean/data'][:]\n",
    "\n",
    "#Select emmission lines to plot:\n",
    "# Ca\n",
    "interval = (3.52, 4.16)\n",
    "#interval = (3.4, 4.2)\n",
    "# Ca Ka\n",
    "#interval = (3.5, 3.8)\n",
    "# Ca Kb\n",
    "#interval = (3.84, 4.04)\n",
    "#interval = (7.3, 7.74)\n",
    "#Zn\n",
    "#interval = (8.45, 9.7)\n",
    "#Zn Ka\n",
    "#interval = (8.45, 8.70)\n",
    "#Zn Kb\n",
    "#interval = (9.4, 9.7)\n",
    "#Sr\n",
    "#interval = (13.85, 14.5)\n",
    "#Ar\n",
    "#interval = (2.8, 3.0)\n",
    "#Br\n",
    "#interval = (11.6, 12.1)\n",
    "\n",
    "# Energy calibration (Conversion of chanels to energy)      \n",
    "energy = np.arange(4096)*0.01280573-0.14478\n",
    "\n",
    "# Calculate and plot average spectrum for points in the mapped area\n",
    "a, b = np.digitize(interval[0], energy), np.digitize(interval[1], energy)\n",
    "falconx = fh['/entry/instrument/falconx/data']\n",
    "spec = np.mean(falconx, axis=0)\n",
    "\n",
    "plt.figure()\n",
    "plt.plot(energy, (spec))\n",
    "plt.title('Average spectrum')\n",
    "plt.axvline(interval[0], color='black', linestyle='--')\n",
    "plt.axvline(interval[1], color='black', linestyle='--')\n",
    "plt.xlim(0.0, 20.0)"
   ]
  },
  {
   "cell_type": "markdown",
   "id": "e5eda6fa-555c-48f6-9c46-24519bd2eb15",
   "metadata": {},
   "source": [
    "### Calculate XRF map"
   ]
  },
  {
   "cell_type": "code",
   "execution_count": null,
   "id": "5fcc0848-a036-4de6-89d9-7f0324df7067",
   "metadata": {},
   "outputs": [],
   "source": [
    "#if the scan was interrupted, get the actual dimension in X, to build a map of the correct aspect ratio\n",
    "actualXsteps = int(len(x)/nominalYsteps)\n",
    "print('originally '+str(nominalXsteps)+' horizontal steps were plannes')\n",
    "print('actually '+str(actualXsteps)+' full horizontal steps are found in the file')\n",
    "\n",
    "def make_map(x, y, signal):\n",
    "    xmin, xmax = np.amin(x), np.amax(x)\n",
    "    ymin, ymax = np.amin(y), np.amax(y)\n",
    "\n",
    "    xi = np.linspace(xmin, xmax, 2*actualXsteps)\n",
    "    yi = np.linspace(ymin, ymax, 2*nominalYsteps)\n",
    "\n",
    "    XI, YI = np.meshgrid(xi, yi)\n",
    "    ZI = griddata((x.reshape(-1), y.reshape(-1)), signal.reshape(-1), (XI, YI), 'nearest')\n",
    "    return ZI\n",
    "\n",
    "# fill missing falconx values (if falconX string is shorter) with zeros\n",
    "signal = np.zeros(x.size)\n",
    "#print(signal.shape)\n",
    "signal[:falconx.shape[0]] = np.mean(falconx[:, a:b], axis=1)\n",
    "\n",
    "# if no filling of zeros required:\n",
    "img = make_map(x, y, signal)\n",
    "print('Map ready!')"
   ]
  },
  {
   "cell_type": "markdown",
   "id": "41811b24-9b11-452a-ac9d-8f00e33e3546",
   "metadata": {},
   "source": [
    "### Plot XRF map\n",
    "It is probably nescessesary to change the vmax value"
   ]
  },
  {
   "cell_type": "code",
   "execution_count": null,
   "id": "248b2e11-28ff-42cb-a864-f5fb5876560d",
   "metadata": {},
   "outputs": [],
   "source": [
    "plt.figure()\n",
    "plt.imshow(img, aspect=1, vmax=40, cmap='viridis', extent=[x[0], x[-1], y[0], y[-1]])\n",
    "plt.xlabel('ea_ppm3_3 / mm')\n",
    "plt.ylabel('pcap_mean (ea_ppm3_2) / mm')\n",
    "plt.colorbar()\n",
    "plt.tight_layout()\n",
    "\n",
    "#usefull cmaps:\n",
    "# 'CMRmap', 'GnBu', 'OrRd', PuBu', 'PuBuGn', 'PuOr', 'PuRd',\n",
    "# 'RdPu', 'RdYlGn', 'Reds', 'Spectral', 'Wistia', 'YlOrRd', 'autumn',\n",
    "# 'cividis', 'coolwarm', 'copper', 'gist_earth', 'gist_heat', 'gnuplot',\n",
    "# 'hot', 'inferno', 'jet', 'magma', 'nipy_spectral', 'ocean', 'plasma', 'rainbow',\n",
    "# 'seismic', 'spring', 'summer', 'viridis', 'winter'"
   ]
  },
  {
   "cell_type": "markdown",
   "id": "c8d936f6-beb1-4d81-ad11-bbe9d691c9be",
   "metadata": {},
   "source": [
    "### Average XRD pattern and ROI"
   ]
  },
  {
   "cell_type": "code",
   "execution_count": null,
   "id": "2270f395-570d-4e08-932d-5761f3245929",
   "metadata": {},
   "outputs": [],
   "source": [
    "fh = h5py.File(os.path.join(folder.replace('raw', 'process/azint'), 'scan-%s_pilatus_integrated.h5' %scan), 'r')\n",
    "\n",
    "# Define the ROI for the XRD map\n",
    "radial_roi = [601,608]\n",
    "\n",
    "plt.figure()\n",
    "plt.plot(np.mean(fh['I'][:], axis=0))\n",
    "plt.axvline(radial_roi[0], color='black', linestyle='--')\n",
    "plt.axvline(radial_roi[1], color='black', linestyle='--')"
   ]
  },
  {
   "cell_type": "markdown",
   "id": "6d7f21ed-8420-4ee7-8caa-7e7974976fa8",
   "metadata": {},
   "source": [
    "### Calculate XRD map\n",
    "This may take a while..."
   ]
  },
  {
   "cell_type": "code",
   "execution_count": null,
   "id": "e682740c-f242-406e-a8a9-0bd2e50d0ad2",
   "metadata": {},
   "outputs": [],
   "source": [
    "signal = np.empty(fh['I'].shape[0])\n",
    "for i, shot in enumerate(fh['I']):\n",
    "    signal[i] = np.mean(shot[radial_roi[0]:radial_roi[1]])\n",
    "    \n",
    "img = make_map(x, y, signal)\n",
    "print('Map ready!')"
   ]
  },
  {
   "cell_type": "markdown",
   "id": "8681c7b3-be5e-4be1-aea0-bbc72ee7ecb8",
   "metadata": {},
   "source": [
    "### Plot XRD map\n",
    "It is probably nescessesary to change the vmax value"
   ]
  },
  {
   "cell_type": "code",
   "execution_count": null,
   "id": "02fd244c-daec-4561-a641-2208e0f03ff9",
   "metadata": {},
   "outputs": [],
   "source": [
    "plt.figure()\n",
    "plt.imshow(img[:,:], aspect=1, vmax=40, cmap='viridis', extent=[x[0], x[-1], y[0], y[-1]])\n",
    "plt.xlabel('ea_ppm3_3 / mm')\n",
    "plt.ylabel('pcap_mean (ea_ppm3_2) / mm')\n",
    "plt.colorbar()\n",
    "plt.tight_layout()\n",
    "\n",
    "#usefull cmaps:\n",
    "# 'CMRmap', 'GnBu', 'OrRd', PuBu', 'PuBuGn', 'PuOr', 'PuRd',\n",
    "# 'RdPu', 'RdYlGn', 'Reds', 'Spectral', 'Wistia', 'YlOrRd', 'autumn',\n",
    "# 'cividis', 'coolwarm', 'copper', 'gist_earth', 'gist_heat', 'gnuplot',\n",
    "# 'hot', 'inferno', 'jet', 'magma', 'nipy_spectral', 'ocean', 'plasma', 'rainbow',\n",
    "# 'seismic', 'spring', 'summer', 'viridis', 'winter'"
   ]
  },
  {
   "cell_type": "code",
   "execution_count": null,
   "id": "76a423f9-823e-4ad4-ae08-6a49660eb98a",
   "metadata": {},
   "outputs": [],
   "source": []
  }
 ],
 "metadata": {
  "kernelspec": {
   "display_name": "HDF5 / Simple Analysis / GPU",
   "language": "python",
   "name": "maxiv-jhub-docker-kernel-hdf5"
  },
  "language_info": {
   "codemirror_mode": {
    "name": "ipython",
    "version": 3
   },
   "file_extension": ".py",
   "mimetype": "text/x-python",
   "name": "python",
   "nbconvert_exporter": "python",
   "pygments_lexer": "ipython3",
   "version": "3.9.7"
  }
 },
 "nbformat": 4,
 "nbformat_minor": 5
}
