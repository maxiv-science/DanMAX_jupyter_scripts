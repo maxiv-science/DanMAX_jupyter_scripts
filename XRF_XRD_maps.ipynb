{
 "cells": [
  {
   "cell_type": "markdown",
   "id": "ab7cf086-62cc-4c0a-8f06-ae8458576e0a",
   "metadata": {},
   "source": [
    "# Plot XRF and XRD maps from flyscans\n",
    "\n",
    "This notebook will plot XRF and XRD maps from flyscans. It requires data from the `.h5` masterfile, the `_falconx.h5` file and the `_pilatus_integrated.h5` file.\n",
    "\n",
    "The user should provide a list of scan IDs, which are read and stitched together.\n",
    "\n",
    "Two ROIs should be defined in the various cells, one for the interval to use for the XRF maps (in keV) and one for the XRD maps (in scattering units).\n",
    "\n",
    "NB: The notebook is intended for large dataset and as such, reduce the data size by converting to unsigned integers (*uint32*). For small dataset with low count rate it might be beneficial to switch to *float* for a larger dynamic range."
   ]
  },
  {
   "cell_type": "markdown",
   "id": "f4f23565-b359-4192-adfb-86b43b2baf7f",
   "metadata": {},
   "source": [
    "### Content\n",
    "[**Import and reshape data**](#import)  \n",
    "[**Plot average fluorescence spectrum**](#avg_spec)  \n",
    "[**Plot XRF maps**](#xrf_map)  \n",
    "[**Plot average diffraction pattern**](#avg_xrd)  \n",
    "[**Plot XRD maps**](#xrd_map)  "
   ]
  },
  {
   "cell_type": "code",
   "execution_count": 1,
   "id": "6b97c699-a4a8-4561-8bc8-af24613d874e",
   "metadata": {},
   "outputs": [
    {
     "name": "stderr",
     "output_type": "stream",
     "text": [
      "WARNING:hdf5plugin:bshuf filter already loaded, skip it.\n"
     ]
    }
   ],
   "source": [
    "%matplotlib widget\n",
    "import os\n",
    "import h5py\n",
    "import numpy as np\n",
    "import matplotlib.pyplot as plt\n",
    "from scipy.interpolate import griddata\n",
    "import DanMAX as DM\n",
    "from IPython.utils import io"
   ]
  },
  {
   "cell_type": "code",
   "execution_count": 3,
   "id": "c1c0434d-7d19-4e8b-bb54-f6fcc9bc0f1a",
   "metadata": {},
   "outputs": [
    {
     "ename": "NameError",
     "evalue": "name 'xxxx' is not defined",
     "output_type": "error",
     "traceback": [
      "\u001b[0;31m---------------------------------------------------------------------------\u001b[0m",
      "\u001b[0;31mNameError\u001b[0m                                 Traceback (most recent call last)",
      "\u001b[0;32m/local/slurmtmp.1368160/ipykernel_12983/1453853672.py\u001b[0m in \u001b[0;36m<module>\u001b[0;34m\u001b[0m\n\u001b[1;32m      1\u001b[0m \u001b[0;31m# Define list of scan IDs:\u001b[0m\u001b[0;34m\u001b[0m\u001b[0;34m\u001b[0m\u001b[0m\n\u001b[1;32m      2\u001b[0m \u001b[0;34m\u001b[0m\u001b[0m\n\u001b[0;32m----> 3\u001b[0;31m \u001b[0mscans\u001b[0m \u001b[0;34m=\u001b[0m \u001b[0mnp\u001b[0m\u001b[0;34m.\u001b[0m\u001b[0marange\u001b[0m\u001b[0;34m(\u001b[0m\u001b[0mxxxx\u001b[0m\u001b[0;34m,\u001b[0m\u001b[0mxxxx\u001b[0m\u001b[0;34m+\u001b[0m\u001b[0;36m1\u001b[0m\u001b[0;34m,\u001b[0m\u001b[0mdtype\u001b[0m\u001b[0;34m=\u001b[0m\u001b[0mint\u001b[0m\u001b[0;34m)\u001b[0m\u001b[0;34m\u001b[0m\u001b[0;34m\u001b[0m\u001b[0m\n\u001b[0m\u001b[1;32m      4\u001b[0m \u001b[0;34m\u001b[0m\u001b[0m\n\u001b[1;32m      5\u001b[0m \u001b[0;31m#Select emmission lines to plot:\u001b[0m\u001b[0;34m\u001b[0m\u001b[0;34m\u001b[0m\u001b[0m\n",
      "\u001b[0;31mNameError\u001b[0m: name 'xxxx' is not defined"
     ]
    }
   ],
   "source": [
    "# Define list of scan IDs:\n",
    "\n",
    "scans = np.arange(xxxx,xxxx+1,dtype=int)\n",
    "\n",
    "#Select emmission lines to plot:\n",
    "lines = {'Ca'    : ( 3.4 ,  4.2),\n",
    "         'Zn'    : ( 8.45,  9.9),\n",
    "         'Zn_Kb' : ( 9.4 ,  9.7),\n",
    "         'Sr'    : (13.85, 14.5)}\n",
    "\n",
    "# 'Ar'    : ( 2.8 ,  3.0 )\n",
    "# 'Ca'    : ( 3.4 ,  4.2 )\n",
    "# 'Ca_Ka' : ( 3.5 ,  3.8 )\n",
    "# 'Ca_Kb' : ( 3.84,  4.04)\n",
    "# 'Zn'    : ( 8.45,  9.9 )\n",
    "# 'Zn_Ka' : ( 8.45,  8.70)\n",
    "# 'Zn_Kb' : ( 9.4 ,  9.7 )\n",
    "# 'Br'    : (11.6 , 12.1 )\n",
    "# 'Sr'    : (13.85, 14.5 )"
   ]
  },
  {
   "cell_type": "markdown",
   "id": "87268d71-6058-49b7-ba10-68de2ca4969f",
   "metadata": {},
   "source": [
    "#### import and reshape data  <a id='import'></a>"
   ]
  },
  {
   "cell_type": "code",
   "execution_count": 2,
   "id": "cd572ce2-b109-49df-93d9-691990c1d66a",
   "metadata": {},
   "outputs": [
    {
     "name": "stdout",
     "output_type": "stream",
     "text": [
      "/data/visitors/danmax/20210507/2021120808/raw/club1/scan-0636.h5\n",
      "Stitched image dimensions: (19, 220, 3018)\n"
     ]
    }
   ],
   "source": [
    "# import falcon x data\n",
    "#fname = DM.findScan(int(scans[0]))\n",
    "#with h5py.File(fname,'r') as f:\n",
    "#    Emax = f['/entry/instrument/pilatus/energy'][()]*10**-3 # keV\n",
    "# Energy calibration (Conversion of chanels to energy)      \n",
    "#energy = np.arange(4096)*0.01280573-0.14478\n",
    "\n",
    "\n",
    "xx, yy, SS, energy, II, x_xrd, Q = DM.stitchScans(scans,XRF=True,XRD=True)\n",
    "                                                                                                                                                                                                                                                                                                                                                                                                                                                                                                                                          \n",
    "# calculate average spectrum\n",
    "S_avg = np.nanmean(SS,axis=(0,1))\n",
    "I_avg = np.mean(II,axis=(0,1))\n",
    "print(f'Stitched image dimensions: {SS.shape}')"
   ]
  },
  {
   "cell_type": "code",
   "execution_count": 3,
   "id": "2f248770-d6d1-4ef2-ba83-51f44593b7ce",
   "metadata": {},
   "outputs": [
    {
     "name": "stdout",
     "output_type": "stream",
     "text": [
      "(209,) (319,) (19, 220, 2906)\n"
     ]
    },
    {
     "data": {
      "application/vnd.jupyter.widget-view+json": {
       "model_id": "785ad4c1d04547198e93df682755688c",
       "version_major": 2,
       "version_minor": 0
      },
      "text/plain": [
       "Canvas(toolbar=Toolbar(toolitems=[('Home', 'Reset original view', 'home', 'home'), ('Back', 'Back to previous …"
      ]
     },
     "metadata": {},
     "output_type": "display_data"
    },
    {
     "data": {
      "text/plain": [
       "[<matplotlib.lines.Line2D at 0x2b351b573d30>]"
      ]
     },
     "execution_count": 3,
     "metadata": {},
     "output_type": "execute_result"
    }
   ],
   "source": [
    "print(np.shape(xx),np.shape(yy),np.shape(II))\n",
    "plt.figure()\n",
    "plt.plot(yy)\n"
   ]
  },
  {
   "cell_type": "markdown",
   "id": "6ba8aad1-de8d-41e5-8f39-a96b53b6bf3f",
   "metadata": {},
   "source": [
    "#### plot the average spectrum  <a id='avg_spec'></a>"
   ]
  },
  {
   "cell_type": "code",
   "execution_count": null,
   "id": "bae9fc66-313b-47ba-8118-995626a79a37",
   "metadata": {},
   "outputs": [],
   "source": [
    "plt.figure()\n",
    "plt.title('Average spectrum')\n",
    "plt.plot(energy[energy<Emax*1.1],S_avg)\n",
    "plt.xlabel('Energy (keV)')\n",
    "plt.ylabel('Intensity')\n",
    "plt.xlim(0,Emax*1.1)\n",
    "# plot emmission lines\n",
    "print('Selected emmission lines:')\n",
    "for key in lines:\n",
    "    plt.axvline(lines[key][0],c='k',ls='--',lw=1)\n",
    "    plt.axvline(lines[key][1],c='k',ls='--',lw=1)\n",
    "    print(f'{key:<8s}: {lines[key][0]:4.1f} - {lines[key][1]:4.1f} keV')"
   ]
  },
  {
   "cell_type": "markdown",
   "id": "40b850c8-62b0-4d60-96b2-591a81649bb7",
   "metadata": {},
   "source": [
    "#### plot XRF heatmaps  <a id='xrf_map'></a>"
   ]
  },
  {
   "cell_type": "code",
   "execution_count": null,
   "id": "12f7ac5a-6c91-4d5b-91e8-50a1768ae505",
   "metadata": {},
   "outputs": [],
   "source": [
    "# Set the number of columns for the figure\n",
    "cols = 4 \n",
    "\n",
    "rows = int(len(lines)/cols) + (len(lines)%cols!=0)\n",
    "# initialize subplots with shared x- and y-axes\n",
    "fig,axs = plt.subplots(rows,cols,sharex=True,sharey=True)\n",
    "fig.tight_layout()\n",
    "axs = axs.flatten() # flatten the axes list to make it easier to index\n",
    "\n",
    "for i,key in enumerate(lines):\n",
    "    lower, upper = lines[key]\n",
    "    lower, upper = np.digitize(lower, energy), np.digitize(upper, energy)\n",
    "\n",
    "    # reshape the fluorescence signal from the falcon x\n",
    "    #S  = np.mean(falconx[:,lower:upper],axis=1).reshape(map_shape)\n",
    "    S = np.mean(SS[:,:,lower:upper],axis=2)\n",
    "    # plot the map as a pseudo colormesh\n",
    "    ax = axs[i]\n",
    "    ax.set_title(key)\n",
    "    pcm = ax.pcolormesh(xx,\n",
    "                        yy,\n",
    "                        S,\n",
    "                        norm='log',\n",
    "                        shading='nearest')\n",
    "    fig.colorbar(pcm,ax=ax,aspect=40,pad=0.05)\n",
    "    ax.set_xlabel(M2[0]+' mm')\n",
    "    ax.set_ylabel(M1[0]+' mm')\n",
    "    # set the aspect ratio to equal to give square pixels\n",
    "    ax.set_aspect('equal')\n",
    "\n",
    "# delete surplus plots\n",
    "for i in range(1,cols*rows-len(lines)+1):\n",
    "    fig.delaxes(axs[-i])"
   ]
  },
  {
   "cell_type": "markdown",
   "id": "7c22919a-0f4c-4a64-8e43-bd305d957bb0",
   "metadata": {},
   "source": [
    "#### plot the average diffraction pattern <a id='avg_xrd'></a>"
   ]
  },
  {
   "cell_type": "code",
   "execution_count": 8,
   "id": "d5327db9-fec8-4217-8785-70c605a5c61d",
   "metadata": {},
   "outputs": [
    {
     "data": {
      "application/vnd.jupyter.widget-view+json": {
       "model_id": "4c9300893aa04f37b2807d180be51fa4",
       "version_major": 2,
       "version_minor": 0
      },
      "text/plain": [
       "Canvas(toolbar=Toolbar(toolitems=[('Home', 'Reset original view', 'home', 'home'), ('Back', 'Back to previous …"
      ]
     },
     "metadata": {},
     "output_type": "display_data"
    },
    {
     "name": "stdout",
     "output_type": "stream",
     "text": [
      "uint32\n"
     ]
    },
    {
     "ename": "NameError",
     "evalue": "name 'Q' is not defined",
     "output_type": "error",
     "traceback": [
      "\u001b[0;31m---------------------------------------------------------------------------\u001b[0m",
      "\u001b[0;31mNameError\u001b[0m                                 Traceback (most recent call last)",
      "\u001b[0;32m/local/slurmtmp.1368160/ipykernel_12983/2536460114.py\u001b[0m in \u001b[0;36m<module>\u001b[0;34m\u001b[0m\n\u001b[1;32m      9\u001b[0m \u001b[0mplt\u001b[0m\u001b[0;34m.\u001b[0m\u001b[0mplot\u001b[0m\u001b[0;34m(\u001b[0m\u001b[0mx_xrd\u001b[0m\u001b[0;34m,\u001b[0m\u001b[0mI_avg\u001b[0m\u001b[0;34m)\u001b[0m\u001b[0;34m\u001b[0m\u001b[0;34m\u001b[0m\u001b[0m\n\u001b[1;32m     10\u001b[0m \u001b[0mprint\u001b[0m\u001b[0;34m(\u001b[0m\u001b[0mII\u001b[0m\u001b[0;34m.\u001b[0m\u001b[0mdtype\u001b[0m\u001b[0;34m)\u001b[0m\u001b[0;34m\u001b[0m\u001b[0;34m\u001b[0m\u001b[0m\n\u001b[0;32m---> 11\u001b[0;31m \u001b[0;32mif\u001b[0m \u001b[0mQ\u001b[0m\u001b[0;34m:\u001b[0m\u001b[0;34m\u001b[0m\u001b[0;34m\u001b[0m\u001b[0m\n\u001b[0m\u001b[1;32m     12\u001b[0m     \u001b[0mplt\u001b[0m\u001b[0;34m.\u001b[0m\u001b[0mxlabel\u001b[0m\u001b[0;34m(\u001b[0m\u001b[0;34m'Q (A-1)'\u001b[0m\u001b[0;34m)\u001b[0m\u001b[0;34m\u001b[0m\u001b[0;34m\u001b[0m\u001b[0m\n\u001b[1;32m     13\u001b[0m \u001b[0;32melse\u001b[0m\u001b[0;34m:\u001b[0m\u001b[0;34m\u001b[0m\u001b[0;34m\u001b[0m\u001b[0m\n",
      "\u001b[0;31mNameError\u001b[0m: name 'Q' is not defined"
     ]
    }
   ],
   "source": [
    "# define ROI dictionary with a label str and a tuple of lower and upper limits, given in the scattering units (2theta or Q)\n",
    "#     'label': (lower,upper)\n",
    "rois = {'peak_1' : (  4, 4.1),\n",
    "        'peak_2' : (14.24, 16.36)}\n",
    "\n",
    "# plot average XRD pattern\n",
    "plt.figure()\n",
    "plt.title('Average XRD pattern')\n",
    "plt.plot(x_xrd,I_avg)\n",
    "print(II.dtype)\n",
    "if Q:\n",
    "    plt.xlabel('Q (A-1)')\n",
    "else:\n",
    "    plt.xlabel('2theta (deg)')\n",
    "plt.ylabel('Intensity')\n",
    "plt.yscale('log')\n",
    "for key in rois:\n",
    "    plt.axvline(rois[key][0],c='k',ls='--',lw=1)\n",
    "    plt.axvline(rois[key][1],c='k',ls='--',lw=1)"
   ]
  },
  {
   "cell_type": "markdown",
   "id": "d3868846-042e-4baa-822a-bb9f1d48bd8f",
   "metadata": {},
   "source": [
    "#### plot XRD maps <a id='xrd_map'></a>"
   ]
  },
  {
   "cell_type": "code",
   "execution_count": 9,
   "id": "f48b6d46-3cf4-4ffc-add2-a0cd8f562c03",
   "metadata": {},
   "outputs": [
    {
     "data": {
      "application/vnd.jupyter.widget-view+json": {
       "model_id": "e058679123a34f21b05a09aae6f227a8",
       "version_major": 2,
       "version_minor": 0
      },
      "text/plain": [
       "Canvas(toolbar=Toolbar(toolitems=[('Home', 'Reset original view', 'home', 'home'), ('Back', 'Back to previous …"
      ]
     },
     "metadata": {},
     "output_type": "display_data"
    },
    {
     "ename": "TypeError",
     "evalue": "Dimensions of C (19, 220) are incompatible with X (209) and/or Y (319); see help(pcolormesh)",
     "output_type": "error",
     "traceback": [
      "\u001b[0;31m---------------------------------------------------------------------------\u001b[0m",
      "\u001b[0;31mTypeError\u001b[0m                                 Traceback (most recent call last)",
      "\u001b[0;32m/local/slurmtmp.1368160/ipykernel_12983/3658288622.py\u001b[0m in \u001b[0;36m<module>\u001b[0;34m\u001b[0m\n\u001b[1;32m     20\u001b[0m     \u001b[0max\u001b[0m \u001b[0;34m=\u001b[0m \u001b[0maxs\u001b[0m\u001b[0;34m[\u001b[0m\u001b[0mi\u001b[0m\u001b[0;34m]\u001b[0m\u001b[0;34m\u001b[0m\u001b[0;34m\u001b[0m\u001b[0m\n\u001b[1;32m     21\u001b[0m     \u001b[0max\u001b[0m\u001b[0;34m.\u001b[0m\u001b[0mset_title\u001b[0m\u001b[0;34m(\u001b[0m\u001b[0mkey\u001b[0m\u001b[0;34m)\u001b[0m\u001b[0;34m\u001b[0m\u001b[0;34m\u001b[0m\u001b[0m\n\u001b[0;32m---> 22\u001b[0;31m     pcm = ax.pcolormesh(xx,\n\u001b[0m\u001b[1;32m     23\u001b[0m                         \u001b[0myy\u001b[0m\u001b[0;34m,\u001b[0m\u001b[0;34m\u001b[0m\u001b[0;34m\u001b[0m\u001b[0m\n\u001b[1;32m     24\u001b[0m                         \u001b[0mI_xrd\u001b[0m\u001b[0;34m,\u001b[0m\u001b[0;34m\u001b[0m\u001b[0;34m\u001b[0m\u001b[0m\n",
      "\u001b[0;32m/sw/jupyterhub/jupyterhub-hpc-live/miniconda/share/jupyter/conda_envs/maxiv-jhub-hpc-environment-hdf5/lib/python3.9/site-packages/matplotlib/__init__.py\u001b[0m in \u001b[0;36minner\u001b[0;34m(ax, data, *args, **kwargs)\u001b[0m\n\u001b[1;32m   1436\u001b[0m     \u001b[0;32mdef\u001b[0m \u001b[0minner\u001b[0m\u001b[0;34m(\u001b[0m\u001b[0max\u001b[0m\u001b[0;34m,\u001b[0m \u001b[0;34m*\u001b[0m\u001b[0margs\u001b[0m\u001b[0;34m,\u001b[0m \u001b[0mdata\u001b[0m\u001b[0;34m=\u001b[0m\u001b[0;32mNone\u001b[0m\u001b[0;34m,\u001b[0m \u001b[0;34m**\u001b[0m\u001b[0mkwargs\u001b[0m\u001b[0;34m)\u001b[0m\u001b[0;34m:\u001b[0m\u001b[0;34m\u001b[0m\u001b[0;34m\u001b[0m\u001b[0m\n\u001b[1;32m   1437\u001b[0m         \u001b[0;32mif\u001b[0m \u001b[0mdata\u001b[0m \u001b[0;32mis\u001b[0m \u001b[0;32mNone\u001b[0m\u001b[0;34m:\u001b[0m\u001b[0;34m\u001b[0m\u001b[0;34m\u001b[0m\u001b[0m\n\u001b[0;32m-> 1438\u001b[0;31m             \u001b[0;32mreturn\u001b[0m \u001b[0mfunc\u001b[0m\u001b[0;34m(\u001b[0m\u001b[0max\u001b[0m\u001b[0;34m,\u001b[0m \u001b[0;34m*\u001b[0m\u001b[0mmap\u001b[0m\u001b[0;34m(\u001b[0m\u001b[0msanitize_sequence\u001b[0m\u001b[0;34m,\u001b[0m \u001b[0margs\u001b[0m\u001b[0;34m)\u001b[0m\u001b[0;34m,\u001b[0m \u001b[0;34m**\u001b[0m\u001b[0mkwargs\u001b[0m\u001b[0;34m)\u001b[0m\u001b[0;34m\u001b[0m\u001b[0;34m\u001b[0m\u001b[0m\n\u001b[0m\u001b[1;32m   1439\u001b[0m \u001b[0;34m\u001b[0m\u001b[0m\n\u001b[1;32m   1440\u001b[0m         \u001b[0mbound\u001b[0m \u001b[0;34m=\u001b[0m \u001b[0mnew_sig\u001b[0m\u001b[0;34m.\u001b[0m\u001b[0mbind\u001b[0m\u001b[0;34m(\u001b[0m\u001b[0max\u001b[0m\u001b[0;34m,\u001b[0m \u001b[0;34m*\u001b[0m\u001b[0margs\u001b[0m\u001b[0;34m,\u001b[0m \u001b[0;34m**\u001b[0m\u001b[0mkwargs\u001b[0m\u001b[0;34m)\u001b[0m\u001b[0;34m\u001b[0m\u001b[0;34m\u001b[0m\u001b[0m\n",
      "\u001b[0;32m/sw/jupyterhub/jupyterhub-hpc-live/miniconda/share/jupyter/conda_envs/maxiv-jhub-hpc-environment-hdf5/lib/python3.9/site-packages/matplotlib/axes/_axes.py\u001b[0m in \u001b[0;36mpcolormesh\u001b[0;34m(self, alpha, norm, cmap, vmin, vmax, shading, antialiased, *args, **kwargs)\u001b[0m\n\u001b[1;32m   6091\u001b[0m         \u001b[0mkwargs\u001b[0m\u001b[0;34m.\u001b[0m\u001b[0msetdefault\u001b[0m\u001b[0;34m(\u001b[0m\u001b[0;34m'edgecolors'\u001b[0m\u001b[0;34m,\u001b[0m \u001b[0;34m'None'\u001b[0m\u001b[0;34m)\u001b[0m\u001b[0;34m\u001b[0m\u001b[0;34m\u001b[0m\u001b[0m\n\u001b[1;32m   6092\u001b[0m \u001b[0;34m\u001b[0m\u001b[0m\n\u001b[0;32m-> 6093\u001b[0;31m         X, Y, C, shading = self._pcolorargs('pcolormesh', *args,\n\u001b[0m\u001b[1;32m   6094\u001b[0m                                             shading=shading)\n\u001b[1;32m   6095\u001b[0m         \u001b[0mNy\u001b[0m\u001b[0;34m,\u001b[0m \u001b[0mNx\u001b[0m \u001b[0;34m=\u001b[0m \u001b[0mX\u001b[0m\u001b[0;34m.\u001b[0m\u001b[0mshape\u001b[0m\u001b[0;34m\u001b[0m\u001b[0;34m\u001b[0m\u001b[0m\n",
      "\u001b[0;32m/sw/jupyterhub/jupyterhub-hpc-live/miniconda/share/jupyter/conda_envs/maxiv-jhub-hpc-environment-hdf5/lib/python3.9/site-packages/matplotlib/axes/_axes.py\u001b[0m in \u001b[0;36m_pcolorargs\u001b[0;34m(funcname, shading, *args)\u001b[0m\n\u001b[1;32m   5620\u001b[0m         \u001b[0;32melse\u001b[0m\u001b[0;34m:\u001b[0m    \u001b[0;31m# ['nearest', 'gouraud']:\u001b[0m\u001b[0;34m\u001b[0m\u001b[0;34m\u001b[0m\u001b[0m\n\u001b[1;32m   5621\u001b[0m             \u001b[0;32mif\u001b[0m \u001b[0;34m(\u001b[0m\u001b[0mNx\u001b[0m\u001b[0;34m,\u001b[0m \u001b[0mNy\u001b[0m\u001b[0;34m)\u001b[0m \u001b[0;34m!=\u001b[0m \u001b[0;34m(\u001b[0m\u001b[0mncols\u001b[0m\u001b[0;34m,\u001b[0m \u001b[0mnrows\u001b[0m\u001b[0;34m)\u001b[0m\u001b[0;34m:\u001b[0m\u001b[0;34m\u001b[0m\u001b[0;34m\u001b[0m\u001b[0m\n\u001b[0;32m-> 5622\u001b[0;31m                 raise TypeError('Dimensions of C %s are incompatible with'\n\u001b[0m\u001b[1;32m   5623\u001b[0m                                 ' X (%d) and/or Y (%d); see help(%s)' % (\n\u001b[1;32m   5624\u001b[0m                                     C.shape, Nx, Ny, funcname))\n",
      "\u001b[0;31mTypeError\u001b[0m: Dimensions of C (19, 220) are incompatible with X (209) and/or Y (319); see help(pcolormesh)"
     ]
    }
   ],
   "source": [
    "# Set the number of columns for the figure\n",
    "cols = 4 \n",
    "\n",
    "rows = int(len(rois)/cols) + (len(rois)%cols!=0)\n",
    "# initialize subplots with shared x- and y-axes\n",
    "fig,axs = plt.subplots(rows,cols,sharex=True,sharey=True)\n",
    "fig.tight_layout()\n",
    "axs = axs.flatten() # flatten the axes list to make it easier to index\n",
    "\n",
    "for i,key in enumerate(rois):\n",
    "    lower, upper = rois[key]\n",
    "    lower, upper = np.digitize(lower, x_xrd), np.digitize(upper, x_xrd)\n",
    "\n",
    "    # calculate the average diffraction peak signal from the integrated XRD data\n",
    "    I_xrd = np.mean(II[:,:,lower:upper],axis=2)\n",
    "    # subtract linear background\n",
    "    I_xrd -= np.mean([np.mean(II[:,:,lower-5:lower],axis=2), np.mean(II[:,:,upper+1:upper+6],axis=2)])#.reshape(map_shape)\n",
    "\n",
    "    # plot the map as a pseudo colormesh\n",
    "    ax = axs[i]\n",
    "    ax.set_title(key)\n",
    "    pcm = ax.pcolormesh(xx,\n",
    "                        yy,\n",
    "                        I_xrd,\n",
    "                        norm='log',\n",
    "                        shading='nearest')\n",
    "    fig.colorbar(pcm,ax=ax,aspect=40,pad=0.05)\n",
    "    ax.set_xlabel(M2[0]+' mm')\n",
    "    ax.set_ylabel(M1[0]+' mm')\n",
    "    # set the aspect ratio to equal to give square pixels\n",
    "    ax.set_aspect('equal')\n",
    "\n",
    "# delete surplus plots\n",
    "for i in range(1,cols*rows-len(rois)+1):\n",
    "    fig.delaxes(axs[-i])"
   ]
  },
  {
   "cell_type": "code",
   "execution_count": 6,
   "id": "23b744b2-36bb-4112-8016-cad1448fe160",
   "metadata": {},
   "outputs": [
    {
     "ename": "NameError",
     "evalue": "name 'pcolormesh' is not defined",
     "output_type": "error",
     "traceback": [
      "\u001b[0;31m---------------------------------------------------------------------------\u001b[0m",
      "\u001b[0;31mNameError\u001b[0m                                 Traceback (most recent call last)",
      "\u001b[0;32m/local/slurmtmp.1364144/ipykernel_39985/4079153734.py\u001b[0m in \u001b[0;36m<module>\u001b[0;34m\u001b[0m\n\u001b[0;32m----> 1\u001b[0;31m \u001b[0mhelp\u001b[0m\u001b[0;34m(\u001b[0m\u001b[0mpcolormesh\u001b[0m\u001b[0;34m)\u001b[0m\u001b[0;34m\u001b[0m\u001b[0;34m\u001b[0m\u001b[0m\n\u001b[0m",
      "\u001b[0;31mNameError\u001b[0m: name 'pcolormesh' is not defined"
     ]
    }
   ],
   "source": []
  },
  {
   "cell_type": "code",
   "execution_count": 12,
   "id": "77565bd1-bad4-4691-afba-2c7bc881d87d",
   "metadata": {},
   "outputs": [
    {
     "data": {
      "application/vnd.jupyter.widget-view+json": {
       "model_id": "4ee67058c3ce4b98914ee42c29de430b",
       "version_major": 2,
       "version_minor": 0
      },
      "text/plain": [
       "Canvas(toolbar=Toolbar(toolitems=[('Home', 'Reset original view', 'home', 'home'), ('Back', 'Back to previous …"
      ]
     },
     "metadata": {},
     "output_type": "display_data"
    },
    {
     "data": {
      "text/plain": [
       "<matplotlib.image.AxesImage at 0x2b42e325b910>"
      ]
     },
     "execution_count": 12,
     "metadata": {},
     "output_type": "execute_result"
    }
   ],
   "source": [
    "plt.figure()\n",
    "plt.imshow(np.nanmean(II,2))"
   ]
  },
  {
   "cell_type": "code",
   "execution_count": null,
   "id": "0b5cc672-ac0b-45e3-8d6b-d3b5009a1d97",
   "metadata": {},
   "outputs": [],
   "source": []
  }
 ],
 "metadata": {
  "kernelspec": {
   "display_name": "HDF5 / Simple Analysis / GPU",
   "language": "python",
   "name": "maxiv-jhub-hpc-kernel-hdf5"
  },
  "language_info": {
   "codemirror_mode": {
    "name": "ipython",
    "version": 3
   },
   "file_extension": ".py",
   "mimetype": "text/x-python",
   "name": "python",
   "nbconvert_exporter": "python",
   "pygments_lexer": "ipython3",
   "version": "3.9.7"
  }
 },
 "nbformat": 4,
 "nbformat_minor": 5
}
