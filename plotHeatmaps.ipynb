{
 "cells": [
  {
   "cell_type": "markdown",
   "id": "2560d227-38cf-4eb5-8c93-197bc50e09d0",
   "metadata": {},
   "source": [
    "# Plot various heatmaps of the integrated data  \n",
    "[**Heatmap with temperature profile**](#temp)  \n",
    "[**Heatmap with correlation matrix**](#corr)  \n",
    "[**Heatmap with deviation from mean**](#mean)  "
   ]
  },
  {
   "cell_type": "code",
   "execution_count": null,
   "id": "ebbc0d2f-758a-4363-9f01-49cdcc1d99da",
   "metadata": {},
   "outputs": [],
   "source": [
    "%matplotlib widget\n",
    "import DanMAX as DM\n",
    "import numpy as np\n",
    "import matplotlib.pyplot as plt\n",
    "import h5py"
   ]
  },
  {
   "cell_type": "code",
   "execution_count": null,
   "id": "f88f93c8-da95-44ba-9e74-e32d560f7c0b",
   "metadata": {},
   "outputs": [],
   "source": [
    "fname = DM.getLatestScan()\n",
    "aname = DM.getAzintFname(fname)\n",
    "with h5py.File(aname,'r') as f:\n",
    "    try:\n",
    "        x = f['q'][:]\n",
    "        Q = True\n",
    "    except KeyError:\n",
    "        x = f['2th'][:]\n",
    "        Q = False\n",
    "    I = f['I'][:]\n",
    "meta = DM.getMetaData(fname)\n",
    "t = meta['time']\n",
    "T = meta['temp']\n",
    "I0 = meta['I0']\n",
    "\n",
    "# normalize\n",
    "I = (I.T/I0).T\n"
   ]
  },
  {
   "cell_type": "markdown",
   "id": "6198a83d-2344-4339-80f2-93e751cee20d",
   "metadata": {},
   "source": [
    "## Plot heatmap with temperature profile <a id='temp'></a>"
   ]
  },
  {
   "cell_type": "code",
   "execution_count": null,
   "id": "88186234-96ab-4ef8-8c0d-3f241c10b429",
   "metadata": {},
   "outputs": [],
   "source": [
    "# initialize figure\n",
    "fig = plt.figure()\n",
    "fig.tight_layout()\n",
    "\n",
    "# initialize grid and subplot with different size-ratios\n",
    "grid = plt.GridSpec(1,2,width_ratios=[5,1]) #rows,columns\n",
    "ax0, ax1 = [fig.add_subplot(gr) for gr in grid]\n",
    "\n",
    "# set shared y-axis\n",
    "ax1.sharey(ax0)\n",
    "\n",
    "# set ticks on right y-axis\n",
    "ax0.tick_params('y',right=True)\n",
    "ax1.tick_params('y',right=True)\n",
    "\n",
    "# remove left ticks labels from second subplot\n",
    "ax1.tick_params('y',labelleft=False)\n",
    "\n",
    "# set title\n",
    "ax0.set_title(DM.getScan_id(fname))\n",
    "\n",
    "# set axis labels\n",
    "if Q:\n",
    "    ax0.set_xlabel('q (A-1)')\n",
    "else:\n",
    "    ax0.set_xlabel('2theta (deg)')\n",
    "ax0.set_ylabel('Time (s)')\n",
    "ax1.set_xlabel('Temperature (K)')\n",
    "\n",
    "# plot heatmap and temperature profile\n",
    "ax0.pcolormesh(x,t,I, shading='nearest')\n",
    "ax1.plot(T,t,'k')"
   ]
  },
  {
   "cell_type": "markdown",
   "id": "11850f35-fe32-426a-8d9e-2a4f33ac85e6",
   "metadata": {},
   "source": [
    "## Plot heatmap and correlation matrix <a id='corr'></a>"
   ]
  },
  {
   "cell_type": "code",
   "execution_count": null,
   "id": "5e0a532a-634e-4c2f-a084-fa18f05291bb",
   "metadata": {},
   "outputs": [],
   "source": [
    "# calculate correlation matrix\n",
    "corr = np.corrcoef(I)\n",
    "\n",
    "fig, (ax0,ax1) = plt.subplots(1,2)\n",
    "fig.set_figwidth(10)\n",
    "ax0.pcolormesh(x,t,I, shading='nearest')\n",
    "ax1.pcolormesh(t,t,np.abs(corr),shading='nearest', cmap='viridis')#,vmax=1)\n",
    "\n",
    "ax1.set_aspect(1)\n",
    "\n",
    "ax0.set_title('Heatmap')\n",
    "ax1.set_title('Correlation map')\n",
    "if Q:\n",
    "    ax0.set_xlabel('q (A-1)')\n",
    "else:\n",
    "    ax0.set_xlabel('2theta (deg)')\n",
    "ax1.set_xlabel('Time (s)')\n",
    "\n",
    "ax0.set_ylabel('Time (s)')\n",
    "ax1.set_ylabel('Time (s)')\n",
    "\n",
    "fig.tight_layout()"
   ]
  },
  {
   "cell_type": "markdown",
   "id": "5a84abdd-40ff-4a77-9077-ca664fbf69cf",
   "metadata": {},
   "source": [
    "## Plot heatmap and deviation from mean <a id='mean'></a>"
   ]
  },
  {
   "cell_type": "code",
   "execution_count": null,
   "id": "fe118df5-3c50-4f96-ab04-ddbd0ddc22c0",
   "metadata": {},
   "outputs": [],
   "source": [
    "I[I<=0]=np.nan\n",
    "# calculate deviation from mean pattern\n",
    "dev_mean = (I - np.nanmean(I,axis=0))/I*100\n",
    "\n",
    "fig, (ax0,ax1) = plt.subplots(1,2)\n",
    "fig.set_figwidth(10)\n",
    "ax0.pcolormesh(x,t,I, shading='nearest')\n",
    "pcm = ax1.pcolormesh(x,t,dev_mean,shading='nearest', cmap='RdBu_r',vmax=5,vmin=-5)\n",
    "\n",
    "ax0.set_title('Heatmap')\n",
    "ax1.set_title('Deviation from mean')\n",
    "if Q:\n",
    "    ax0.set_xlabel('q (A-1)')\n",
    "    ax1.set_xlabel('q (A-1)')\n",
    "else:\n",
    "    ax0.set_xlabel('2theta (deg)')\n",
    "    ax1.set_xlabel('2theta (deg)')\n",
    "\n",
    "ax0.set_ylabel('Time (s)')\n",
    "ax1.set_ylabel('Time (s)')\n",
    "\n",
    "fig.colorbar(pcm,ax=ax1,label='Deviation (%)')\n",
    "\n",
    "fig.tight_layout()\n"
   ]
  },
  {
   "cell_type": "code",
   "execution_count": null,
   "id": "a8393bc9-4eab-4b9d-b2e3-b91e95ce2475",
   "metadata": {},
   "outputs": [],
   "source": []
  },
  {
   "cell_type": "code",
   "execution_count": null,
   "id": "bf3c1c93-a238-4f3f-a499-1abd03134356",
   "metadata": {},
   "outputs": [],
   "source": []
  }
 ],
 "metadata": {
  "kernelspec": {
   "display_name": "HDF5 / Simple Analysis / GPU",
   "language": "python",
   "name": "maxiv-jhub-docker-kernel-hdf5"
  },
  "language_info": {
   "codemirror_mode": {
    "name": "ipython",
    "version": 3
   },
   "file_extension": ".py",
   "mimetype": "text/x-python",
   "name": "python",
   "nbconvert_exporter": "python",
   "pygments_lexer": "ipython3",
   "version": "3.9.7"
  }
 },
 "nbformat": 4,
 "nbformat_minor": 5
}
