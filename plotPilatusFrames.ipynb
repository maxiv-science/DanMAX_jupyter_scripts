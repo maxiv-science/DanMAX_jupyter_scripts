{
 "cells": [
  {
   "cell_type": "markdown",
   "metadata": {},
   "source": [
    "# Plot PILATUS frames from file\n",
    "Plot the raw data from the PILATUS detector in a simple interactive notebook"
   ]
  },
  {
   "cell_type": "code",
   "execution_count": null,
   "metadata": {},
   "outputs": [],
   "source": [
    "%matplotlib widget\n",
    "import DanMAX as DM\n",
    "import h5py as h5\n",
    "import numpy as np\n",
    "import matplotlib.pyplot as plt\n",
    "from ipywidgets import interact, widgets\n",
    "style = DM.darkMode(style_dic={'figure.figsize':'large'})"
   ]
  },
  {
   "cell_type": "code",
   "execution_count": null,
   "metadata": {},
   "outputs": [],
   "source": [
    "#fname = '/data/visitors/danmax/PROPOSAL/VISIT/raw/scan-XXXX.h5'\n",
    "fname = DM.getLatestScan()\n",
    "#fname = DM.findScan()\n",
    "# import images from the .h5 file\n",
    "with h5.File(fname,'r') as f:\n",
    "    images = f['/entry/instrument/pilatus/data']\n",
    "print('The file contains {} frames'.format(len(images)))\n",
    "\n",
    "# initialize the figure with colorbar and title\n",
    "fig = plt.figure(figsize=(8,6))\n",
    "cb = fig.colorbar(plt.imshow(images[0],norm='log', interpolation='nearest'),label='log(I)')\n",
    "plt.title(f'{DM.getScan_id(fname)}')\n",
    "\n",
    "# make a simple function to update the displayed image \n",
    "def update_img(i=0):\n",
    "    pim = plt.imshow(images[i],norm='log', interpolation='nearest')\n",
    "    # update the colorbar scaling\n",
    "    cb.update_normal(pim)\n",
    "\n",
    "interact(update_img, i=(0,len(images)-1))"
   ]
  }
 ],
 "metadata": {
  "kernelspec": {
   "display_name": "HDF5 / Simple Analysis / GPU",
   "language": "python",
   "name": "maxiv-jhub-docker-kernel-hdf5"
  },
  "language_info": {
   "codemirror_mode": {
    "name": "ipython",
    "version": 3
   },
   "file_extension": ".py",
   "mimetype": "text/x-python",
   "name": "python",
   "nbconvert_exporter": "python",
   "pygments_lexer": "ipython3",
   "version": "3.11.6"
  }
 },
 "nbformat": 4,
 "nbformat_minor": 4
}
