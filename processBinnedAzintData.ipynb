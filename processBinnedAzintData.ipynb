{
 "cells": [
  {
   "cell_type": "markdown",
   "id": "0af660db-2bbe-4bd5-be7a-6c09044cccf3",
   "metadata": {
    "tags": []
   },
   "source": [
    "# How to work with your azimuthally binned data\n",
    "\n",
    "You can use this notebook as inspiration to help you process your azimuthally binned data and quickly prepare plots\n",
    "\n",
    "### Content:\n",
    "[**Import data**](#import)  \n",
    "[**Plot average diffraction pattern**](#plot_pxrd)  \n",
    "[**Plot azimuthal cake**](#plot_cake)  \n",
    "[**Plot azimuthal cake with variable azimuthal steps**](#plot_cake_2)  "
   ]
  },
  {
   "cell_type": "code",
   "execution_count": null,
   "id": "fc4628ed-b8eb-4109-b771-01642f897f23",
   "metadata": {},
   "outputs": [],
   "source": [
    "%matplotlib widget\n",
    "import DanMAX as DM\n",
    "import os\n",
    "import h5py\n",
    "import numpy as np\n",
    "import matplotlib.pyplot as plt\n",
    "print('Current visit directory:')\n",
    "print(f\"'{os.getcwd().split('/scripts')[0]}'\")"
   ]
  },
  {
   "cell_type": "markdown",
   "id": "7439d940-0417-4593-95a4-3f0aeab1b2d7",
   "metadata": {},
   "source": [
    "#### Import data <a id='import'></a>"
   ]
  },
  {
   "cell_type": "code",
   "execution_count": null,
   "id": "34df21c9-629b-4a7b-a230-420cad712be4",
   "metadata": {},
   "outputs": [],
   "source": [
    "# Insert path for the .h5 file - TIP: Use tap for auto-complete\n",
    "#fname = '/data/visitors/danmax/PROPOSAL/VISIT/raw/scan-####.h5'\n",
    "fname = DM.getLatestScan()\n",
    "\n",
    "# get the azimuthally integrated filename from master file name\n",
    "azint_fname = fname.replace('raw', 'process/azint').split('.')[0]+'_bin_integrated.h5'\n",
    "\n",
    "\n",
    "with h5py.File(azint_fname, 'r') as af:\n",
    "    azint_data = af['I'][:]\n",
    "    azint_angle = af['phi'][:]\n",
    "    # Determine if the file is integrated in tth or q\n",
    "    try:\n",
    "        r_unit = af['2th'][:]\n",
    "        tth = True\n",
    "    except KeyError:\n",
    "        r_unit = af['q'][:]\n",
    "        tth = False\n",
    "\n",
    "azint_data[azint_data<=0]= np.nan\n",
    "\n",
    "# read common meta data from the master file\n",
    "meta = DM.getMetaData(fname)\n",
    "#meta_dic = DM.getMetaDic(fname) # extended meta data dictionary\n",
    "t = meta['time'] # relative time stamp in seconds\n",
    "T = meta['temp'] # temperature in Kelvin (if available, otherwise None)\n",
    "I0 = meta['I0']  # relative incident beam intensity \"I zero\"\n",
    "E = meta['energy'] # X-ray energy in keV\n"
   ]
  },
  {
   "cell_type": "markdown",
   "id": "05a5adb6-89f0-4984-a624-b3c0baf31aa3",
   "metadata": {},
   "source": [
    "#### Plot average diffraction pattern <a id='plot_pxrd'></a>"
   ]
  },
  {
   "cell_type": "code",
   "execution_count": null,
   "id": "a4d5a326-5eda-417a-99a3-2dd73444215d",
   "metadata": {},
   "outputs": [],
   "source": [
    "frame = 0\n",
    "plt.figure()\n",
    "plt.suptitle(f'Average diffraction pattern - Frame {frame:5d}')\n",
    "plt.plot(r_unit, np.nanmean(azint_data[frame, :,:],axis=0))\n",
    "plt.ylabel('I [a.u.]')\n",
    "if tth:\n",
    "    plt.xlabel(r'2$\\theta$ [$\\deg$]')\n",
    "else:\n",
    "    plt.xlabel(r'Q [$\\AA^{-1}$]')"
   ]
  },
  {
   "cell_type": "code",
   "execution_count": null,
   "id": "fd6d2df8-e176-4ea6-96ca-584df772146b",
   "metadata": {},
   "outputs": [],
   "source": [
    "def getVmax(im, limit=0.99,bins=1000):\n",
    "    \"\"\"\n",
    "    Return vmax (float) corresponding to the largest value below a defined limit for the cumulative histogram\n",
    "    NB: Should be run prior to initializing the figure, as it closes the current pyplot figure.\n",
    "    \"\"\"\n",
    "    plt.close()\n",
    "    h = plt.hist(im[im>0],bins=bins,density=True,cumulative=True)\n",
    "    vargmax = np.argmax(h[0][h[0]<limit])\n",
    "    plt.close()\n",
    "    return h[1][vargmax]\n",
    "vmax = getVmax(azint_data)"
   ]
  },
  {
   "cell_type": "markdown",
   "id": "a51b0c48-b959-415e-854e-e78342523737",
   "metadata": {},
   "source": [
    "#### Plot azimuthal cake <a id='plot_cake'></a>  \n",
    "Simpel framewise heatmap of the azimuthal cake. Assumes equidistant azimuthal steps."
   ]
  },
  {
   "cell_type": "code",
   "execution_count": null,
   "id": "18e88e43-4d44-4b68-9e4e-4ee30e4a1708",
   "metadata": {},
   "outputs": [],
   "source": [
    "frame = 0\n",
    "# Generate and show the waterfall plot\n",
    "plt.figure()\n",
    "plt.suptitle(f'Azimuthal cake - Frame {frame:5d}')\n",
    "plt.imshow(azint_data[frame,:,:],\n",
    "           extent = [r_unit[0],r_unit[-1],azint_angle[-1],azint_angle[0]],\n",
    "           interpolation = 'Nearest',\n",
    "           aspect = 'auto',\n",
    "           vmin = 0,\n",
    "           vmax = vmax)\n",
    "plt.ylabel(r'Azimuthal angle [$\\deg$]')\n",
    "if tth:\n",
    "    plt.xlabel(r'2$\\theta$ [$\\deg$]')\n",
    "else:\n",
    "    plt.xlabel(r'Q [$\\AA^{-1}$]')"
   ]
  },
  {
   "cell_type": "markdown",
   "id": "b182d6a6-68a4-4a04-bdf8-62afa0a6eb22",
   "metadata": {},
   "source": [
    "#### Plot azimuthal cake with variable azimuthal steps <a id='plot_cake_2'></a>  \n",
    "Simpel framewise heatmap of the azimuthal cake. Allows non-equidistant azimuthal steps."
   ]
  },
  {
   "cell_type": "code",
   "execution_count": null,
   "id": "f0effd1b-539f-42f4-a2c9-bdfb093906ac",
   "metadata": {},
   "outputs": [],
   "source": [
    "frame = 0\n",
    "# Generate and show the waterfall plot\n",
    "plt.figure()\n",
    "plt.suptitle(f'Azimuthal cake - Frame {frame:5d}')\n",
    "plt.pcolormesh(r_unit, azint_angle, azint_data[frame,:,:],\n",
    "               shading = 'Nearest',\n",
    "               vmin = 0,\n",
    "               vmax = vmax,\n",
    "               cmap = 'cividis')\n",
    "plt.ylabel(r'Azimuthal angle [$\\deg$]')\n",
    "if tth:\n",
    "    plt.xlabel(r'2$\\theta$ [$\\deg$]')\n",
    "else:\n",
    "    plt.xlabel(r'Q [$\\AA^{-1}$]')"
   ]
  },
  {
   "cell_type": "code",
   "execution_count": null,
   "id": "e7e79fb0-fd02-4283-9610-58aefcd8a8a8",
   "metadata": {},
   "outputs": [],
   "source": []
  }
 ],
 "metadata": {
  "kernelspec": {
   "display_name": "Python 3 (ipykernel)",
   "language": "python",
   "name": "python3"
  },
  "language_info": {
   "codemirror_mode": {
    "name": "ipython",
    "version": 3
   },
   "file_extension": ".py",
   "mimetype": "text/x-python",
   "name": "python",
   "nbconvert_exporter": "python",
   "pygments_lexer": "ipython3",
   "version": "3.9.12"
  }
 },
 "nbformat": 4,
 "nbformat_minor": 5
}
