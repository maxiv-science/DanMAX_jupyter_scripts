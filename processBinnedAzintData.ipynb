{
 "cells": [
  {
   "cell_type": "markdown",
   "id": "0af660db-2bbe-4bd5-be7a-6c09044cccf3",
   "metadata": {
    "tags": []
   },
   "source": [
    "# How to work with your azimuthally binned data\n",
    "\n",
    "You can use this notebook as inspiration to help you process your azimuthally binned data and quickly prepare plots\n",
    "\n",
    "### Content:\n",
    "[**Import data**](#import)  \n",
    "[**Plot average diffraction pattern**](#plot_pxrd)  \n",
    "[**Plot azimuthal cake**](#plot_cake)  \n",
    "[**Plot azimuthal cake in polar coordinates**](#plot_cake_polar)  "
   ]
  },
  {
   "cell_type": "code",
   "execution_count": null,
   "id": "fc4628ed-b8eb-4109-b771-01642f897f23",
   "metadata": {},
   "outputs": [],
   "source": [
    "%matplotlib widget\n",
    "import DanMAX as DM\n",
    "import os\n",
    "import h5py\n",
    "import numpy as np\n",
    "import matplotlib.pyplot as plt\n",
    "print('Current visit directory:')\n",
    "print(f\"'{os.getcwd().split('/scripts')[0]}'\")"
   ]
  },
  {
   "cell_type": "markdown",
   "id": "7439d940-0417-4593-95a4-3f0aeab1b2d7",
   "metadata": {},
   "source": [
    "#### Import data <a id='import'></a>"
   ]
  },
  {
   "cell_type": "code",
   "execution_count": null,
   "id": "34df21c9-629b-4a7b-a230-420cad712be4",
   "metadata": {},
   "outputs": [],
   "source": [
    "# Insert path for the .h5 file - TIP: Use tap for auto-complete\n",
    "#fname = '/data/visitors/danmax/PROPOSAL/VISIT/raw/scan-####.h5'\n",
    "fname = DM.getLatestScan()\n",
    "#fname = DM.findScan(####)\n",
    "# get the azimuthally integrated filename from master file name\n",
    "azint_fname = fname.replace('raw', 'process/azint_binned').split('.')[0]+'_pilatus_integrated.h5'\n",
    "\n",
    "\n",
    "with h5py.File(azint_fname, 'r') as af:\n",
    "    azint_data = af['I'][:]\n",
    "    azint_angle = af['phi'][:]\n",
    "    # Determine if the file is integrated in tth or q\n",
    "    try:\n",
    "        r_unit = af['2th'][:]\n",
    "        tth = True\n",
    "    except KeyError:\n",
    "        r_unit = af['q'][:]\n",
    "        tth = False\n",
    "    try:\n",
    "        bin_bounds = af['bin_bounds'][:]\n",
    "    except KeyError:\n",
    "        bin_bounds = None\n",
    "azint_data[azint_data<=0]= np.nan\n",
    "\n",
    "# estimate radial unit boundaries\n",
    "r_bounds = r_unit[1:]-np.diff(r_unit)/2\n",
    "r_bounds = np.insert(r_bounds,0,r_unit[0]-np.mean(np.diff(r_unit)/2))\n",
    "r_bounds = np.append(r_bounds,r_unit[-1]+np.mean(np.diff(r_unit)/2))\n",
    "\n",
    "# read common meta data from the master file\n",
    "meta = DM.getMetaData(fname)\n",
    "#meta_dic = DM.getMetaDic(fname) # extended meta data dictionary\n",
    "t = meta['time'] # relative time stamp in seconds\n",
    "T = meta['temp'] # temperature in Kelvin (if available, otherwise None)\n",
    "I0 = meta['I0']  # relative incident beam intensity \"I zero\"\n",
    "E = meta['energy'] # X-ray energy in keV\n"
   ]
  },
  {
   "cell_type": "markdown",
   "id": "05a5adb6-89f0-4984-a624-b3c0baf31aa3",
   "metadata": {},
   "source": [
    "#### Plot average diffraction pattern <a id='plot_pxrd'></a>"
   ]
  },
  {
   "cell_type": "code",
   "execution_count": null,
   "id": "a4d5a326-5eda-417a-99a3-2dd73444215d",
   "metadata": {},
   "outputs": [],
   "source": [
    "frame = 0\n",
    "plt.figure()\n",
    "plt.suptitle(f'Average diffraction pattern - Frame {frame:5d}')\n",
    "plt.plot(r_unit, np.nanmean(azint_data[frame, :,:],axis=0))\n",
    "plt.ylabel('I [a.u.]')\n",
    "if tth:\n",
    "    plt.xlabel(r'2$\\theta$ [$\\deg$]')\n",
    "else:\n",
    "    plt.xlabel(r'Q [$\\AA^{-1}$]')"
   ]
  },
  {
   "cell_type": "markdown",
   "id": "b182d6a6-68a4-4a04-bdf8-62afa0a6eb22",
   "metadata": {},
   "source": [
    "#### Plot azimuthal cake with variable azimuthal steps <a id='plot_cake'></a>  \n",
    "Simpel framewise heatmap of the azimuthal cake. Allows non-equidistant azimuthal steps."
   ]
  },
  {
   "cell_type": "code",
   "execution_count": null,
   "id": "f0effd1b-539f-42f4-a2c9-bdfb093906ac",
   "metadata": {},
   "outputs": [],
   "source": [
    "frame = 0\n",
    "# Generate and show the waterfall plot\n",
    "plt.figure()\n",
    "plt.suptitle(f'Azimuthal cake - Frame {frame:5d}')\n",
    "if type(bin_bounds) == type(None):\n",
    "    plt.pcolormesh(r_unit, azint_angle, azint_data[frame,:,:],\n",
    "                   shading = 'Nearest',\n",
    "                   norm='log')\n",
    "else:\n",
    "    plt.pcolormesh(r_bounds, bin_bounds, azint_data[frame,:,:],\n",
    "                   shading = 'flat',\n",
    "                   norm='log')\n",
    "    plt.yticks(bin_bounds,minor=True)\n",
    "plt.ylabel(r'Azimuthal angle [$\\deg$]')\n",
    "if tth:\n",
    "    plt.xlabel(r'2$\\theta$ [$\\deg$]')\n",
    "else:\n",
    "    plt.xlabel(r'Q [$\\AA^{-1}$]')"
   ]
  },
  {
   "cell_type": "markdown",
   "id": "1e67e3d1-4deb-416b-9645-c8256324f378",
   "metadata": {},
   "source": [
    "#### Plot azimuthal cake in polar coordinates <a id='plot_cake_polar'></a>  \n",
    "Useful for visualizing the azimuthal bins"
   ]
  },
  {
   "cell_type": "code",
   "execution_count": null,
   "id": "e7e79fb0-fd02-4283-9610-58aefcd8a8a8",
   "metadata": {},
   "outputs": [],
   "source": [
    "fig, ax = plt.subplots(subplot_kw={'projection': 'polar'})\n",
    "ax.grid(False)\n",
    "ax.pcolormesh(bin_bounds*np.pi/180, \n",
    "              r_bounds, \n",
    "              azint_data[frame,:,:].T,\n",
    "              shading = 'auto',\n",
    "              norm='log')\n",
    "\n",
    "ax.set_theta_direction('clockwise')\n",
    "ax.set_thetagrids(bin_bounds)\n",
    "ax.set_rgrids([])\n",
    "ax.grid(True)"
   ]
  }
 ],
 "metadata": {
  "kernelspec": {
   "display_name": "Python 3 (ipykernel)",
   "language": "python",
   "name": "python3"
  },
  "language_info": {
   "codemirror_mode": {
    "name": "ipython",
    "version": 3
   },
   "file_extension": ".py",
   "mimetype": "text/x-python",
   "name": "python",
   "nbconvert_exporter": "python",
   "pygments_lexer": "ipython3",
   "version": "3.9.12"
  }
 },
 "nbformat": 4,
 "nbformat_minor": 5
}
