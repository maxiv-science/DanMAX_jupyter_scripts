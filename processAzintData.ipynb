{
 "cells": [
  {
   "cell_type": "markdown",
   "id": "0af660db-2bbe-4bd5-be7a-6c09044cccf3",
   "metadata": {
    "tags": []
   },
   "source": [
    "# How to work with your integrated data\n",
    "\n",
    "You can use this notbook as inspiration to help ypu process your data and quickly prepare plots\n",
    "\n",
    "The only required input for an I vs. tth/q or a simple waterfall plot is the path for the `.h5` master file.\n",
    "\n",
    "### Content:\n",
    "[**Read datafrom the .h5 files**](#read_data)  \n",
    "[**Plot a simple log-scale heatmap with a colorbar**](#plot_heat)  \n",
    "[**Plot a normal diffractogram**](#plot_pxrd)  \n",
    "[**plotting other measurement data**](#plot_meta)  \n",
    "[**Fit a single peak in your diffraction data with a Gaussian function**](#single_peak_fit)  \n",
    "[**Clean up duplicate meta data**](#clean_up)  "
   ]
  },
  {
   "cell_type": "code",
   "execution_count": null,
   "id": "fc4628ed-b8eb-4109-b771-01642f897f23",
   "metadata": {},
   "outputs": [],
   "source": [
    "%matplotlib widget\n",
    "import os\n",
    "import h5py\n",
    "import numpy as np\n",
    "import matplotlib.pyplot as plt\n",
    "import DanMAX as DM\n",
    "print('Current proposal and visit:')\n",
    "print(os.getcwd().split('scripts/')[0][:-7])"
   ]
  },
  {
   "cell_type": "markdown",
   "id": "dd1e5db6-95d7-4fff-984c-c7c7f77617b7",
   "metadata": {},
   "source": [
    "#### Read datafrom the .h5 files <a id='read_data'></a>  \n",
    "The most common meta data is easily read with `DM.getMetaData(fname)`. For an extended meta data dictionary, use `DM.getMetaDic(fname)`  \n",
    "Use `DM.getMetaDic(fname).keys()` to get a list of the available meta data  \n",
    "Use `help(DM.getMetaData)` and `help(DM.getMetaDic)` for more information about reading the meta data"
   ]
  },
  {
   "cell_type": "code",
   "execution_count": null,
   "id": "fe180f2a-acda-4f27-a2a0-5959353ff248",
   "metadata": {},
   "outputs": [],
   "source": [
    "# Insert path for the .h5 file - TIP: Use tap for auto-complete\n",
    "#fname = '/data/visitors/danmax/PROPOSAL/VISIT/raw/SAMPLE/scan-XXXX.h5'\n",
    "fname = DM.getLatestScan('timescan')\n",
    "#fname = DM.findScan(xxxx)\n",
    "\n",
    "# get the azimuthally integrated filename from master file name\n",
    "aname = DM.getAzintFname(fname)\n",
    "\n",
    "# read the integrated data\n",
    "with h5py.File(aname,'r') as af:\n",
    "    try:\n",
    "        x = af['q'][:]\n",
    "        Q = True\n",
    "    except KeyError:\n",
    "        x = af['2th'][:]\n",
    "        Q = False\n",
    "    I = af['I'][:]\n",
    "\n",
    "# read common meta data from the master file\n",
    "meta = DM.getMetaData(fname)\n",
    "#meta_dic = DM.getMetaDic(fname) # extended meta data dictionary\n",
    "t = meta['time'] # relative time stamp in seconds\n",
    "T = meta['temp'] # temperature in Kelvin (if available, otherwise None)\n",
    "I0 = meta['I0']  # relative incident beam intensity \"I zero\"\n",
    "E = meta['energy'] # X-ray energy in keV\n",
    "\n",
    "# normalize the integrated intensity to I0\n",
    "I = (I.T/I0).T"
   ]
  },
  {
   "cell_type": "markdown",
   "id": "b21d4568-bf61-4f7f-b6bd-0014da90d7ad",
   "metadata": {},
   "source": [
    "#### Plot a simple log-scale heatmap with a colorbar <a id='plot_heat'></a>  \n",
    "Plot a heatmap of the integrated intensities as function of time.  \n",
    "Use `xlim` and `ylim` to adjust the plot interval"
   ]
  },
  {
   "cell_type": "code",
   "execution_count": null,
   "id": "597a9f28-fb14-4376-aca4-a903f30261ca",
   "metadata": {},
   "outputs": [],
   "source": [
    "# Generate and show a heatmap\n",
    "fig = plt.figure()\n",
    "fig.tight_layout()\n",
    "# set figure title\n",
    "plt.title(DM.getScan_id(fname))\n",
    "# add ticks to the right axis\n",
    "plt.tick_params('y',right=True)\n",
    "# set axis labels\n",
    "if Q:\n",
    "    plt.xlabel(r'Q [$\\AA^{-1}$]')\n",
    "else:\n",
    "    plt.xlabel(r'2$\\theta$ [$\\deg$]')\n",
    "plt.ylabel('Time (s)')\n",
    "# create plot\n",
    "plt.pcolormesh(x,t,I,shading='nearest',norm='log')\n",
    "plt.colorbar(label='log(I)')\n",
    "\n",
    "# set plot interval\n",
    "plt.xlim(np.min(x[I[0]>0]),x[-1])\n",
    "plt.ylim(t[0],t[-1])"
   ]
  },
  {
   "cell_type": "markdown",
   "id": "978be984-6cef-4818-83c5-be601c1d806d",
   "metadata": {},
   "source": [
    "#### Plot a normal diffractogram <a id='plot_pxrd'></a>"
   ]
  },
  {
   "cell_type": "code",
   "execution_count": null,
   "id": "0e69d2c0-7447-4aa1-a6d1-98d901ed34fc",
   "metadata": {},
   "outputs": [],
   "source": [
    "frame_no = int(I.shape[0]/2) #Some integer - this case half way through\n",
    "plt.figure()\n",
    "# set figure title\n",
    "plt.title(DM.getScan_id(fname))\n",
    "plt.plot(x, I[frame_no, :],'k.-',ms=1,lw=1,label=f'frame: {frame_no}')\n",
    "#plt.plot(x, np.nanmean(I,axis=0),'k--',lw=1,label='average pattern')\n",
    "plt.ylabel('I [a.u.]')\n",
    "if Q:\n",
    "    plt.xlabel(r'Q [$\\AA^{-1}$]')\n",
    "else:\n",
    "    plt.xlabel(r'2$\\theta$ [$\\deg$]')\n",
    "plt.legend()"
   ]
  },
  {
   "cell_type": "markdown",
   "id": "27175730-7418-43a2-94b0-b3c8ed3a8931",
   "metadata": {},
   "source": [
    "#### Plotting other measurement data <a id='plot_meta'></a>\n",
    "In this example the incident intensity and temperature from either the LakeShore temperature controller or the cryostream are plotted."
   ]
  },
  {
   "cell_type": "code",
   "execution_count": null,
   "id": "37b2b21e-1578-49b7-9280-341032599737",
   "metadata": {},
   "outputs": [],
   "source": [
    "# initialize a figure with two y-axes\n",
    "fig, ax1 = plt.subplots()\n",
    "# set figure title\n",
    "plt.title(DM.getScan_id(fname))\n",
    "ax2 = ax1.twinx()\n",
    "# set axis labels\n",
    "ax1.set_xlabel('Time (s)')\n",
    "ax1.set_ylabel('Intensity (a.u.)')\n",
    "ax2.set_ylabel('Temperature  (K)')\n",
    "#plot I0\n",
    "ax1.plot(t,I0,'k-',lw=1,label=r'I$_0$')\n",
    "#plot temperature (if available)\n",
    "if type(T)!=type(None):\n",
    "    ax2.plot(t,T,'r-',lw=1,label='Temperature')\n",
    "fig.legend()"
   ]
  },
  {
   "cell_type": "markdown",
   "id": "371ebe5c-9c4a-46a8-b4c9-470a18fe538f",
   "metadata": {},
   "source": [
    "### Fit a single peak in your diffraction data with a Gaussian function <a id='single_peak_fit'></a>\n",
    "\n",
    "This will only work (well) with one peak in the window defined using the region of interest `ROI = [lower,upper]`  \n",
    "The ROI should be defined in the scattering unit (2theta/Q)"
   ]
  },
  {
   "cell_type": "code",
   "execution_count": null,
   "id": "3995df11-3d9e-460b-92e4-f4f788a4e87b",
   "metadata": {},
   "outputs": [],
   "source": [
    "# define the approximate region of interest in scattering units\n",
    "roi = [3.4,3.6]\n",
    "roi = [np.argmin(np.abs(x-r)) for r in roi]\n",
    "print(f'Region of interest: {x[roi[0]]:.4f} : {x[roi[1]]:.4f}')\n",
    "\n",
    "# plot the region of interest for the average pattern\n",
    "plt.figure()\n",
    "plt.title(DM.getScan_id(fname))\n",
    "plt.plot(x,np.mean(I,axis=0),'k-',label='average pattern')\n",
    "plt.plot(x[roi[0]:roi[1]],np.mean(I,axis=0)[roi[0]:roi[1]],'r.',label=f'ROI: {x[roi[0]]:.2f} : {x[roi[1]]:.2f}')\n",
    "plt.ylabel('I [a.u.]')\n",
    "if Q:\n",
    "    plt.xlabel(r'Q [$\\AA^{-1}$]')\n",
    "else:\n",
    "    plt.xlabel(r'2$\\theta$ [$\\deg$]')\n",
    "plt.legend()"
   ]
  },
  {
   "cell_type": "markdown",
   "id": "9d5572e9-b1e6-40a0-b897-f0b2619b5aa8",
   "metadata": {},
   "source": [
    "Perform the single-peak fitting for the defined ROI"
   ]
  },
  {
   "cell_type": "code",
   "execution_count": null,
   "id": "7f60f081-89a4-4b28-83b9-3511133b156d",
   "metadata": {},
   "outputs": [],
   "source": [
    "amplitude, position, FWHM, background, I_calc = [],[],[],[],[]\n",
    "for i,y in enumerate(I):\n",
    "    amp,pos,fwhm,bgr,y_calc = DM.singlePeakFit(x[roi[0]:roi[1]],y[roi[0]:roi[1]])\n",
    "    if np.isnan(amp):\n",
    "        print(f'The fit of pattern {i+1} did not converge!' )\n",
    "    amplitude.append(amp)\n",
    "    position.append(pos)\n",
    "    FWHM.append(fwhm)\n",
    "    background.append(bgr)\n",
    "    I_calc.append(y_calc)\n",
    "# convert to numpy arrays\n",
    "amplitude  = np.array(amplitude)\n",
    "position   = np.array(position)\n",
    "FWHM       = np.array(FWHM)\n",
    "background = np.array(background)\n",
    "I_calc     = np.array(I_calc)\n",
    "\n",
    "# compare the average observed peak to the average fitted peak\n",
    "plt.figure()\n",
    "plt.title(DM.getScan_id(fname)+f' - ROI: {x[roi[0]]:.2f} : {x[roi[1]]:.2f}')\n",
    "plt.plot(x[roi[0]:roi[1]],np.mean(I,axis=0)[roi[0]:roi[1]],'k.',label='average observed peak')\n",
    "plt.plot(x[roi[0]:roi[1]],np.nanmean(I_calc,axis=0),label='average fitted peak')\n",
    "plt.ylabel('I [a.u.]')\n",
    "if Q:\n",
    "    plt.xlabel(r'Q [$\\AA^{-1}$]')\n",
    "else:\n",
    "    plt.xlabel(r'2$\\theta$ [$\\deg$]')\n",
    "plt.legend()"
   ]
  },
  {
   "cell_type": "markdown",
   "id": "60d36cf9-6bbd-45c0-a6b2-5d66c177a306",
   "metadata": {},
   "source": [
    "Plot the single-peak fitting results"
   ]
  },
  {
   "cell_type": "code",
   "execution_count": null,
   "id": "461d5f0d-151d-4a7c-800b-ef6d66576baa",
   "metadata": {},
   "outputs": [],
   "source": [
    "fig, axs = plt.subplots(2, 3)\n",
    "fig.suptitle(DM.getScan_id(fname)+f' - ROI: {x[roi[0]]:.2f} : {x[roi[1]]:.2f}')\n",
    "fig.tight_layout()\n",
    "axs[0,0].plot(t,amplitude , label='Amplitude')\n",
    "axs[0,1].plot(t,position  , label='Peak position')\n",
    "axs[1,0].plot(t,background, label='Background')\n",
    "axs[1,1].plot(t,FWHM      , label='FWHM')\n",
    "axs[0,2].plot(t,I0        , label='I0')\n",
    "if type(T) != type(None):\n",
    "    axs[1,2].plot(t,T        , label='Temperature')\n",
    "else:\n",
    "    axs[1,2].plot(0,0         , label='Temperature')\n",
    "for ax in axs.flatten():\n",
    "    ax.set_xlabel('Time (s)')\n",
    "    ax.legend()\n",
    "    ax.set_xlim()"
   ]
  },
  {
   "cell_type": "markdown",
   "id": "9c341b66-0945-40bb-8602-1350be3b3cf8",
   "metadata": {},
   "source": [
    "#### Clean up duplicate meta data <a id='clean_up'></a>\n",
    "In certain fast scans (or in long scans) meta data may be missing or duplicated for several frames.\n",
    "Here is one way to find duplicate values. These may be interpolated to estimate a value for each frame if needed."
   ]
  },
  {
   "cell_type": "code",
   "execution_count": null,
   "id": "ce74d4de-edca-4bf6-9f27-b292b5b4d012",
   "metadata": {},
   "outputs": [],
   "source": [
    "if type(T) != type(None):\n",
    "    T_raw, T_clean  = T.copy(), T.copy()\n",
    "    # set duplicates to nan\n",
    "    T_clean[1:][np.diff(T_raw)==0]=np.nan\n",
    "    # interpolate with respect to the relative time\n",
    "    T_interp = np.interp(t,t[~np.isnan(T_clean)],T_clean[~np.isnan(T_clean)])\n",
    "\n",
    "    plt.figure()\n",
    "    plt.title(DM.getScan_id(fname))\n",
    "    plt.plot(T_raw,'k',lw=1,label='raw')\n",
    "    plt.plot(T_clean,'r--',lw=1,label='clean')\n",
    "    plt.plot(T_interp,'k.',label='interpolated')\n",
    "    plt.xlabel('Time(s)')\n",
    "    plt.ylabel('Temperature (K)')\n",
    "    plt.legend()"
   ]
  },
  {
   "cell_type": "code",
   "execution_count": null,
   "id": "b144d554-078b-42a9-95ae-b3d1c59061b0",
   "metadata": {},
   "outputs": [],
   "source": []
  }
 ],
 "metadata": {
  "kernelspec": {
   "display_name": "HDF5 / Simple Analysis / GPU",
   "language": "python",
   "name": "maxiv-jhub-docker-kernel-hdf5"
  },
  "language_info": {
   "codemirror_mode": {
    "name": "ipython",
    "version": 3
   },
   "file_extension": ".py",
   "mimetype": "text/x-python",
   "name": "python",
   "nbconvert_exporter": "python",
   "pygments_lexer": "ipython3",
   "version": "3.9.7"
  }
 },
 "nbformat": 4,
 "nbformat_minor": 5
}
