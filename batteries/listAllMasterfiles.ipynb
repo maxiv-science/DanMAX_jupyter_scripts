{
 "cells": [
  {
   "cell_type": "markdown",
   "id": "74da31df-5b2d-48be-ab4f-869b6b5f0f8e",
   "metadata": {},
   "source": [
    "# List all *master.h5* files in the current proposal folder\n",
    "Running this notebook will scan the current proposal folder for *master.h5* master files and print the found files as a table  "
   ]
  },
  {
   "cell_type": "code",
   "execution_count": null,
   "id": "1d3faf7d-0f22-45b1-87a8-525659fe5598",
   "metadata": {},
   "outputs": [],
   "source": [
    "import h5py as h5\n",
    "import glob\n",
    "import os\n",
    "\n",
    "def getStartTime(file):\n",
    "    with h5.File(file,'r') as f:\n",
    "        keys = sorted(list(f.keys()))\n",
    "        start_time = f[keys[0]]['start_time'][()].decode('utf-8').replace('T',' ').split('.')[0]\n",
    "    return start_time"
   ]
  },
  {
   "cell_type": "code",
   "execution_count": null,
   "id": "38350511-43c3-46a8-a97b-85a89cb45918",
   "metadata": {},
   "outputs": [],
   "source": [
    "# find all master.h5 files in the raw_path\n",
    "raw_path = os.getcwd().replace('/scripts/batteries','/raw')  # + '/[subfolder]'\n",
    "\n",
    "files = sorted(glob.glob(f'{raw_path}/**/master.h5', recursive=True), key = getStartTime, reverse=False)\n",
    "# files = sorted(glob.glob(f'{raw_path}/**/master.h5', recursive=True), key = os.path.getctime, reverse=True)\n",
    "\n",
    "# get subfolders\n",
    "subfolders = [os.path.dirname(f.split('/raw/')[-1]) for f in files]\n",
    "print(\"The following master.h5 files are in the current proposal:\")\n",
    "print('-'*100)\n",
    "print(f\"{'Start':^19}   {'End':^21}   {'Entries' :^10}   {'Subfolder':<60}\")\n",
    "entries, start_times, end_times = [], [], []\n",
    "for i,file in enumerate(files):\n",
    "    with h5.File(file,'r') as f:\n",
    "        keys = sorted(list(f.keys()))\n",
    "        entries.append(len(keys))\n",
    "        start_times.append(f[keys[0]]['start_time'][()].decode('utf-8').replace('T',' ').split('.')[0])\n",
    "        end_times.append(f[keys[-1]]['end_time'][()].decode('utf-8').replace('T',' ').split('.')[0])\n",
    "    print(f\"{start_times[i]}  :  {end_times[i]}  :  {entries[i]:4d}  :  {subfolders[i]:<30}\")\n",
    "print('-'*100)"
   ]
  }
 ],
 "metadata": {
  "kernelspec": {
   "display_name": "HDF5 / Simple Analysis / GPU",
   "language": "python",
   "name": "maxiv-jhub-docker-kernel-hdf5"
  },
  "language_info": {
   "codemirror_mode": {
    "name": "ipython",
    "version": 3
   },
   "file_extension": ".py",
   "mimetype": "text/x-python",
   "name": "python",
   "nbconvert_exporter": "python",
   "pygments_lexer": "ipython3",
   "version": "3.11.6"
  }
 },
 "nbformat": 4,
 "nbformat_minor": 5
}
