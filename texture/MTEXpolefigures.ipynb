{
 "cells": [
  {
   "cell_type": "markdown",
   "id": "d9ce51e0-efc6-499f-99d5-26cd17ba74db",
   "metadata": {},
   "source": [
    "# Matlab script for MTEX pole figures\n",
    "Make sure to switch to the Matlab jupyter server before running this script.  \n",
    "It might be necessary to download MTEX locally to run `startup.m`."
   ]
  },
  {
   "cell_type": "code",
   "execution_count": null,
   "id": "1dd5d9ef-ccef-4523-8c55-33d73a2048c7",
   "metadata": {},
   "outputs": [],
   "source": [
    "run('/mxn/home/danmax-user/scripts/mtex-5p10p0/startup.m')"
   ]
  },
  {
   "cell_type": "code",
   "execution_count": null,
   "id": "cd050334-0852-453a-b655-dea11611b5a1",
   "metadata": {},
   "outputs": [],
   "source": [
    "%% Specify Crystal and Specimen Symmetries\n",
    "\n",
    "% crystal symmetry\n",
    "CS = crystalSymmetry('m-3m', [4.1 4.1 4.1], 'mineral', 'Silver');\n",
    "\n",
    "% specimen symmetry\n",
    "SS = specimenSymmetry('1');\n",
    "\n",
    "% DanMAX plotting convention\n",
    "setMTEXpref('xAxisDirection','west');\n",
    "setMTEXpref('zAxisDirection','intoPlane');"
   ]
  },
  {
   "cell_type": "markdown",
   "id": "f0f5fc48-1f87-4f6f-b09a-cbb74774f71c",
   "metadata": {},
   "source": [
    "#### Find file names and Miller indices"
   ]
  },
  {
   "cell_type": "code",
   "execution_count": null,
   "id": "7bd88eae-67f8-4945-b447-7c6046a8b0bd",
   "metadata": {},
   "outputs": [],
   "source": [
    "% path to files\n",
    "pname = '/data/visitors/danmax/PROPOSAL/VISIT/';\n",
    "pname = '/data/visitors/danmax/20230160/2023101208/scripts_revised/texture/';\n",
    "% find partialPF files\n",
    "files = dir(strcat(pname,'*partialPF*.txt'));\n",
    "fname = append({files(:).folder},'/' ,{files(:).name});\n",
    "\n",
    "h={};\n",
    "for i = 1:length(fname)\n",
    "    hkl = split(fname{i},'_');\n",
    "    hkl = split(hkl(end),'.');\n",
    "    hkl=hkl(1);\n",
    "    if strlength(hkl) ~= 3;\n",
    "        display(strcat('ambiguous hkl for',fname{i}))\n",
    "        display(sprintf('Please manually add \"h{%d} = Miller(h,k,l,CS)\"',i))\n",
    "        h = [h ;  hkl];\n",
    "    end\n",
    "    h = [h ; {Miller(str2num(hkl{1}(1)),str2num(hkl{1}(2)),str2num(hkl{1}(3)),CS)}];\n",
    "end\n",
    "\n",
    "% h{i} = Miller(h,k,l,CS)"
   ]
  },
  {
   "cell_type": "code",
   "execution_count": null,
   "id": "bcbc91b0-f927-479e-839d-1f9dbd22d446",
   "metadata": {},
   "outputs": [],
   "source": [
    "%% Import the Data\n",
    "\n",
    "% create a Pole Figure variable containing the data\n",
    "pf = PoleFigure.load(fname,h,CS,SS,'interface','generic',...\n",
    "  'ColumnNames', { 'Polar Angle' 'Azimuth Angle' 'Intensity'});"
   ]
  },
  {
   "cell_type": "code",
   "execution_count": null,
   "id": "cc656507-8975-4b0b-9f0a-e4df5a5c9e9e",
   "metadata": {},
   "outputs": [],
   "source": [
    "%% Correct Data\n",
    "\n",
    "rot = rotation.byEuler(180*degree,0*degree,0*degree);\n",
    "pf = rotate(pf,rot);"
   ]
  },
  {
   "cell_type": "code",
   "execution_count": null,
   "id": "558b3382-df6e-44d5-b295-8f698551f36d",
   "metadata": {},
   "outputs": [],
   "source": [
    "%% Estimate ODF\n",
    "odf = calcODF(pf,'silent')\n",
    "calcError(odf,pf)"
   ]
  },
  {
   "cell_type": "markdown",
   "id": "441676eb-32e2-4944-9ed1-4b5de32dbf21",
   "metadata": {},
   "source": [
    "#### Plot experimental pole figures"
   ]
  },
  {
   "cell_type": "code",
   "execution_count": null,
   "id": "75752233-63e0-4786-8da7-338fbd2c21ed",
   "metadata": {},
   "outputs": [],
   "source": [
    "%% Plot reconstructed pole figures\n",
    "figure;\n",
    "set(gcf,'PaperPositionMode','auto');\n",
    "plot(pf);\n",
    "%mtexColorbar;\n",
    "mtexColorMap parula;"
   ]
  },
  {
   "cell_type": "markdown",
   "id": "b7341566-59f1-4d1d-b7ef-eaface5d8622",
   "metadata": {},
   "source": [
    "#### Plot reconstructed pole figures"
   ]
  },
  {
   "cell_type": "code",
   "execution_count": null,
   "id": "1bfad8e8-c3dc-47bd-99fc-c038ec8d3ddf",
   "metadata": {},
   "outputs": [],
   "source": [
    "figure;\n",
    "set(gcf,'PaperPositionMode','auto');\n",
    "plotPDF(odf,pf.h);\n",
    "%mtexColorbar;\n",
    "mtexColorMap parula;"
   ]
  },
  {
   "cell_type": "markdown",
   "id": "ad8ee687-ee46-43c9-8e32-4d5184a9b313",
   "metadata": {},
   "source": [
    "#### Plot absolute difference pole figures"
   ]
  },
  {
   "cell_type": "code",
   "execution_count": null,
   "id": "ae2ca5bc-4246-4bd8-b4a1-5605c059f373",
   "metadata": {},
   "outputs": [],
   "source": [
    "figure;\n",
    "set(gcf,'PaperPositionMode','auto');\n",
    "plotDiff(pf,odf);\n",
    "mtexColorbar;\n",
    "mtexColorMap parula;"
   ]
  },
  {
   "cell_type": "markdown",
   "id": "ca8a6ece-c491-4c27-97f8-fe34805fe146",
   "metadata": {},
   "source": [
    "#### Plot inverse pole figures"
   ]
  },
  {
   "cell_type": "code",
   "execution_count": null,
   "id": "1b4d5b76-cc9e-4cce-89d2-5b3609e0eba0",
   "metadata": {},
   "outputs": [],
   "source": [
    "figure;\n",
    "plotIPDF(odf,[xvector,yvector,zvector]);\n",
    "mtexColorbar;\n",
    "mtexColorMap parula;"
   ]
  }
 ],
 "metadata": {
  "kernelspec": {
   "display_name": "Matlab / GPU",
   "language": "matlab",
   "name": "maxiv-jhub-docker-kernel-matlab"
  },
  "language_info": {
   "codemirror_mode": "octave",
   "file_extension": ".m",
   "help_links": [
    {
     "text": "MetaKernel Magics",
     "url": "https://metakernel.readthedocs.io/en/latest/source/README.html"
    }
   ],
   "mimetype": "text/x-octave",
   "name": "matlab",
   "version": "0.16.11"
  }
 },
 "nbformat": 4,
 "nbformat_minor": 5
}
