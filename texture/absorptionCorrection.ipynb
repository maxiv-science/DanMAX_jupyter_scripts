{
 "cells": [
  {
   "cell_type": "markdown",
   "id": "980e7614-60a4-4350-994f-313271077916",
   "metadata": {},
   "source": [
    "# Absorption correction\n",
    "The transmission (absorption) calculation used here is a home-cooked variation of the equations presented in *He, Bob B. Two-dimensional X-ray Diffraction. John Wiley & Sons, 2018* **p.203-207**.  \n",
    "The beam path length is the sum of the incident and diffracted beam path length:\n",
    "$$ t = \\frac{z}{\\cos{\\eta}} + \\frac{t_0-z}{\\cos{\\zeta}} $$\n",
    "where $t_0$ is the thickness of the (flat) sample, $z$ is the distance from the surface, $\\cos{\\eta}$ is the dot product of incident beam and the sample normal, and $\\cos{\\zeta}$ is the dot product of the diffracted beam and the sample normal. (All vectors are unit vectors)  \n",
    "The transmitted is then the integral of $e^{-\\mu\\cdot t}$ over the sample thickness $t_0$, normalized with the incident path length."
   ]
  },
  {
   "cell_type": "markdown",
   "id": "17127a4a-a208-4935-94db-824a0af70b4a",
   "metadata": {},
   "source": [
    "##### Note on DanMAX coordinate definition  \n",
    "The coordinates are here defined from eulerian angles: ω χ, and φ, using YXY rotations. The laboratory coordinates X<sub>L</sub>, Y<sub>L</sub>, and Z<sub>L</sub> are defined such that Z<sub>L</sub> is along the beam,  Y<sub>L</sub> is vertical with the positive direction upwards and  X<sub>L</sub> is horizontal, pointing away from the ring. Consequently, ω is a rotation in the horizontal plane around Y<sub>L</sub>, χ is a rotation around the new X<sub>L</sub>', and φ is a rotation around Y<sub>L</sub>''.  \n",
    "Example 1:  \n",
    "A sample normal along the beam has the (x,y,z) coordinates (0,0,1). Rotating ω 90° would result in the new coordinates (x',y',z') = (1,0,0).  \n",
    "Example 2:  \n",
    "A sample normal along the beam rotated along all three angles 90° results in the following new corrdinates: (0,0,1) -> (1,0,0) -> (0,-1,0) -> (0,0,-1)  \n",
    "  \n",
    "NB: while the sample normal in example 2 ends up anti-parallel with the beam, it is *not* the same as a 180° ω-rotation as the sample will also have rotated around the normal. "
   ]
  },
  {
   "cell_type": "code",
   "execution_count": null,
   "id": "3e120bdb-9eb3-44d2-94b2-1c702016cabb",
   "metadata": {},
   "outputs": [],
   "source": [
    "%matplotlib widget\n",
    "import sys\n",
    "import numpy as np\n",
    "import h5py as h5\n",
    "import matplotlib.pyplot as plt\n",
    "#To import DanMAX from the folder above:\n",
    "sys.path.append('../')\n",
    "import DanMAX as DM\n",
    "from DanMAX import texture as tx #.absorptionCorrection1D, absorptionCorrection2D\n",
    "style = DM.darkMode(style_dic={'figure.figsize':'large'})"
   ]
  },
  {
   "cell_type": "markdown",
   "id": "43b99e4b-a706-4f0c-9665-1d5ca42e8659",
   "metadata": {},
   "source": [
    "## 1D absorption correction"
   ]
  },
  {
   "cell_type": "code",
   "execution_count": null,
   "id": "b7178298-18a8-45d6-8253-50aa12593601",
   "metadata": {},
   "outputs": [],
   "source": [
    "fname = DM.findScan()\n",
    "aname = DM.getAzintFname(fname)\n",
    "\n",
    "data = DM.getAzintData(aname)\n",
    "if type(data['q']) != type(None):\n",
    "    x = data['q']\n",
    "    meta = DM.getMetaData(fname)\n",
    "    tth = DM.Q2tth(x,meta['energy'])\n",
    "else:\n",
    "    tth = data['tth']\n",
    "I = data['I']"
   ]
  },
  {
   "cell_type": "code",
   "execution_count": null,
   "id": "e39b2932-15a9-423a-9b78-43ab972c0e48",
   "metadata": {},
   "outputs": [],
   "source": [
    "# user-provided absorption coefficient at the relevant energy\n",
    "mu =  38.31  # cm-1 Fe @35 keV\n",
    "# user-provided sample thickness in mm\n",
    "t0 = 0.2\n",
    "\n",
    "A_1d = tx.absorptionCorrection1D(tth,t0,mu,normalize=True)"
   ]
  },
  {
   "cell_type": "code",
   "execution_count": null,
   "id": "c555f569-89d5-49f8-9e83-61d70e897c93",
   "metadata": {},
   "outputs": [],
   "source": [
    "fig, [ax0,ax1] = plt.subplots(2,sharex=True)\n",
    "ax0.set_title('Normalized absorption correction')\n",
    "ax0.plot(tth,A_1d)\n",
    "\n",
    "ax1.set_title('Average diffraction patterns')\n",
    "ax1.plot(tth,np.mean(I,axis=0),label='Original')\n",
    "ax1.plot(tth,np.mean(I,axis=0)*A_1d,label='Corrected')\n",
    "\n",
    "ax1.legend()\n",
    "ax0.set_ylabel('Correction')\n",
    "ax1.set_xlabel('2theta (deg)')\n",
    "ax1.set_ylabel('Intensity (a.u.)')"
   ]
  },
  {
   "cell_type": "markdown",
   "id": "17693b64-82f4-468c-bfd5-5f8f53848149",
   "metadata": {},
   "source": [
    "## 2D absorption correction\n",
    "Calculate the 2D absorption correction based on the geometry of a user-provided PONI file"
   ]
  },
  {
   "cell_type": "code",
   "execution_count": null,
   "id": "d71f14bc-27ef-45fd-9e83-7627dc990aeb",
   "metadata": {},
   "outputs": [],
   "source": [
    "fname = DM.findScan(400)\n",
    "im = DM.getAverageImage(fname)\n",
    "\n",
    "#with h5.File(fname,'r') as f:\n",
    "#    im = f['/entry/instrument/pilatus/data'][:]"
   ]
  },
  {
   "cell_type": "code",
   "execution_count": null,
   "id": "b5f67279-0547-422f-bf64-677ed535ab4a",
   "metadata": {},
   "outputs": [],
   "source": [
    "# user-provided .poni file path\n",
    "pname = '/data/visitors/danmax/PROPOSAL/VISIT/process/USERPONI.poni'\n",
    "# user-provided absorption coefficient at the relevant energy\n",
    "mu =  38.31  # cm-1 Fe @35 keV\n",
    "# user-provided sample thickness in mm\n",
    "t0 = .2\n",
    "# sample rotation (YXY)\n",
    "omega,chi,phi = 0,0,0\n",
    "\n",
    "A_2d = tx.absorptionCorrection2D(pname,t0,mu,omega,chi,phi,normalize=True)"
   ]
  },
  {
   "cell_type": "code",
   "execution_count": null,
   "id": "373bc5d1-b6bb-45ac-86a5-a7d3270ef179",
   "metadata": {},
   "outputs": [],
   "source": [
    "fig, axes = plt.subplots(1,3,sharex=True,sharey=True)\n",
    "ax0,ax1,ax2 = axes\n",
    "for ax in axes:\n",
    "    ax.grid(False)\n",
    "    ax.set_xticks([])\n",
    "    ax.set_yticks([])\n",
    "\n",
    "ax0.set_title('Absorption correction')\n",
    "ax0.imshow(A_2d)\n",
    "\n",
    "ax1.set_title('Original')\n",
    "cm_og = ax1.imshow(im,norm='log')\n",
    "\n",
    "ax2.set_title('Corrected')\n",
    "cm_corr = ax2.imshow(im*A_2d,norm='log')\n",
    "# set the same color-limits for the two images\n",
    "cm_og.set_clim(cm_corr.get_clim())"
   ]
  }
 ],
 "metadata": {
  "kernelspec": {
   "display_name": "HDF5 / Simple Analysis / GPU",
   "language": "python",
   "name": "maxiv-jhub-docker-kernel-hdf5"
  },
  "language_info": {
   "codemirror_mode": {
    "name": "ipython",
    "version": 3
   },
   "file_extension": ".py",
   "mimetype": "text/x-python",
   "name": "python",
   "nbconvert_exporter": "python",
   "pygments_lexer": "ipython3",
   "version": "3.11.6"
  }
 },
 "nbformat": 4,
 "nbformat_minor": 5
}
