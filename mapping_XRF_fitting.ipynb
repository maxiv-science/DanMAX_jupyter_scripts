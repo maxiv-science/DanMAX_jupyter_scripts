{
 "cells": [
  {
   "cell_type": "markdown",
   "id": "260996d2-98cb-402f-8541-1bcaf35ce386",
   "metadata": {},
   "source": [
    "# Fitting XRF maps\n",
    "\n",
    "This notebook will create and displays fits of mapping scans.\n",
    "The scans can either be single scans, or a set of scans taken across a sample to reduce the sample files.\n",
    "All the scans should be from the same sample and same region, with a small overlap in motor positions.\n",
    "(Basically a set of scans created by the mapping tool for a single region)\n",
    "\n",
    "Note that the scans *must* be given in list form, even if it is a single scan!"
   ]
  },
  {
   "cell_type": "code",
   "execution_count": 1,
   "id": "6966cc4c-8ba5-4403-988a-5e7865af4a88",
   "metadata": {},
   "outputs": [
    {
     "name": "stderr",
     "output_type": "stream",
     "text": [
      "bshuf filter already loaded, skip it.\n"
     ]
    }
   ],
   "source": [
    "#Import necessary libaries\n",
    "\n",
    "%matplotlib widget\n",
    "from xrf_pyMCA_fit import xrfBatch\n",
    "import numpy as np\n",
    "import DanMAX as DM\n",
    "import matplotlib.pyplot as plt\n",
    "import h5py"
   ]
  },
  {
   "cell_type": "code",
   "execution_count": null,
   "id": "36e54f36-bf35-460d-88c6-4cf41528c870",
   "metadata": {},
   "outputs": [],
   "source": [
    "#Select scans to fit, must be a list!!!\n",
    "scan_list = [1,2,3,4,5,6]\n",
    "scan_list = np.arange(636,646)"
   ]
  },
  {
   "cell_type": "code",
   "execution_count": 2,
   "id": "e8be0ab1-16b6-436f-9695-a2f934f701c1",
   "metadata": {},
   "outputs": [],
   "source": [
    "#Define parameters to find the data\n",
    "proposal = None #Default will be collected from the current path\n",
    "visit    = None #Default will be collected from the current path\n",
    "proposal = 20210507\n",
    "visit    = 2021120808\n",
    "\n",
    "\n",
    "sessionpath = None #Default will be f'/data/visitors/danmax/{proposal}/{visit}/'\n",
    "calib_file  = None #Default will be f'{sessionpath}process/pymca_calib.calib'\n",
    "config_file = None #Default will be f'{sessionpath}process/pymca_config.cfg'\n",
    "channel     = 0 #Default is 0\n",
    "detector    = 'falconx' #Default is falconx\n",
    "\n",
    "\n",
    "#Define which files output to save\n",
    "make_elements_h5     = True\n",
    "make_elements_tif    = False\n",
    "make_pymca_h5        = True\n",
    "make_spectrum_fit_h5 = True\n",
    "return_fit_filename  = False\n",
    "\n",
    "#Define the XRF batch fitter\n",
    "fits= xrfBatch(session_path= sessionpath,\n",
    "              scan_list=scan_list,\n",
    "              config_file=config_file,\n",
    "              calib_file=calib_file,\n",
    "              channel=channel,\n",
    "              detector=detector,\n",
    "              proposal=proposal,\n",
    "              visit=visit)"
   ]
  },
  {
   "cell_type": "code",
   "execution_count": 3,
   "id": "c52ea127-c048-481b-83a7-289a7fd26182",
   "metadata": {},
   "outputs": [
    {
     "name": "stdout",
     "output_type": "stream",
     "text": [
      "scan-645 - 10 of 10\r"
     ]
    }
   ],
   "source": [
    "#Load the the data and stitch them if there are multiple scans\n",
    "fits.readData()"
   ]
  },
  {
   "cell_type": "code",
   "execution_count": 4,
   "id": "6eaef6a4-2983-4164-9f26-6ed8c37b7977",
   "metadata": {},
   "outputs": [
    {
     "name": "stdout",
     "output_type": "stream",
     "text": [
      "Writing pymca file: /data/visitors/danmax/20210507/2021120808/process/xrf_fit/club1/scan_0636_to_0645/data/_data_pymca_scan_0636_to_0645_0.h5\n",
      "Generating elemental maps file: fitted_elements_scan_0636_to_0645_0.h5\n",
      "Writing average-spectrum fit file: /data/visitors/danmax/20210507/2021120808/process/xrf_fit/club1/scan_0636_to_0645/spectrum/spectrum_scan_0636_to_0645_0.h5\n"
     ]
    }
   ],
   "source": [
    "#Fit the data and the average spectrum\n",
    "fits.writePymcafile()\n",
    "fits.fitElementsToFile(make_elements_h5,make_elements_tif,return_fit_filename)\n",
    "fits.fitAvgSpectrumToFile()"
   ]
  },
  {
   "cell_type": "markdown",
   "id": "073de1e9-5f9f-41ba-8d74-5388c157897c",
   "metadata": {},
   "source": [
    "## Showing the fitted maps\n",
    "\n",
    "The following code snippits takes the fitted maps from above and plots them as images."
   ]
  },
  {
   "cell_type": "code",
   "execution_count": 10,
   "id": "5783d5ff-9dc4-470b-aff1-ae105db6a4ed",
   "metadata": {},
   "outputs": [],
   "source": [
    "#Define the information needed to plot the fits\n",
    "\n",
    "#Define the h5 file containing the fits. Default is from the file just fitted above.\n",
    "#If another file is neededset it here\n",
    "fits_filename = f'{fits.out_dir_elements}{fits.elem_file_name}.h5'\n",
    "\n",
    "#Define which maps to plot, the lists give the lower and upper limit.\n",
    "maps_to_show = {'Ca_K':[1000, 1800],\n",
    "               'Sr_K': [50, 130],\n",
    "               'Br_K': [2, 14],\n",
    "               'Zn_K': [2, 14],\n",
    "               'Mn_K': [2, 14]}\n",
    "\n",
    "# Set the number of columns for the figure\n",
    "cols = 3 \n",
    "rows = int(len(maps_to_show)/cols) + (len(maps_to_show)%cols!=0)\n",
    "\n",
    "#Set the base path in the h5 fit file to the fit maps\n",
    "h5_fit_path = 'xrf_fits/xrf_fit/results/parameters/'"
   ]
  },
  {
   "cell_type": "code",
   "execution_count": 15,
   "id": "7a87f8cb-2c8a-44c0-a43f-72543e634394",
   "metadata": {},
   "outputs": [
    {
     "data": {
      "application/vnd.jupyter.widget-view+json": {
       "model_id": "c1dd630061c84146b72f84aa621d61b3",
       "version_major": 2,
       "version_minor": 0
      },
      "text/plain": [
       "Canvas(toolbar=Toolbar(toolitems=[('Home', 'Reset original view', 'home', 'home'), ('Back', 'Back to previous …"
      ]
     },
     "metadata": {},
     "output_type": "display_data"
    }
   ],
   "source": [
    "# initialize subplots with shared x- and y-axes\n",
    "fig,axs = plt.subplots(rows,cols,sharex=True,sharey=True)\n",
    "fig.tight_layout()\n",
    "axs = axs.flatten() # flatten the axes list to make it easier to index\n",
    "\n",
    "#Open file containing fitted maps\n",
    "with h5py.File(fits_filename,'r') as fit_file: \n",
    "    for ii,key in enumerate(maps_to_show.keys()):\n",
    "        #Load element specific data\n",
    "        element = fit_file[f'{h5_fit_path}{key}']\n",
    "        ax = axs[ii]\n",
    "        ax.set_title(key)\n",
    "        ax.set_axis_off()\n",
    "        ax.set_aspect('equal')\n",
    "        \n",
    "        #Plot the data with pcolmesh\n",
    "        \n",
    "        ax.pcolormesh(fits.x.reshape(element.shape),\n",
    "                      fits.y.reshape(element.shape),\n",
    "                      element,\n",
    "                      vmin=maps_to_show[key][0],\n",
    "                      vmax=maps_to_show[key][1],\n",
    "                      shading='nearest')\n",
    "        '''\n",
    "        #Use imshow if the \"fits\" variable has been unloaded.\n",
    "        ax.imshow(element,\n",
    "                 vmin=maps_to_show[key][0],\n",
    "                 vmax=maps_to_show[key][1])'''"
   ]
  },
  {
   "cell_type": "code",
   "execution_count": null,
   "id": "81d98bdf-66cd-47fc-86d5-967f6d1712dd",
   "metadata": {},
   "outputs": [],
   "source": []
  }
 ],
 "metadata": {
  "kernelspec": {
   "display_name": "HDF5 / Simple Analysis / GPU",
   "language": "python",
   "name": "maxiv-jhub-hpc-kernel-hdf5"
  },
  "language_info": {
   "codemirror_mode": {
    "name": "ipython",
    "version": 3
   },
   "file_extension": ".py",
   "mimetype": "text/x-python",
   "name": "python",
   "nbconvert_exporter": "python",
   "pygments_lexer": "ipython3",
   "version": "3.9.7"
  }
 },
 "nbformat": 4,
 "nbformat_minor": 5
}
