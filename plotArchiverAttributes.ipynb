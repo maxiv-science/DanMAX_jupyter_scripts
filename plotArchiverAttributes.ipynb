{
 "cells": [
  {
   "cell_type": "markdown",
   "id": "dcf918a2-4bad-4544-8bfd-fef3eb27bbd8",
   "metadata": {},
   "source": [
    "# Plot archiver attributes\n",
    "Example of ways to use the archiver tool"
   ]
  },
  {
   "cell_type": "code",
   "execution_count": null,
   "id": "6e072b9b-7cb0-4a01-a913-00ed8ede8a18",
   "metadata": {},
   "outputs": [],
   "source": [
    "%matplotlib widget\n",
    "import DanMAX as DM\n",
    "import numpy as np\n",
    "from matplotlib import pyplot as plt\n",
    "style = DM.darkMode({'size':'large'})"
   ]
  },
  {
   "cell_type": "markdown",
   "id": "d1b9f0eb-65a8-4c16-8366-09e52662b8fd",
   "metadata": {},
   "source": [
    "#### print available attribute aliases"
   ]
  },
  {
   "cell_type": "code",
   "execution_count": null,
   "id": "0fd80b71-530c-4b1a-86db-d1c5c1b4f2a2",
   "metadata": {},
   "outputs": [],
   "source": [
    "print('Available atrribute aliases:')\n",
    "for attr in DM.archiver.get_attr_aliases():\n",
    "    print(attr)"
   ]
  },
  {
   "cell_type": "code",
   "execution_count": null,
   "id": "b4463013-8ab8-44b8-aece-e11e681327e9",
   "metadata": {},
   "outputs": [],
   "source": [
    "fname = DM.findScan()\n",
    "\n",
    "str_query = 'r3_energy_spread'#'r3_current'\n",
    "archive_dic = DM.archiver.getArchiverData(fname=fname,\n",
    "                                          str_query=str_query,                   # string query - use one of the available aliases or a string\n",
    "                                          interpolate_timestamps=True, # interpolate to the timestamps in the fname .h5 file\n",
    "                                          relative_time=True,          # set t-zero = 0\n",
    "                                         )  \n",
    "\n",
    "meta = DM.getMetaData(fname,relative=True)\n",
    "t = meta['time']\n",
    "I0 = meta['I0']\n",
    "\n",
    "plt.figure()\n",
    "for key in archive_dic:\n",
    "    x,y = archive_dic[key]\n",
    "    plt.plot(x,y/y.max(),'.-',label=key)\n",
    "    plt.plot(t,I0/I0.max(),label='I0')\n",
    "plt.legend()"
   ]
  },
  {
   "cell_type": "code",
   "execution_count": null,
   "id": "a8dca772-4ae7-41ad-b490-a3f133c41215",
   "metadata": {},
   "outputs": [],
   "source": [
    "\n",
    "fname = DM.findScan()\n",
    "\n",
    "str_query = 'b304a-oa04/dia/tco-.*/temperature'\n",
    "archive_dic = DM.archiver.getArchiverData(fname=fname,\n",
    "                                          str_query=str_query,                   # string query - use one of the available aliases or a string\n",
    "                                          interpolate_timestamps=False,# interpolate to the timestamps in the fname .h5 file\n",
    "                                          relative_time=False,          # set t-zero = 0\n",
    "                                         )  \n",
    "\n",
    "plt.figure()\n",
    "for key in archive_dic:\n",
    "    x,y = archive_dic[key]\n",
    "    t = DM.getTimeStamps(x).astype(np.datetime64)\n",
    "    plt.plot(t,y,'.-',label=key)\n",
    "plt.legend()"
   ]
  },
  {
   "cell_type": "markdown",
   "id": "61fdc6c4-94b9-4599-9fb7-efe1044b6bd2",
   "metadata": {},
   "source": [
    "## General usage (Non DanMAX-specific)"
   ]
  },
  {
   "cell_type": "code",
   "execution_count": null,
   "id": "cba1dda8-b421-4ad5-85de-feec42ed54be",
   "metadata": {},
   "outputs": [],
   "source": [
    "import lib.archiver_danmax as archiver"
   ]
  },
  {
   "cell_type": "code",
   "execution_count": null,
   "id": "216e8079-8250-413e-b6ab-736ad3a52dcc",
   "metadata": {},
   "outputs": [],
   "source": [
    "str_query = 'r3-319s2/dia/dcct-01/instantaneouscurrent'\n",
    "database = 'accelerator'\n",
    "start = None # start of the archived time interval (yyyy-mm-ddTHH:MM:SS)\n",
    "end = None   # end of the archived time interval (yyyy-mm-ddTHH:MM:SS)\n",
    "\n",
    "archive_dic = archiver.getArchiverData(str_query=str_query,# string query - use one of the available aliases or a string\n",
    "                                       database=database,\n",
    "                                       start=start,\n",
    "                                       end=end,\n",
    "                                      )  \n",
    "plt.figure()\n",
    "for key in archive_dic:\n",
    "    x,y = archive_dic[key]\n",
    "    t = archiver.getTimeStamps(x).astype(np.datetime64)\n",
    "    plt.plot(t,y,'.-',label=key)\n",
    "plt.xlabel('time')\n",
    "plt.legend()"
   ]
  }
 ],
 "metadata": {
  "kernelspec": {
   "display_name": "HDF5 / Standard Analysis / GPU",
   "language": "python",
   "name": "maxiv-jup-kernel-hdf5"
  },
  "language_info": {
   "codemirror_mode": {
    "name": "ipython",
    "version": 3
   },
   "file_extension": ".py",
   "mimetype": "text/x-python",
   "name": "python",
   "nbconvert_exporter": "python",
   "pygments_lexer": "ipython3",
   "version": "3.11.6"
  }
 },
 "nbformat": 4,
 "nbformat_minor": 5
}
