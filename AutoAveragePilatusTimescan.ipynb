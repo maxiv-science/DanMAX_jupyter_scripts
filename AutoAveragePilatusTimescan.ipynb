{
 "cells": [
  {
   "cell_type": "markdown",
   "id": "af52a692-38a2-4554-9441-754a087d7fdb",
   "metadata": {},
   "source": [
    "# Automatic averaging of pilatus frames in timescans\n",
    "\n",
    "This notebook will routinely look for new files with timescans and average the pilatus frames in each timescan.\n",
    "\n",
    "The averaged frame are saved as `.tiff` images in `/data/visitors/danmax/PROPOSAL/VISIT/process/average/SAMPLE/`\n",
    "\n",
    "The required input is the sample folder where the new files are stored.\n",
    "\n",
    "To stop the process choose `Kernel`>`Restart Kernel and Clear All Outputs...`"
   ]
  },
  {
   "cell_type": "code",
   "execution_count": null,
   "id": "e8581174-61d0-453b-b597-56be532ab389",
   "metadata": {},
   "outputs": [],
   "source": [
    "pname = '/data/visitors/danmax/PROPOSAL/VISIT/raw/SAMPLE/'\n",
    "\n",
    "#------------------------------------------------------------------------\n",
    "\n",
    "%matplotlib widget\n",
    "import os.path\n",
    "import sys\n",
    "import glob\n",
    "import time\n",
    "\n",
    "import h5py\n",
    "import numpy as np\n",
    "\n",
    "import tifffile\n",
    "\n",
    "if not os.path.isdir(pname):\n",
    "    print('The specified directory does not exit - please start the experiment first or check the specified path')\n",
    "    sys.exit(0)\n",
    "\n",
    "#Create folder for data if it does not exist\n",
    "out_path = pname.replace('raw', 'process/average')\n",
    "if not os.path.exists(out_path):\n",
    "    print(f'Creating folder: {out_path}')\n",
    "    os.makedirs(out_path)\n",
    "    \n",
    "while True: \n",
    "    fnames = glob.glob(pname+'/*.h5', recursive=False)\n",
    "    for fname in fnames:\n",
    "        # Do not consider pilatus data files\n",
    "        # Do not consider falconx data files\n",
    "        # Skip if average file exist\n",
    "        if '_pilatus.h5' not in fname and '_falconx.h5' not in fname and not os.path.isfile(fname.split('.')[0].replace('raw', 'process/average')+'_averaged.tiff'): \n",
    "            if os.path.isfile(fname.split('.')[0]+'_pilatus.h5'): # Check only if pilatus data is available \n",
    "                try:\n",
    "                    fh = h5py.File(fname, 'r')\n",
    "                    scanCmd = fh['entry/title'][()].decode('utf-8').split()\n",
    "                    if scanCmd[0] == 'timescan': #Proces only if it is a timescan\n",
    "                        try:\n",
    "                            images = fh['/entry/instrument/pilatus/data']\n",
    "                            avg_img = np.mean(images, axis=0)\n",
    "                            tifffile.imwrite(fname.split('.')[0].replace('raw', 'process/average')+'_averaged.tiff', avg_img[np.newaxis,:].astype(np.float32))\n",
    "                            print(\"Averaged frames saved as {0}\".format(fname.split('.')[0].replace('raw', 'process/average')+'_averaged.tiff'))\n",
    "                        except KeyError:\n",
    "                            pass\n",
    "                except OSError: # Ignore if file is not readable (e.g. while it is being written...)\n",
    "                    pass\n",
    "    # Write output while waiting for next check for new files\n",
    "    for i in range(5):\n",
    "        print(\"Will look for new files in {0} seconds\".format(5-i), end='\\r')\n",
    "        time.sleep(1)"
   ]
  },
  {
   "cell_type": "code",
   "execution_count": null,
   "id": "68d5dadc-1a8e-49d2-9039-5bb4f386b313",
   "metadata": {},
   "outputs": [],
   "source": [
    "\n",
    "#Create a distination folder for data if it does not exist\n",
    "dst = os.getcwd.replace('raw', 'process/average')\n",
    "if not os.path.exists(dst):\n",
    "    print(f'Creating folder: {dst}')\n",
    "    os.makedirs(dst)\n",
    "    \n",
    "scan_type = 'any' # timescan, dscan, ascan, meshct, etc.\n",
    "\n",
    "scans = DM.findAllScans(descending=False)\n",
    "if not scan_type == 'any':\n",
    "    # sort for the specified scan type\n",
    "    scans = [scan for scan in scans if scan_type in DM.getScanType(scan)]\n",
    "# remove scans with already existing average tiff images\n",
    "scans = [scan for scan in scans if not os.path.isfile(scan.replace('raw', 'process/average').replace('.h5','_averaged.tiff' ))]\n",
    "\n",
    "im = DM.getAverageImage(fname)"
   ]
  }
 ],
 "metadata": {
  "kernelspec": {
   "display_name": "HDF5 / Simple Analysis / GPU",
   "language": "python",
   "name": "maxiv-jhub-docker-kernel-hdf5"
  },
  "language_info": {
   "codemirror_mode": {
    "name": "ipython",
    "version": 3
   },
   "file_extension": ".py",
   "mimetype": "text/x-python",
   "name": "python",
   "nbconvert_exporter": "python",
   "pygments_lexer": "ipython3",
   "version": "3.9.7"
  }
 },
 "nbformat": 4,
 "nbformat_minor": 5
}
