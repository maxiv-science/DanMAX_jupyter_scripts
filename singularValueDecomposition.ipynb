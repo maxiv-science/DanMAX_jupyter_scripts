{
 "cells": [
  {
   "cell_type": "markdown",
   "id": "94381106-5132-4d78-b5b9-c476c0354e2c",
   "metadata": {},
   "source": [
    "# Singular value decomposition analysis"
   ]
  },
  {
   "cell_type": "code",
   "execution_count": null,
   "id": "23beba4d-586d-4b98-9f50-6d2541d19cb5",
   "metadata": {},
   "outputs": [],
   "source": [
    "%matplotlib widget\n",
    "import numpy as np\n",
    "import matplotlib.pyplot as plt\n",
    "import DanMAX as DM\n",
    "style = DM.darkMode(style_dic={'size':'large'})"
   ]
  },
  {
   "cell_type": "code",
   "execution_count": null,
   "id": "3e5055fc-b05d-40a7-b654-e8902c4cef4d",
   "metadata": {},
   "outputs": [],
   "source": [
    "# Insert path for the .h5 file - TIP: Use tap for auto-complete\n",
    "#fname = '/data/visitors/danmax/PROPOSAL/VISIT/raw/SAMPLE/scan-XXXX.h5'\n",
    "fname = DM.findScan()\n",
    "\n",
    "# get the azimuthally integrated filename from master file name\n",
    "aname = DM.getAzintFname(fname)\n",
    "\n",
    "# read the integrated data\n",
    "data = DM.getAzintData(aname)\n",
    "if type(data['q']) != type(None):\n",
    "    x = data['q']\n",
    "    Q = True\n",
    "else:\n",
    "    x = data['tth']\n",
    "    Q = False\n",
    "    \n",
    "# read common meta data from the master file\n",
    "meta = DM.getMetaData(fname)\n",
    "\n",
    "# reduce time-resolution to speed up initial analysis\n",
    "rf = 1\n",
    "start = None \n",
    "end =  None\n",
    "data = DM.reduceDic(data,reduction_factor=rf,start=start,end=end)\n",
    "meta = DM.reduceDic(meta,reduction_factor=rf,start=start,end=end)\n",
    "\n",
    "I = data['I']\n",
    "t = meta['time'] # relative time stamp in seconds\n",
    "T = meta['temp'] # temperature in Kelvin (if available, otherwise None)\n",
    "I0 = meta['I0']  # relative incident beam intensity \"I zero\"\n",
    "E = meta['energy'] # X-ray energy in keV\n",
    "\n",
    "# normalize the integrated intensity to I0\n",
    "I = (I.T/I0).T\n",
    "mask = np.nanmean(I,axis=0)>0\n",
    "mask[-50:] = False\n",
    "\n",
    "print(f'Effective time-resolution: {np.mean(np.diff(t)):.2f} s')\n",
    "U, S, Vh = np.linalg.svd(I[:,mask],True)\n",
    "components = np.sum((S/np.sum(S))>0.0005)\n",
    "I_calc = np.matmul(U[:,0:components]*S[0:components],Vh[0:components,:])"
   ]
  },
  {
   "cell_type": "code",
   "execution_count": null,
   "id": "fd6858b8-370c-4d7a-9f35-e4728e6ca7d2",
   "metadata": {},
   "outputs": [],
   "source": [
    "\n",
    "offset = np.arange(0,components,1)\n",
    "print(f'Component sum: {np.sum(S[:components]/np.sum(S)):.2f}')\n",
    "\n",
    "fig, [ax0,ax1,ax2] = plt.subplots(1,3)\n",
    "fig.suptitle(DM.getScan_id(fname))\n",
    "# Time dependent\n",
    "ax0.plot(t,(U[:,0:components]+offset))\n",
    "ax0.set_title('Time dependent')\n",
    "ax0.set_xlabel('Time (s)')\n",
    "ax0.set_ylabel('Component')\n",
    "ax0.invert_yaxis()\n",
    "# Scale\n",
    "for i in range(components):\n",
    "    ax1.plot(i,S[i]/np.sum(S)*100,'.-')\n",
    "ax1.set_title('Scale')\n",
    "ax1.set_xlabel('Component')\n",
    "ax1.set_ylabel('Contribution (%)')\n",
    "\n",
    "# Radial dependent\n",
    "ax2.plot(x[mask],Vh[0:components,:].T+offset)\n",
    "ax2.set_title('Radial dependent')\n",
    "if Q:\n",
    "    ax2.set_xlabel('Q (A-1)')\n",
    "else:\n",
    "    ax2.set_xlabel('2theta (deg)')\n",
    "ax2.set_ylabel('Component')\n",
    "ax2.invert_yaxis()\n",
    "\n",
    "\n",
    "# observed\n",
    "fig, [ax0,ax1] = plt.subplots(1,2,sharex=True,sharey=True)\n",
    "ax0.grid(False), ax1.grid(False)\n",
    "fig.suptitle(DM.getScan_id(fname))\n",
    "ax0.pcolormesh(x[mask],t,I[:,mask],norm='log')\n",
    "ax0.set_title('Observed')\n",
    "ax0.set_xlabel('2theta (deg)')\n",
    "ax0.set_ylabel('Time (s)')\n",
    "\n",
    "# reconstructed\n",
    "ax1.pcolormesh(x[mask],t,I_calc,norm='log')\n",
    "ax1.set_title('Reconstructed')\n",
    "ax1.set_xlabel('2theta (deg)')\n",
    "ax1.set_ylabel('Time (s)')"
   ]
  },
  {
   "cell_type": "code",
   "execution_count": null,
   "id": "6b99b209-6943-483c-ba25-6c78abb936ae",
   "metadata": {},
   "outputs": [],
   "source": []
  }
 ],
 "metadata": {
  "kernelspec": {
   "display_name": "HDF5 / Standard Analysis / GPU",
   "language": "python",
   "name": "maxiv-jhub-docker-kernel-hdf5"
  },
  "language_info": {
   "codemirror_mode": {
    "name": "ipython",
    "version": 3
   },
   "file_extension": ".py",
   "mimetype": "text/x-python",
   "name": "python",
   "nbconvert_exporter": "python",
   "pygments_lexer": "ipython3",
   "version": "3.11.6"
  }
 },
 "nbformat": 4,
 "nbformat_minor": 5
}
