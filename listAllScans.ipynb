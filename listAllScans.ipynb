{
 "cells": [
  {
   "cell_type": "markdown",
   "id": "56a37910-5f9b-4767-a5df-ef2525829f23",
   "metadata": {},
   "source": [
    "# List all files in the current proposal folder\n",
    "Running this notebook will scan the current proposal folder for .h5 master files and print the found files as a table  \n",
    "Use `scan_type` to specify which scan type (timescan, dscan, ascan, etc.) should be listed"
   ]
  },
  {
   "cell_type": "code",
   "execution_count": null,
   "id": "e1fc1a72-6dcb-4a18-b15b-3e96ce6b8ce6",
   "metadata": {},
   "outputs": [],
   "source": [
    "import DanMAX as DM\n",
    "import h5py as h5"
   ]
  },
  {
   "cell_type": "code",
   "execution_count": null,
   "id": "5af58954-8e84-41d2-bc75-e892bf8e90f4",
   "metadata": {},
   "outputs": [],
   "source": [
    "scan_type = 'meshct' # timescan, dscan, ascan, meshct, etc.\n",
    "\n",
    "scans = DM.findAllScans(descending=False)\n",
    "if not scan_type == 'any':\n",
    "    try:\n",
    "        scans = [scan for scan in scans if scan_type in DM.getScanType(scan)]\n",
    "    except OSError:\n",
    "        scans = [scan for scan in scans[:-1] if scan_type in DM.getScanType(scan)]\n",
    "    print(f\"The following '{scan_type}' scans are in the current proposal:\")\n",
    "else:\n",
    "    print(\"The following scans are in the current proposal:\")\n",
    "\n",
    "print(f\"{'Timestamp':^19}   {'Scan name':<60}   {'Scan command' :^30}\")\n",
    "for scan in scans:\n",
    "    try:\n",
    "        with h5.File(scan, 'r') as file:\n",
    "            scanCmd = file['entry/title'][()].decode('utf-8')\n",
    "            startTime = file['entry/start_time'][()].decode('utf-8').replace('T',' ').split('.')[0]\n",
    "        print(f\"{startTime}  :  {scan.split('/raw')[1]:<60}  :  {scanCmd:<30}\")\n",
    "    except OSError:\n",
    "        print(f'{scan} seems to be corrupted!')      \n",
    "print('Done!')"
   ]
  },
  {
   "cell_type": "code",
   "execution_count": null,
   "id": "0ab07f42-463e-491a-92d3-5274ad1eaa49",
   "metadata": {},
   "outputs": [],
   "source": []
  }
 ],
 "metadata": {
  "kernelspec": {
   "display_name": "HDF5 / Standard Analysis / GPU",
   "language": "python",
   "name": "maxiv-jup-kernel-hdf5"
  },
  "language_info": {
   "codemirror_mode": {
    "name": "ipython",
    "version": 3
   },
   "file_extension": ".py",
   "mimetype": "text/x-python",
   "name": "python",
   "nbconvert_exporter": "python",
   "pygments_lexer": "ipython3",
   "version": "3.11.6"
  }
 },
 "nbformat": 4,
 "nbformat_minor": 5
}
