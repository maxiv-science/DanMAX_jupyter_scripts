{
 "cells": [
  {
   "cell_type": "markdown",
   "id": "eb25fcf3-bf10-4c05-b6b3-fd14ed6e0001",
   "metadata": {
    "tags": []
   },
   "source": [
    "# Save a scan as an .xy or .csv file\n",
    "\n",
    "This notebook will save the azimuthally integrated data from a scan into either:\n",
    "* a `.csv` file (each individual frame is saved as a column\n",
    "* a `.xy` file with the mean of all frames (if the `averageData` flag is set)\n",
    "\n",
    "It is also possible to save the meta data to a corresponding `_meta.csv`file (if the `saveMetaData` flag is set)\n",
    "\n",
    "<div class=\"alert alert-block alert-danger\">\n",
    "<b>It is preffered (and more efficient) to work with the .h5 files if possible!</b><br>\n",
    "Exporting the files to .csv more than doubles the filezisize.\n",
    "<br>\n",
    "<br>\n",
    "<b>Do not export single frames from time scans to the MAX IV file system!</b>\n",
    "</div>\n"
   ]
  },
  {
   "cell_type": "code",
   "execution_count": null,
   "id": "a9cfe2c4-e55a-4bb2-bb5c-df78580324bd",
   "metadata": {},
   "outputs": [],
   "source": [
    "import DanMAX as DM\n",
    "import numpy as np\n",
    "import h5py\n",
    "import os"
   ]
  },
  {
   "cell_type": "code",
   "execution_count": null,
   "id": "d169d209-31e7-4089-b336-9e76b7d90ce8",
   "metadata": {},
   "outputs": [],
   "source": [
    "fname = DM.findScan(XXX)\n",
    "saveMetaData = True\n",
    "averageData = True\n",
    "\n",
    "aname = DM.getAzintFname(fname)\n",
    "\n",
    "dst = fname.replace('raw', 'process/csv').replace('.h5', '.csv')\n",
    "if not os.path.exists(os.path.dirname(dst)):\n",
    "    print(f'Creating folder: {os.path.dirname(dst)}')\n",
    "    os.makedirs(os.path.dirname(dst))\n",
    "    \n",
    "with h5py.File(aname,'r') as f:\n",
    "    try:\n",
    "        x = f['q'][:]\n",
    "        Q = True\n",
    "    except KeyError:\n",
    "        x = f['2th'][:]\n",
    "        Q = False\n",
    "    I = f['I'][:]\n",
    "\n",
    "if Q:\n",
    "    header = 'Q/AA^-1'\n",
    "else:\n",
    "    header = '2theta,' + ','.join([str(i+1) for i in range(I.shape[0])])\n",
    "#Stack 2th/Q vector on intensity data and transpose - and write to file\n",
    "if averageData:\n",
    "    np.savetxt(dst.replace('.csv','_mean.xy'), np.vstack((x, np.mean(I, axis=0))).T)\n",
    "else:\n",
    "    np.savetxt(dst, np.vstack((x, I)).T, delimiter=',', fmt= '%.5f',header=header)\n",
    "\n",
    "if saveMetaData:\n",
    "    meta_dic = DM.getMetaDic(fname)\n",
    "    keys = list(meta_dic.keys())\n",
    "    header = ' '.join([f'{key:^24s}' for key in keys])\n",
    "    data = np.array([meta_dic[key] for key in keys]).T\n",
    "    np.savetxt(dst.replace('.csv','_meta.csv'), data, header=header,delimiter=',')"
   ]
  }
 ],
 "metadata": {
  "kernelspec": {
   "display_name": "HDF5 / Simple Analysis / GPU",
   "language": "python",
   "name": "maxiv-jhub-docker-kernel-hdf5"
  },
  "language_info": {
   "codemirror_mode": {
    "name": "ipython",
    "version": 3
   },
   "file_extension": ".py",
   "mimetype": "text/x-python",
   "name": "python",
   "nbconvert_exporter": "python",
   "pygments_lexer": "ipython3",
   "version": "3.10.9"
  }
 },
 "nbformat": 4,
 "nbformat_minor": 5
}
